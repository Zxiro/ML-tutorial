{
 "cells": [
  {
   "cell_type": "markdown",
   "metadata": {},
   "source": [
    "# CIFAR-10 with Keras\n"
   ]
  },
  {
   "cell_type": "markdown",
   "metadata": {},
   "source": [
    "## Keras \n",
    "keras 是一種高階的深度學習工具，由python撰寫，可以使用少量的程式碼來建立深度學習的模型。  \n",
    "keras 在使用上必須配合後端引擎，目前支援如Theano、CNTK和Tensorflow等，目前大多數keras應用都是Tensorflow backend的。  "
   ]
  },
  {
   "cell_type": "markdown",
   "metadata": {},
   "source": [
    "## CIFAR-10\n",
    "\n",
    "CIFAR的全名為Canadian Institute for Advanced Research，是由加拿大政府出資並由多位科學家、工程師收集而成的圖片資料庫。  \n",
    "CIFAR-10由 60000張 32X32 的RGB彩色圖片構成，共10種分類，目前此數據用於競賽上，50000張為訓練資料，10000張為測試資料。  \n",
    "![title](./pic.png)"
   ]
  },
  {
   "cell_type": "markdown",
   "metadata": {},
   "source": [
    "keras提供整理好的CIFAR-10資料，只要透過import就可以拿到切好的training、testing資料。"
   ]
  },
  {
   "cell_type": "code",
   "execution_count": 1,
   "metadata": {},
   "outputs": [
    {
     "name": "stderr",
     "output_type": "stream",
     "text": [
      "Using TensorFlow backend.\n"
     ]
    },
    {
     "name": "stdout",
     "output_type": "stream",
     "text": [
      "Category: [6]\n"
     ]
    },
    {
     "data": {
      "image/png": "[encoded data removed]",
      "text/plain": [
       "<matplotlib.figure.Figure at 0x7fd7c4f3e198>"
      ]
     },
     "metadata": {},
     "output_type": "display_data"
    }
   ],
   "source": [
    "%matplotlib inline\n",
    "\n",
    "import matplotlib\n",
    "import keras\n",
    "from keras.datasets import cifar10\n",
    "\n",
    "(x_train, y_train), (x_test, y_test) = cifar10.load_data()\n",
    "\n",
    "matplotlib.pyplot.imshow(x_train[0])\n",
    "print('Category:', y_train[0])"
   ]
  },
  {
   "cell_type": "markdown",
   "metadata": {},
   "source": [
    "## Keras Model 介紹\n",
    "\n",
    "### Sequential Model\n",
    "Sequential() 是keras中一種常用的model型態，宣告完Sequential()之後可以使用add()函數來將Layer按照順序加入model中，被加入的layer就會依照加入的順序被執行出來。\n",
    "\n",
    "### Dense Layer \n",
    "Dense Layer 就是普通型態的一層神經網路，假設X是輸入資料，則Dense Layer會學習一組參數W和常數b，使得經過這層的輸出等於 W*X + b。  \n",
    "\n",
    "### Convolution Layer \n",
    "Convolution Layer 是使用convolution來實作一層神經網路，有關於convolution的說明見以下網址。    \n",
    "https://goo.gl/MDJbKt  \n",
    "  \n",
    "在影像、圖片應用上，Convolution的表現比普通Dense Layer更為優異。  \n",
    "\n",
    "### MaxPooling\n",
    "Pooling的機制是對眾多圖片的Pixel做篩選，篩選出分類器認為有用的局部特徵(feature)，篩選的機制有很多種，例如該Pixel在該範圍內的平均值、最大、最小值等等，在MaxPooling我們使用的是取局部最大值。"
   ]
  },
  {
   "cell_type": "markdown",
   "metadata": {},
   "source": [
    "## DNN vs CNN\n",
    "以下是兩個類神經網路在CIFAR-10資料上的實作，DNN神經網路如同tensorflow_mnist一樣只使用dense layer來學習cifar-10的圖片。但由於mnist的圖片是黑白且內容較簡單，而cifar-10為彩色且較多元的圖片，所以需要更為複雜的神經網路來做學習。  \n",
    "依照以下的設定，DNN神經網路經過20輪訓練後可以到達約 40% validation_accracy，而CNN神經網路可以達到 50% validation_accuracy。  \n",
    "\n",
    "請更改DNN或是CNN的架構內容來讓模型更精進，可以更改的方式為  \n",
    "1. 更改參數內容  \n",
    "    epochs: 訓練幾輪  \n",
    "    batch_size: 每一個step訓練所使用的資料數量  \n",
    "    learning_rate: 學習的精細度  \n",
    "2. 增加神經網路層數\n",
    "3. 更改神經元數量"
   ]
  },
  {
   "cell_type": "markdown",
   "metadata": {},
   "source": [
    "### DNN神經網路"
   ]
  },
  {
   "cell_type": "code",
   "execution_count": 2,
   "metadata": {},
   "outputs": [
    {
     "name": "stdout",
     "output_type": "stream",
     "text": [
      "Train on 10000 samples, validate on 10000 samples\n",
      "Epoch 1/20\n",
      "10000/10000 [==============================] - 1s 65us/step - loss: 2.1497 - acc: 0.2313 - val_loss: 1.9625 - val_acc: 0.2937\n",
      "Epoch 2/20\n",
      "10000/10000 [==============================] - 1s 53us/step - loss: 1.9202 - acc: 0.3213 - val_loss: 1.9205 - val_acc: 0.3141\n",
      "Epoch 3/20\n",
      "10000/10000 [==============================] - 1s 52us/step - loss: 1.8478 - acc: 0.3513 - val_loss: 1.9064 - val_acc: 0.3112\n",
      "Epoch 4/20\n",
      "10000/10000 [==============================] - 1s 50us/step - loss: 1.8037 - acc: 0.3645 - val_loss: 1.8145 - val_acc: 0.3558\n",
      "Epoch 5/20\n",
      "10000/10000 [==============================] - 1s 51us/step - loss: 1.7615 - acc: 0.3783 - val_loss: 1.8310 - val_acc: 0.3518\n",
      "Epoch 6/20\n",
      "10000/10000 [==============================] - 1s 51us/step - loss: 1.7266 - acc: 0.3926 - val_loss: 1.7837 - val_acc: 0.3695\n",
      "Epoch 7/20\n",
      "10000/10000 [==============================] - 1s 51us/step - loss: 1.7123 - acc: 0.3954 - val_loss: 1.7537 - val_acc: 0.3816\n",
      "Epoch 8/20\n",
      "10000/10000 [==============================] - 1s 51us/step - loss: 1.6844 - acc: 0.4097 - val_loss: 1.7996 - val_acc: 0.3586\n",
      "Epoch 9/20\n",
      "10000/10000 [==============================] - 1s 50us/step - loss: 1.6744 - acc: 0.4085 - val_loss: 1.7654 - val_acc: 0.3782\n",
      "Epoch 10/20\n",
      "10000/10000 [==============================] - 1s 50us/step - loss: 1.6478 - acc: 0.4177 - val_loss: 1.7430 - val_acc: 0.3864\n",
      "Epoch 11/20\n",
      "10000/10000 [==============================] - 1s 50us/step - loss: 1.6307 - acc: 0.4316 - val_loss: 1.7845 - val_acc: 0.3766\n",
      "Epoch 12/20\n",
      "10000/10000 [==============================] - 1s 50us/step - loss: 1.6324 - acc: 0.4268 - val_loss: 1.7995 - val_acc: 0.3544\n",
      "Epoch 13/20\n",
      "10000/10000 [==============================] - 1s 51us/step - loss: 1.6138 - acc: 0.4357 - val_loss: 1.7537 - val_acc: 0.3761\n",
      "Epoch 14/20\n",
      "10000/10000 [==============================] - 1s 52us/step - loss: 1.6081 - acc: 0.4316 - val_loss: 1.7632 - val_acc: 0.3743\n",
      "Epoch 15/20\n",
      "10000/10000 [==============================] - 1s 53us/step - loss: 1.5927 - acc: 0.4394 - val_loss: 1.8661 - val_acc: 0.3654\n",
      "Epoch 16/20\n",
      "10000/10000 [==============================] - 1s 52us/step - loss: 1.6059 - acc: 0.4352 - val_loss: 1.7846 - val_acc: 0.3821\n",
      "Epoch 17/20\n",
      "10000/10000 [==============================] - 1s 51us/step - loss: 1.5675 - acc: 0.4462 - val_loss: 1.7166 - val_acc: 0.3982\n",
      "Epoch 18/20\n",
      "10000/10000 [==============================] - 1s 52us/step - loss: 1.5668 - acc: 0.4472 - val_loss: 1.6959 - val_acc: 0.3974\n",
      "Epoch 19/20\n",
      "10000/10000 [==============================] - 1s 50us/step - loss: 1.5491 - acc: 0.4517 - val_loss: 1.7209 - val_acc: 0.3914\n",
      "Epoch 20/20\n",
      "10000/10000 [==============================] - 1s 51us/step - loss: 1.5241 - acc: 0.4644 - val_loss: 1.7308 - val_acc: 0.3879\n"
     ]
    },
    {
     "data": {
      "text/plain": [
       "<keras.callbacks.History at 0x7fd7762976a0>"
      ]
     },
     "execution_count": 2,
     "metadata": {},
     "output_type": "execute_result"
    }
   ],
   "source": [
    "from keras.utils import to_categorical\n",
    "from keras.models import Sequential\n",
    "from keras.layers import Dense, Conv2D, MaxPooling2D, Dropout, Flatten\n",
    "\n",
    "x_tr_dnn = x_train[:10000].astype('float32')\n",
    "x_te_dnn = x_test.astype('float32')\n",
    "\n",
    "x_tr_dnn = x_tr_dnn.reshape(-1, 3072)\n",
    "x_te_dnn = x_te_dnn.reshape(-1, 3072)\n",
    "\n",
    "x_tr_dnn /= 255\n",
    "x_te_dnn /= 255\n",
    "\n",
    "y_tr_dnn = to_categorical(y_train[:10000], num_classes=10)\n",
    "y_te_dnn = to_categorical(y_test, num_classes=10)\n",
    "\n",
    "#---------------------參數-----------------------------#\n",
    "\n",
    "epochs = 20\n",
    "batch_size = 128 \n",
    "learning_rate = 0.001\n",
    "\n",
    "#------------------------------------------------------#\n",
    "\n",
    "#宣告Sequential model\n",
    "model = Sequential()\n",
    "model.add(Dense(100, activation='relu', input_shape=(3072,)))\n",
    "model.add(Dense(10, activation='softmax'))\n",
    "\n",
    "model.compile(loss='categorical_crossentropy', optimizer='Adam', metrics=['accuracy'])\n",
    "model.fit(x_tr_dnn, y_tr_dnn, batch_size=batch_size, epochs=epochs, shuffle=True, validation_data=(x_te_dnn, y_te_dnn))"
   ]
  },
  {
   "cell_type": "markdown",
   "metadata": {},
   "source": [
    "### CNN神經網路"
   ]
  },
  {
   "cell_type": "code",
   "execution_count": 3,
   "metadata": {},
   "outputs": [
    {
     "name": "stdout",
     "output_type": "stream",
     "text": [
      "Train on 10000 samples, validate on 10000 samples\n",
      "Epoch 1/20\n",
      "10000/10000 [==============================] - 5s 539us/step - loss: 2.0717 - acc: 0.2981 - val_loss: 1.7366 - val_acc: 0.3764\n",
      "Epoch 2/20\n",
      "10000/10000 [==============================] - 5s 518us/step - loss: 1.5755 - acc: 0.4595 - val_loss: 1.5780 - val_acc: 0.4488\n",
      "Epoch 3/20\n",
      "10000/10000 [==============================] - 5s 519us/step - loss: 1.3898 - acc: 0.5234 - val_loss: 1.4887 - val_acc: 0.4756\n",
      "Epoch 4/20\n",
      "10000/10000 [==============================] - 5s 527us/step - loss: 1.2727 - acc: 0.5658 - val_loss: 1.4390 - val_acc: 0.4925\n",
      "Epoch 5/20\n",
      "10000/10000 [==============================] - 5s 524us/step - loss: 1.1770 - acc: 0.5979 - val_loss: 1.4038 - val_acc: 0.5067\n",
      "Epoch 6/20\n",
      "10000/10000 [==============================] - 5s 525us/step - loss: 1.0991 - acc: 0.6275 - val_loss: 1.4087 - val_acc: 0.5033\n",
      "Epoch 7/20\n",
      "10000/10000 [==============================] - 5s 526us/step - loss: 1.0577 - acc: 0.6393 - val_loss: 1.4195 - val_acc: 0.4996\n",
      "Epoch 8/20\n",
      "10000/10000 [==============================] - 5s 525us/step - loss: 0.9865 - acc: 0.6695 - val_loss: 1.3788 - val_acc: 0.5195\n",
      "Epoch 9/20\n",
      "10000/10000 [==============================] - 5s 522us/step - loss: 0.9370 - acc: 0.6862 - val_loss: 1.4141 - val_acc: 0.5045\n",
      "Epoch 10/20\n",
      "10000/10000 [==============================] - 5s 523us/step - loss: 0.8884 - acc: 0.7048 - val_loss: 1.3984 - val_acc: 0.5109\n",
      "Epoch 11/20\n",
      "10000/10000 [==============================] - 5s 527us/step - loss: 0.8710 - acc: 0.7106 - val_loss: 1.4048 - val_acc: 0.5088\n",
      "Epoch 12/20\n",
      "10000/10000 [==============================] - 5s 527us/step - loss: 0.8236 - acc: 0.7304 - val_loss: 1.4016 - val_acc: 0.5204\n",
      "Epoch 13/20\n",
      "10000/10000 [==============================] - 5s 524us/step - loss: 0.7727 - acc: 0.7505 - val_loss: 1.4275 - val_acc: 0.5201\n",
      "Epoch 14/20\n",
      "10000/10000 [==============================] - 5s 528us/step - loss: 0.7307 - acc: 0.7663 - val_loss: 1.4312 - val_acc: 0.5161\n",
      "Epoch 15/20\n",
      "10000/10000 [==============================] - 5s 523us/step - loss: 0.6946 - acc: 0.7797 - val_loss: 1.4477 - val_acc: 0.5219\n",
      "Epoch 16/20\n",
      "10000/10000 [==============================] - 5s 525us/step - loss: 0.6557 - acc: 0.7963 - val_loss: 1.4727 - val_acc: 0.5113\n",
      "Epoch 17/20\n",
      "10000/10000 [==============================] - 5s 525us/step - loss: 0.6213 - acc: 0.8109 - val_loss: 1.5574 - val_acc: 0.5055\n",
      "Epoch 18/20\n",
      "10000/10000 [==============================] - 5s 528us/step - loss: 0.6003 - acc: 0.8170 - val_loss: 1.5103 - val_acc: 0.5169\n",
      "Epoch 19/20\n",
      "10000/10000 [==============================] - 5s 526us/step - loss: 0.5731 - acc: 0.8240 - val_loss: 1.4933 - val_acc: 0.5189\n",
      "Epoch 20/20\n",
      "10000/10000 [==============================] - 6s 577us/step - loss: 0.5396 - acc: 0.8421 - val_loss: 1.5684 - val_acc: 0.5033\n"
     ]
    },
    {
     "data": {
      "text/plain": [
       "<keras.callbacks.History at 0x7fd7677e20b8>"
      ]
     },
     "execution_count": 3,
     "metadata": {},
     "output_type": "execute_result"
    }
   ],
   "source": [
    "from keras.utils import to_categorical\n",
    "from keras.models import Sequential\n",
    "from keras.layers import Dense, Conv2D, MaxPooling2D, Dropout, Flatten\n",
    "\n",
    "x_tr_cnn = x_train[:10000].astype('float32')\n",
    "x_te_cnn = x_test.astype('float32')\n",
    "\n",
    "x_tr_cnn /= 255\n",
    "x_te_cnn /= 255\n",
    "\n",
    "y_tr_cnn = to_categorical(y_train[:10000], num_classes=10)\n",
    "y_te_cnn = to_categorical(y_test, num_classes=10)\n",
    "\n",
    "#---------------------參數-----------------------------#\n",
    "\n",
    "epochs = 20\n",
    "batch_size = 128 \n",
    "learning_rate = 0.001\n",
    "\n",
    "#------------------------------------------------------#\n",
    "\n",
    "\n",
    "#宣告Sequential model\n",
    "model = Sequential()\n",
    "\n",
    "# 一層一層加入Layer\n",
    "# Conv2D的宣告方式為 Conv2D(神經元數量, (Filter size))\n",
    "# keras規定第一層需要宣告input data的size，而CIFAR-10的size為(32, 32, 3)\n",
    "model.add(Conv2D(32, (3, 3), input_shape=(32, 32, 3), activation='relu'))\n",
    "#model.add(MaxPooling2D((2, 2)))\n",
    "\n",
    "#------------------------------------------------------#\n",
    "\n",
    "#--------------請多加幾層 Conv2D or Pooling-------------#\n",
    "\n",
    "#------------------------------------------------------#\n",
    "\n",
    "model.add(Flatten())\n",
    "model.add(Dense(10, activation='softmax'))\n",
    "model.compile(loss='categorical_crossentropy', optimizer='Adam', metrics=['accuracy'])\n",
    "model.fit(x_tr_cnn, y_tr_cnn, batch_size=batch_size, epochs=epochs, shuffle=True, validation_data=(x_te_cnn, y_te_cnn))"
   ]
  },
  {
   "cell_type": "code",
   "execution_count": null,
   "metadata": {},
   "outputs": [],
   "source": []
  }
 ],
 "metadata": {
  "kernelspec": {
   "display_name": "Python 3",
   "language": "python",
   "name": "python3"
  },
  "language_info": {
   "codemirror_mode": {
    "name": "ipython",
    "version": 3
   },
   "file_extension": ".py",
   "mimetype": "text/x-python",
   "name": "python",
   "nbconvert_exporter": "python",
   "pygments_lexer": "ipython3",
   "version": "3.5.2"
  }
 },
 "nbformat": 4,
 "nbformat_minor": 2
}
