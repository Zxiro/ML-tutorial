{
 "cells": [
  {
   "cell_type": "markdown",
   "metadata": {},
   "source": [
    "# AMP Parser"
   ]
  },
  {
   "cell_type": "markdown",
   "metadata": {},
   "source": [
    "## Fasta\n",
    "\n",
    "`.fasta` is the commonest file format to save biomedical information of id and sequence. For a part in `train.fasta` of AMP dataset, we can see that:\n",
    "\n",
    "```\n",
    "...\n",
    ">AP00714\n",
    "GYGCPFNQYQCHSHCSGIRGYKGGYCKGTFKQTCKCY\n",
    ">AP00269\n",
    "LSCKRGTCHFGRCPSHLIKGSCSGG\n",
    "...\n",
    "```\n",
    "\n",
    " - `AP00714` is the id of amino acid\n",
    " - `GYGCPFNQYQCHSHCSGIRGYKGGYCKGTFKQTCKCY` is the sequence of amino acid"
   ]
  },
  {
   "cell_type": "markdown",
   "metadata": {},
   "source": [
    "## One Hot Encoding\n",
    "\n",
    "One hot encoding is a process by which categorical variables are converted into a form that could be provided to ML algorithms to do a better job in prediction.\n",
    "\n",
    "In example, we need to encode the table below:\n",
    "\n",
    "No.    | Weather\n",
    "-------| -------\n",
    "1.     | Sunny\n",
    "2.     | Cloudy\n",
    "3.     | Sunny\n",
    "4.     | Rainy\n",
    "\n",
    "into the table below:\n",
    "\n",
    "No.    |  Sunny |  Cloudy | Rainy |\n",
    "-------|--------|---------|-------|\n",
    "1.     |    1   |    0    |   0   |\n",
    "2.     |    0   |    1    |   0   |\n",
    "3.     |    1   |    0    |   0   |\n",
    "4.     |    0   |    0    |   1   |\n",
    "\n",
    "We are not going to reproduce the algorithm of one-hot encoding, there are several tools that can be used for doing one-hot encoding<br/>\n",
    "In the pratice today, we are using the tools that provided by sklearn."
   ]
  },
  {
   "cell_type": "markdown",
   "metadata": {},
   "source": [
    "## Sklearn OneHotEncoder\n",
    "\n",
    "[Official Manual](https://scikit-learn.org/stable/modules/generated/sklearn.preprocessing.OneHotEncoder.html)\n",
    "\n",
    "We can know how to use this tool in the quick demo below:"
   ]
  },
  {
   "cell_type": "code",
   "execution_count": 1,
   "metadata": {},
   "outputs": [
    {
     "name": "stdout",
     "output_type": "stream",
     "text": [
      "[array([2, 5, 4, 3, 0])]\n",
      "[array([2, 5, 4, 3, 0])]\n"
     ]
    }
   ],
   "source": [
    "## Label Encoding\n",
    "import numpy as np\n",
    "from sklearn.preprocessing import LabelEncoder\n",
    "\n",
    "label = 'ABCDEFG'\n",
    "\n",
    "# use label encoder\n",
    "label_encoder = LabelEncoder()\n",
    "label_encoder.fit(list(label))\n",
    "\n",
    "sequence = 'CFEDA'\n",
    "label_encoded_seq = [label_encoder.transform(list(sequence))]\n",
    "print(label_encoded_seq)\n",
    "\n",
    "# use index\n",
    "encoded_seq = [np.array([label.index(i) for i in sequence])]\n",
    "print(encoded_seq)\n"
   ]
  },
  {
   "cell_type": "code",
   "execution_count": 2,
   "metadata": {},
   "outputs": [
    {
     "name": "stdout",
     "output_type": "stream",
     "text": [
      "type of results: <class 'numpy.ndarray'>\n",
      "result = \n",
      "[[[0. 0. 1. 0. 0. 0. 0.]\n",
      "  [0. 0. 0. 0. 0. 1. 0.]\n",
      "  [0. 0. 0. 0. 1. 0. 0.]\n",
      "  [0. 0. 0. 1. 0. 0. 0.]\n",
      "  [1. 0. 0. 0. 0. 0. 0.]]]\n",
      "\n",
      "type of result[0]: <class 'numpy.ndarray'>\n",
      "results[0] = \n",
      "[[0. 0. 1. 0. 0. 0. 0.]\n",
      " [0. 0. 0. 0. 0. 1. 0.]\n",
      " [0. 0. 0. 0. 1. 0. 0.]\n",
      " [0. 0. 0. 1. 0. 0. 0.]\n",
      " [1. 0. 0. 0. 0. 0. 0.]]\n"
     ]
    }
   ],
   "source": [
    "## One-Hot Encoding\n",
    "from sklearn.preprocessing import OneHotEncoder\n",
    "\n",
    "# make a categories list of list to declay number of classes\n",
    "# in this case, classes = 7 since label = 'ABCDEFG'\n",
    "# categories = [[0, 1, 2, 3, 4, 5, 6]]\n",
    "categories = [list(range(len(label)))]\n",
    "\n",
    "onehot_encoder = OneHotEncoder(sparse=False, categories=categories)\n",
    "encoded_seq = np.array(encoded_seq).reshape(-1, 1)\n",
    "results = np.array([onehot_encoder.fit_transform(encoded_seq)])\n",
    "\n",
    "print('type of results: {}'.format(type(results)))\n",
    "print('result = \\n{}'.format(results))\n",
    "\n",
    "print('\\ntype of result[0]: {}'.format(type(results[0])))\n",
    "print('results[0] = \\n{}'.format(results[0]))\n"
   ]
  },
  {
   "cell_type": "markdown",
   "metadata": {},
   "source": [
    "## Amino Acid Types\n",
    "\n",
    "[source](https://www.compoundchem.com/2014/09/16/aminoacids/)\n",
    "![amino_acid](https://i0.wp.com/www.compoundchem.com/wp-content/uploads/2014/09/20-Common-Amino-Acids-v3.png?w=1338)\n",
    "There are 20 types of common amino acid in protein, the amino acid label sequences is `ACDEFGHIKLMNPQRSTVWY` <br>\n",
    "So the label encoding should follow the label sequence, otherwise the output will not in same."
   ]
  },
  {
   "cell_type": "markdown",
   "metadata": {},
   "source": [
    "## Practice\n",
    "\n",
    "After the demo and introduction above, now we are going to parse our dataset. <br>\n",
    "The goal is below:\n",
    "1. Parse data from `train.fasta`\n",
    "2. Encode the data with OneHotEncoder from Sklearn\n",
    "3. Save the data into a numpy file\n",
    "\n",
    "We have already make a answer numpy file, all you guys need to figure out how to make the result and compare to TA's answer. <br>\n",
    "1. You can use `prepared.show()` to get the correct answer\n",
    "2. You can check the answer by calling `prepared.diff(result)`<br>\n",
    "   It will print out `Correct!` if your result is same as our answer, otherwise it will print out `Something Wrong!`"
   ]
  },
  {
   "cell_type": "code",
   "execution_count": 3,
   "metadata": {
    "scrolled": true
   },
   "outputs": [
    {
     "name": "stdout",
     "output_type": "stream",
     "text": [
      "(1424,)\n",
      "[[0. 0. 0. 0. 0. 0. 0. 0. 0. 0. 0. 0. 0. 0. 0. 1. 0. 0. 0. 0.]\n",
      " [0. 0. 0. 0. 0. 0. 0. 0. 0. 1. 0. 0. 0. 0. 0. 0. 0. 0. 0. 0.]\n",
      " [0. 0. 0. 0. 1. 0. 0. 0. 0. 0. 0. 0. 0. 0. 0. 0. 0. 0. 0. 0.]\n",
      " [0. 0. 0. 0. 0. 0. 0. 0. 0. 0. 0. 0. 0. 0. 0. 1. 0. 0. 0. 0.]\n",
      " [0. 0. 0. 0. 0. 0. 0. 0. 0. 1. 0. 0. 0. 0. 0. 0. 0. 0. 0. 0.]\n",
      " [0. 0. 0. 0. 0. 0. 0. 1. 0. 0. 0. 0. 0. 0. 0. 0. 0. 0. 0. 0.]\n",
      " [0. 0. 0. 0. 0. 0. 0. 0. 1. 0. 0. 0. 0. 0. 0. 0. 0. 0. 0. 0.]\n",
      " [1. 0. 0. 0. 0. 0. 0. 0. 0. 0. 0. 0. 0. 0. 0. 0. 0. 0. 0. 0.]\n",
      " [0. 0. 0. 0. 0. 1. 0. 0. 0. 0. 0. 0. 0. 0. 0. 0. 0. 0. 0. 0.]\n",
      " [1. 0. 0. 0. 0. 0. 0. 0. 0. 0. 0. 0. 0. 0. 0. 0. 0. 0. 0. 0.]\n",
      " [0. 0. 0. 0. 0. 0. 0. 0. 1. 0. 0. 0. 0. 0. 0. 0. 0. 0. 0. 0.]\n",
      " [0. 0. 0. 0. 1. 0. 0. 0. 0. 0. 0. 0. 0. 0. 0. 0. 0. 0. 0. 0.]\n",
      " [0. 0. 0. 0. 0. 0. 0. 0. 0. 1. 0. 0. 0. 0. 0. 0. 0. 0. 0. 0.]\n",
      " [0. 0. 0. 0. 0. 1. 0. 0. 0. 0. 0. 0. 0. 0. 0. 0. 0. 0. 0. 0.]\n",
      " [0. 0. 0. 0. 0. 0. 0. 0. 1. 0. 0. 0. 0. 0. 0. 0. 0. 0. 0. 0.]\n",
      " [0. 0. 0. 0. 0. 0. 0. 0. 0. 0. 0. 1. 0. 0. 0. 0. 0. 0. 0. 0.]\n",
      " [0. 0. 0. 0. 0. 0. 0. 0. 0. 1. 0. 0. 0. 0. 0. 0. 0. 0. 0. 0.]\n",
      " [0. 0. 0. 0. 0. 0. 0. 0. 0. 1. 0. 0. 0. 0. 0. 0. 0. 0. 0. 0.]\n",
      " [0. 0. 0. 0. 0. 0. 0. 0. 1. 0. 0. 0. 0. 0. 0. 0. 0. 0. 0. 0.]\n",
      " [0. 0. 0. 0. 0. 0. 0. 0. 0. 0. 0. 0. 0. 1. 0. 0. 0. 0. 0. 0.]\n",
      " [0. 0. 0. 0. 0. 1. 0. 0. 0. 0. 0. 0. 0. 0. 0. 0. 0. 0. 0. 0.]\n",
      " [1. 0. 0. 0. 0. 0. 0. 0. 0. 0. 0. 0. 0. 0. 0. 0. 0. 0. 0. 0.]\n",
      " [0. 1. 0. 0. 0. 0. 0. 0. 0. 0. 0. 0. 0. 0. 0. 0. 0. 0. 0. 0.]\n",
      " [0. 0. 0. 0. 0. 0. 0. 0. 0. 0. 0. 0. 0. 0. 0. 0. 0. 0. 0. 1.]\n",
      " [1. 0. 0. 0. 0. 0. 0. 0. 0. 0. 0. 0. 0. 0. 0. 0. 0. 0. 0. 0.]\n",
      " [1. 0. 0. 0. 0. 0. 0. 0. 0. 0. 0. 0. 0. 0. 0. 0. 0. 0. 0. 0.]\n",
      " [0. 1. 0. 0. 0. 0. 0. 0. 0. 0. 0. 0. 0. 0. 0. 0. 0. 0. 0. 0.]\n",
      " [0. 0. 0. 0. 0. 0. 0. 0. 1. 0. 0. 0. 0. 0. 0. 0. 0. 0. 0. 0.]\n",
      " [1. 0. 0. 0. 0. 0. 0. 0. 0. 0. 0. 0. 0. 0. 0. 0. 0. 0. 0. 0.]\n",
      " [0. 0. 0. 0. 0. 0. 0. 0. 0. 0. 0. 0. 0. 0. 0. 1. 0. 0. 0. 0.]\n",
      " [0. 0. 0. 0. 0. 0. 0. 0. 1. 0. 0. 0. 0. 0. 0. 0. 0. 0. 0. 0.]\n",
      " [0. 0. 0. 0. 0. 0. 0. 0. 0. 0. 0. 0. 0. 1. 0. 0. 0. 0. 0. 0.]\n",
      " [0. 1. 0. 0. 0. 0. 0. 0. 0. 0. 0. 0. 0. 0. 0. 0. 0. 0. 0. 0.]]\n"
     ]
    }
   ],
   "source": [
    "import sys\n",
    "sys.path.append('.prepared')\n",
    "import prepared as prepared\n",
    "\n",
    "answer = prepared.show()\n",
    "print(answer.shape)\n",
    "print(answer[0])"
   ]
  },
  {
   "cell_type": "code",
   "execution_count": 4,
   "metadata": {},
   "outputs": [
    {
     "name": "stdout",
     "output_type": "stream",
     "text": [
      "Correct!\n"
     ]
    }
   ],
   "source": [
    "prepared.diff(answer)"
   ]
  },
  {
   "cell_type": "markdown",
   "metadata": {},
   "source": [
    "## Start Here"
   ]
  },
  {
   "cell_type": "code",
   "execution_count": null,
   "metadata": {},
   "outputs": [],
   "source": [
    "# TODO: make your own parser\n",
    "\n",
    "# prepared.diff(answer) # un-comment this line once you finised `y_pred`"
   ]
  }
 ],
 "metadata": {
  "kernelspec": {
   "display_name": "Python 3",
   "language": "python",
   "name": "python3"
  },
  "language_info": {
   "codemirror_mode": {
    "name": "ipython",
    "version": 3
   },
   "file_extension": ".py",
   "mimetype": "text/x-python",
   "name": "python",
   "nbconvert_exporter": "python",
   "pygments_lexer": "ipython3",
   "version": "3.6.8"
  }
 },
 "nbformat": 4,
 "nbformat_minor": 2
}
