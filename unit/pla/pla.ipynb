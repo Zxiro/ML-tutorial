{
 "cells": [
  {
   "cell_type": "markdown",
   "metadata": {},
   "source": [
    "# Perceptron Learning Algorithm (PLA) 演算法\n",
    "\n",
    "利用以下準備好的工具，實作 PLA 演算法，演算法細節可以參考維基百科的林軒田老師的[機器學習基石](https://www.youtube.com/watch?v=WlpF1Phkv28&list=PLXVfgk9fNX2I7tB6oIINGBmW50rrmFTqf&index=6)影片。\n",
    "\n",
    "# 二維 PLA 展示\n",
    "\n",
    "執行下方程式碼可以初始化一個二維的示範 PLA 模型："
   ]
  },
  {
   "cell_type": "code",
   "execution_count": null,
   "metadata": {},
   "outputs": [],
   "source": [
    "import sys\n",
    "sys.path.append('.prepared')\n",
    "import pla as prepared\n",
    "\n",
    "prepared.reset()"
   ]
  },
  {
   "cell_type": "markdown",
   "metadata": {},
   "source": [
    "重複執行下方程式碼可以看到該 PLA 模型迭代的過程。收斂後可以執行上方程式碼重置模型狀態。"
   ]
  },
  {
   "cell_type": "code",
   "execution_count": null,
   "metadata": {},
   "outputs": [],
   "source": [
    "prepared.update()"
   ]
  },
  {
   "cell_type": "markdown",
   "metadata": {},
   "source": [
    "## prepared.demo_pla()\n",
    "\n",
    "完整的 PLA 展示，目標就是開發出同樣功能的函式，並使用自己開發的 `pla()` 取代。詳見下方[動手做](#動手做)的程式碼範例。\n",
    "\n",
    "## prepared.reset()\n",
    "\n",
    "重置示範 PLA 模型的狀態。詳見上方[二維PLA 展示](#二維-PLA-展示)的程式碼範例。\n",
    "\n",
    "## prepared.update()\n",
    "\n",
    "更新並繪製示範 PLA 模型。詳見上方[二維 PLA 展示](#二維-PLA-展示)的程式碼範例。\n",
    "\n",
    "# 動手做\n",
    "\n",
    "請完成 `pla()`，並用其取代 `prepared.demo_pla()`。"
   ]
  },
  {
   "cell_type": "code",
   "execution_count": null,
   "metadata": {},
   "outputs": [],
   "source": [
    "import sys\n",
    "sys.path.append('.prepared')\n",
    "import pla as prepared\n",
    "\n",
    "def pla():\n",
    "    # TODO: start coding here... \n",
    "    # the first thing is to read `pla.dat`\n",
    "    f  = open('./pla.dat', 'r')\n",
    "    print(f.read())\n",
    "    \n",
    "prepared.demo_pla()\n",
    "# TODO: comment the above line and un-comment the below line once you finish `pla()`\n",
    "# pla()"
   ]
  }
 ],
 "metadata": {
  "kernelspec": {
   "display_name": "Python 3",
   "language": "python",
   "name": "python3"
  },
  "language_info": {
   "codemirror_mode": {
    "name": "ipython",
    "version": 3
   },
   "file_extension": ".py",
   "mimetype": "text/x-python",
   "name": "python",
   "nbconvert_exporter": "python",
   "pygments_lexer": "ipython3",
   "version": "3.5.2"
  }
 },
 "nbformat": 4,
 "nbformat_minor": 2
}
