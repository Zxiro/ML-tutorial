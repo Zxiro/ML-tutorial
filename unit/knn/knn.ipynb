{
 "cells": [
  {
   "cell_type": "markdown",
   "metadata": {},
   "source": [
    "# k-nearest neighbors (k-NN) 演算法\n",
    "\n",
    "利用以下準備好的工具，實作 k-NN 演算法，演算法細節可以參考維基百科的[最近鄰居法](https://zh.wikipedia.org/wiki/最近鄰居法)。\n",
    "\n",
    "## prepared.demo_knn()\n",
    "\n",
    "完整的 k-NN 展示，目標就是開發出同樣功能的函式，並使用自己開發的 `knn()` 取代。詳見下方[動手做](#動手做)的程式碼範例。\n",
    "\n",
    "## prepared.plot()\n",
    "\n",
    "繪製預設的訓練資料以及使用者給定的測試位置。測試位置為 tuple 型態，例如 (2, 2)。"
   ]
  },
  {
   "cell_type": "code",
   "execution_count": null,
   "metadata": {
    "collapsed": true
   },
   "outputs": [],
   "source": [
    "import sys\n",
    "sys.path.append('.prepared')\n",
    "import knn as prepared\n",
    "\n",
    "te = (2, 2) # try a different position to test\n",
    "prepared.plot(te)"
   ]
  },
  {
   "cell_type": "markdown",
   "metadata": {},
   "source": [
    "## prepared.traning_data\n",
    "\n",
    "預設的訓集資料。"
   ]
  },
  {
   "cell_type": "code",
   "execution_count": null,
   "metadata": {
    "collapsed": true
   },
   "outputs": [],
   "source": [
    "import sys\n",
    "sys.path.append('.prepared')\n",
    "import knn as prepared\n",
    "\n",
    "print(prepared.training_data)"
   ]
  },
  {
   "cell_type": "markdown",
   "metadata": {},
   "source": [
    "## sorted()\n",
    "\n",
    "將輸入的 list 由小到大做排序，回傳排序好的 list。"
   ]
  },
  {
   "cell_type": "code",
   "execution_count": null,
   "metadata": {
    "collapsed": true
   },
   "outputs": [],
   "source": [
    "a = [2, 3, 6, 1, 2.5, 8]\n",
    "print(sorted(a))"
   ]
  },
  {
   "cell_type": "markdown",
   "metadata": {},
   "source": [
    "## sqrt()\n",
    "\n",
    "開根號。"
   ]
  },
  {
   "cell_type": "code",
   "execution_count": null,
   "metadata": {
    "collapsed": true
   },
   "outputs": [],
   "source": [
    "from math import sqrt\n",
    "print(sqrt(2))"
   ]
  },
  {
   "cell_type": "markdown",
   "metadata": {},
   "source": [
    "# 動手做\n",
    "\n",
    "請完成 `knn()`，並用其取代 `prepared.demo_knn()`。"
   ]
  },
  {
   "cell_type": "code",
   "execution_count": null,
   "metadata": {
    "collapsed": true
   },
   "outputs": [],
   "source": [
    "import sys\n",
    "sys.path.append('.prepared')\n",
    "import knn as prepared\n",
    "\n",
    "def knn(tr, te, k):\n",
    "    prepared.plot(tr, te)\n",
    "    # TODO: start coding here...\n",
    "\n",
    "tr = prepared.training_data\n",
    "te = (2, 2) # TODO: try a different position to test\n",
    "k = 5 # TODO: try a different k\n",
    "\n",
    "prepared.demo_knn(tr, te, k)\n",
    "# TODO: comment the above line and un-comment the below line once you finish `knn()`\n",
    "# knn(tr, te, k)"
   ]
  }
 ],
 "metadata": {
  "kernelspec": {
   "display_name": "Python 3",
   "language": "python",
   "name": "python3"
  },
  "language_info": {
   "codemirror_mode": {
    "name": "ipython",
    "version": 3
   },
   "file_extension": ".py",
   "mimetype": "text/x-python",
   "name": "python",
   "nbconvert_exporter": "python",
   "pygments_lexer": "ipython3",
   "version": "3.5.2"
  }
 },
 "nbformat": 4,
 "nbformat_minor": 2
}
