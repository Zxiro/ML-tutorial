{
 "cells": [
  {
   "cell_type": "markdown",
   "metadata": {},
   "source": [
    "# 建構 [UCI German Credit Data](https://onlinecourses.science.psu.edu/stat857/node/215) 分類模型\n",
    "\n",
    " * 該資料集包含 1000 筆貸款資料，其中 700 筆正樣本(credit-worthy)以及 300 筆負樣本(not credit-worthy)。每個樣本有 20 個特徵，其中 17 個類別(categorical)特徵，3 個為數值(numeric)特徵，請參考[特徵的細節](https://onlinecourses.science.psu.edu/stat857/node/222)。\n",
    " * 利用以下準備好的工具，建構分類模型，請參考 [Classifier comparison](http://scikit-learn.org/stable/auto_examples/classification/plot_classifier_comparison.html) 選擇機器學習分類器。\n",
    " \n",
    "## prepared.demo_classifier(x, y)\n",
    "\n",
    "使用給定的特徵(`x`)與類別(`y`)資料建構示範分類器並回傳，詳見下方[示範分類器](#示範分類器)的程式碼範例。\n",
    "\n",
    "## prepared.evaluate(clf, x_train, y_train, x_test, y_test)\n",
    "\n",
    "使用 `x_train`, `y_train`, `x_test`, `y_test` 評估分類器 `clf` 的準確率，詳見下方[示範分類器](#示範分類器)的程式碼範例。\n",
    "\n",
    "## prepared.plot()\n",
    "\n",
    "繪製決策樹模型，詳見下方[動手做](#動手做)的程式碼範例。\n",
    "\n",
    "## prepared.x_train, prepared.y_train, prepared.x_test, prepared.y_test\n",
    "\n",
    "German Credit Data 的資料，依序為訓練特徵、訓練類別、測試特徵、測試類別資料。訓練資料 800 筆，測試資料 200 筆。特徵資料每筆 20 維，類別資料每筆為 `1` 或 `0`，`1` 代表正樣本(credit-worthy)；`0` 代表負樣本(not credit-wortyh)。"
   ]
  },
  {
   "cell_type": "code",
   "execution_count": null,
   "metadata": {},
   "outputs": [],
   "source": [
    "import sys\n",
    "sys.path.append('.prepared')\n",
    "import classification as prepared\n",
    "\n",
    "print(prepared.X_train.shape) # 800 samples, each has 20 features\n",
    "print(prepared.X_train[:3]) # print the first 3 samples, try printe other samples\n",
    "print(prepared.y_train.shape) # 800 samples, each is either `1` or `0`\n",
    "print(prepared.y_train[:3]) # print the first 3 samples, try printe other samples\n",
    "print(prepared.X_test.shape) # 200 samples, each has 20 features\n",
    "print(prepared.y_test.shape) # 200 samples, each is either `1` or `0`"
   ]
  },
  {
   "cell_type": "markdown",
   "metadata": {},
   "source": [
    "# 示範分類器\n",
    "\n",
    "使用訓練資料(`x_train` 與 `y_train`)訓練示範分類器(`demo_clf`)，在訓練資料與測試資料(`x_test` 與 `y_test`)上評估其正確率。請修改下方[動手做](#動手做)的程式碼試著超越這個示範分類器。"
   ]
  },
  {
   "cell_type": "code",
   "execution_count": null,
   "metadata": {},
   "outputs": [],
   "source": [
    "import sys\n",
    "sys.path.append('.prepared')\n",
    "import classification as prepared\n",
    "\n",
    "# train the demo classifier, `demo_clf`, using the training data\n",
    "demo_clf = prepared.demo_classifier(prepared.x_train, prepared.y_train)\n",
    "\n",
    "# evaluate `demo_clf` on the training and test data\n",
    "prepared.evaluate(demo_clf, prepared.x_train, prepared.x_test, prepared.y_train, prepared.y_test)"
   ]
  },
  {
   "cell_type": "markdown",
   "metadata": {},
   "source": [
    "# 動手做\n",
    "\n",
    "修改以下程式碼，試著使用不同的機器學習演算法，建構比示範分類器更好的模型。換句話說，在測試資料上的正確率超過 `0.765`。"
   ]
  },
  {
   "cell_type": "code",
   "execution_count": null,
   "metadata": {
    "scrolled": true
   },
   "outputs": [],
   "source": [
    "import sys\n",
    "sys.path.append('.prepared')\n",
    "import classification as prepared\n",
    "\n",
    "# TODO: import classifiers you want to use\n",
    "from sklearn.tree import DecisionTreeClassifier\n",
    "\n",
    "# TODO: try different classifiers\n",
    "clf = DecisionTreeClassifier(max_depth=2)\n",
    "\n",
    "clf = clf.fit(prepared.X_train, prepared.y_train) # train `clf`\n",
    "prepared.evaluate(clf, prepared.X_train, prepared.X_test, prepared.y_train, prepared.y_test) # evaluate `clf`\n",
    "\n",
    "if 'DecisionTreeClassifier' == type(clf).__name__: # if `clf` is a decision tree\n",
    "    prepared.plot(clf) # plot the decision tree"
   ]
  }
 ],
 "metadata": {
  "kernelspec": {
   "display_name": "Python 3",
   "language": "python",
   "name": "python3"
  },
  "language_info": {
   "codemirror_mode": {
    "name": "ipython",
    "version": 3
   },
   "file_extension": ".py",
   "mimetype": "text/x-python",
   "name": "python",
   "nbconvert_exporter": "python",
   "pygments_lexer": "ipython3",
   "version": "3.5.2"
  }
 },
 "nbformat": 4,
 "nbformat_minor": 2
}
