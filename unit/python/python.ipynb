{
 "cells": [
  {
   "cell_type": "markdown",
   "metadata": {},
   "source": [
    "# Python 基礎教學\n",
    "\n",
    "這邊介紹 python 的變數、迴圈、函數等基本語法。\n",
    "\n",
    "## 1. 變數(variable)\n",
    "\n",
    "變數之所以稱為變數最大的原因是值是可變動的，而與之相對的則稱為常數(constant)，為不可變的。在 python 中可以用 `=` 來設定(assign)變數的值，並使用 `print()` 來印出變數的值。"
   ]
  },
  {
   "cell_type": "code",
   "execution_count": null,
   "metadata": {},
   "outputs": [],
   "source": [
    "# 將變數 a 的值設為 5，在 python 中 5 是一個數值常數\n",
    "a = 5\n",
    "\n",
    "# 印出 a 的值\n",
    "print(a)\n",
    "\n",
    "# 將變數 a 的值設為 0.5\n",
    "a = 0.5\n",
    "print(a)\n",
    "\n",
    "# 將變數 a 的值設為 'abc'，在 python 中 'abc' 是一個字串常數\n",
    "a = 'abc'\n",
    "print(a)\n",
    "\n",
    "# print() 也可以直接印出常數\n",
    "print('Hello World') # 印出 'Hello World' 這個字串常數\n",
    "print(12345) # 印出 12345 這個數值常數\n",
    "\n",
    "# print() 可以同時印出多個變數、常數\n",
    "print('Hello World', a, 12345)"
   ]
  },
  {
   "cell_type": "markdown",
   "metadata": {},
   "source": [
    "### 1.1 型態(type)\n",
    "\n",
    "在 python 中，變數與常數可以進一步被分為不同的形態，以下介紹四種比較常用的型態：\n",
    "\n",
    "1. int：整數\n",
    "2. float：小數\n",
    "3. string：字串\n",
    "4. list：串列\n",
    "\n",
    "可以使用 `type()` 查看型態。\n",
    "\n",
    "#### 1.1.1 int 與 float\n",
    "\n",
    "`int` 與 `float` 都是數值型態，python 提供了許多數學運算。以下是一些範例："
   ]
  },
  {
   "cell_type": "code",
   "execution_count": null,
   "metadata": {},
   "outputs": [],
   "source": [
    "a = 100\n",
    "b = 0.5\n",
    "\n",
    "print(type(a))\n",
    "print(type(b))"
   ]
  },
  {
   "cell_type": "markdown",
   "metadata": {},
   "source": [
    "#### 2.1.2 string\n",
    "string中儲存的就是我們常看到的一串文字，在宣告的時候文字需要用''符號包起來，該變數就會自動被視為string。除了我們常用的英文和中文外，還有許多特殊字元，例如 '\\n' 代表換行符號、 '\\t' 代表TAB，有關特殊字元的詳細介紹可以參考http://www.runoob.com/python/python-strings.html"
   ]
  },
  {
   "cell_type": "code",
   "execution_count": null,
   "metadata": {},
   "outputs": [],
   "source": [
    "str_1 = 'hello'\n",
    "str_2 = 'this is a string'\n",
    "\n",
    "# string的type\n",
    "print('type of str_1:',type(str_1))\n",
    "print('\\n')\n",
    "\n",
    "# '\\n'讓兩個輸出中間空了一行\n",
    "print(str_1)\n",
    "print('\\n')\n",
    "print(str_2)\n"
   ]
  },
  {
   "cell_type": "markdown",
   "metadata": {},
   "source": [
    "#### 2.1.3 list串列\n",
    "用中括號可以建構 list，是 python 中的一種資料型態。建構的方式為將值放入[]中括號內。在list中每一個\"位置\"代表伊格儲存的資料，可以存入int、float、str，list中的型態不須統一。    \n",
    "透過len()這個函式可以顯示list的長度。"
   ]
  },
  {
   "cell_type": "code",
   "execution_count": null,
   "metadata": {},
   "outputs": [],
   "source": [
    "list_1 = ['physics', 'chemistry']\n",
    "list_2 = [1, 2, 3, 4, 5 ]\n",
    "list_3 = [0.5, 1.5, 2.5, 3.5, 4.5]\n",
    "list_4 = ['a', 'b', 1997, 2000]\n",
    "\n",
    "print(list_1, list_2, list_3, list_4)\n",
    "\n",
    "print('length:', len(list_1), len(list_2), len(list_3), len(list_4))"
   ]
  },
  {
   "cell_type": "markdown",
   "metadata": {},
   "source": [
    "若想取出list中某一個位置，則需要宣告所想要取出的值的位置，一樣使用中括號[]來表示。\n",
    "在程式語言中，通常[0]代表第一個位置，[1]代表第二個位置，以此類推。\n",
    "若想取出多個值，則用:代表區間，例如[1:5]就表示第1, 2, 3, 4號(index)的值，對應到的位置為第二、三、四、五個位置。\n",
    "也可以針對某個位置的值用 = (assign) 直接做更改。"
   ]
  },
  {
   "cell_type": "code",
   "execution_count": null,
   "metadata": {},
   "outputs": [],
   "source": [
    "# 取出0的位置\n",
    "value_1 = list_1[0] \n",
    "print('list_1:', list_1)\n",
    "print('index 0 of list_1:', value_1)\n",
    "\n",
    "# 取出某連續位置\n",
    "value_2 = list_2[1:5]\n",
    "print('\\nlist_2:', list_2)\n",
    "print('indexs 1~5 of list_2:', value_2)\n",
    "\n",
    "print('\\n')\n",
    "\n",
    "print('list before assign:', list_4)\n",
    "\n",
    "# 更該list中的內容\n",
    "list_4[0] = 'c'\n",
    "list_4[3] = 1998\n",
    "\n",
    "print('list after assign:', list_4)"
   ]
  },
  {
   "cell_type": "markdown",
   "metadata": {},
   "source": [
    "為了更靈活的使用list來儲存資料，我們可以對現有的list做內容的新增或式刪除。append()這個函式能夠新增資料於現存list的最後一個位置。del 則可以刪除某個位置的值。"
   ]
  },
  {
   "cell_type": "code",
   "execution_count": null,
   "metadata": {},
   "outputs": [],
   "source": [
    "print('Before append:', list_4)\n",
    "\n",
    "# 新增1999至list的最後一個位置\n",
    "list_4.append(1999)\n",
    "\n",
    "print('After append:', list_4)\n",
    "\n",
    "# 將某個指定的位置資料刪除\n",
    "del list_4[0]\n",
    "\n",
    "print('After del:', list_4)"
   ]
  },
  {
   "cell_type": "markdown",
   "metadata": {},
   "source": [
    "### 2.2 變數運算"
   ]
  },
  {
   "cell_type": "markdown",
   "metadata": {},
   "source": [
    "#### 2.2.1 int、float運算\n",
    "int、float的變數和變數或是變數和常數之間可以做加減乘除的運算，以下的範例比較相同型態的運算以及不同型態的運算，由於int和float的運算行為相同，以下只以int作為範例"
   ]
  },
  {
   "cell_type": "code",
   "execution_count": null,
   "metadata": {},
   "outputs": [],
   "source": [
    "# int加減乘除\n",
    "int_1 = 100\n",
    "add = int_1 + 20\n",
    "minus = int_1 - 20\n",
    "mul = int_1 * 20\n",
    "div = int_1 / 20\n",
    "\n",
    "print(add, minus, mul, div)"
   ]
  },
  {
   "cell_type": "code",
   "execution_count": null,
   "metadata": {},
   "outputs": [],
   "source": [
    "# 比較相同型態和不同型態變數的運算差異\n",
    "int_1 = 100\n",
    "int_2 = 50\n",
    "float_1 = 0.5\n",
    "\n",
    "# int + int\n",
    "result_1 = int_1 + int_2\n",
    "print('result_1:', result_1)\n",
    "print('type of result_1:', type(result_1))\n",
    "\n",
    "# int + float\n",
    "result_2 = int_1 + float_1\n",
    "print('\\nresult_2:', result_2)\n",
    "print('type of result_2:', type(result_2))"
   ]
  },
  {
   "cell_type": "markdown",
   "metadata": {},
   "source": [
    "#### 2.2.2 string運算\n",
    "string運算和int、float的行為有些不同，詳見以下範例"
   ]
  },
  {
   "cell_type": "code",
   "execution_count": null,
   "metadata": {},
   "outputs": [],
   "source": [
    "str_1 = 'python is'\n",
    "str_2 = ' nice'\n",
    "\n",
    "add = str_1 + str_2\n",
    "mul = str_2 * 5\n",
    "\n",
    "print('add:', add)\n",
    "print('mul:', mul)"
   ]
  },
  {
   "cell_type": "markdown",
   "metadata": {},
   "source": [
    "#### 2.2.3 list運算\n",
    "list也可以像其他型態變數一樣做加減乘除的運算，其定義跟string的運算有些類似。加法對於兩個list而言是合併(concatenate)的概念，而乘法則是重複N次。"
   ]
  },
  {
   "cell_type": "code",
   "execution_count": null,
   "metadata": {},
   "outputs": [],
   "source": [
    "print('list_1:', list_1)\n",
    "print('list_2:', list_2)\n",
    "\n",
    "add = list_1 + list_2\n",
    "multiply = list_2 * 2\n",
    "\n",
    "print('\\nAdd:', add)\n",
    "print('Multiply', multiply)"
   ]
  },
  {
   "cell_type": "markdown",
   "metadata": {},
   "source": [
    "## 3. For迴圈(For loop)\n",
    "\n",
    "迴圈用於取得含有多個元素的變數，例如可以將 list 變數中的每一個元素依序取出，或是需要重複做某件事情數次。需要被for重複執行的動作需要用 **縮排** 來表示。  \n",
    "\n",
    "以下的範例中，value會等於每一個在list_1中的值，並且將每一個value print出來。"
   ]
  },
  {
   "cell_type": "code",
   "execution_count": null,
   "metadata": {},
   "outputs": [],
   "source": [
    "list_1 = [1, 2, 3, 4, 5]\n",
    "\n",
    "for value in list_1:\n",
    "    print(value)"
   ]
  },
  {
   "cell_type": "markdown",
   "metadata": {},
   "source": [
    "假設今天使用者並不想走完整個list_1的內容，只想取出前三個並相加，那就可以用range()這個函式指定次數。range()會回傳一個連續數字的list，例如: range(3) 就包含了0, 1, 2這三個數字，再將這些數字變成list的位置(index)就可以重複做出指定次數。"
   ]
  },
  {
   "cell_type": "code",
   "execution_count": null,
   "metadata": {},
   "outputs": [],
   "source": [
    "list_1 = [1, 2, 3, 4, 5]\n",
    "\n",
    "for i in range(3):\n",
    "    print('i:', i)\n",
    "    print('value:', list_1[i])\n"
   ]
  },
  {
   "cell_type": "code",
   "execution_count": null,
   "metadata": {},
   "outputs": [],
   "source": [
    "# 用len()和range()來實作for loop第一個範例\n",
    "list_1 = [1, 2, 3, 4, 5]\n",
    "\n",
    "print('length:', len(list_1), '\\n')\n",
    "\n",
    "for i in range(len(list_1)):\n",
    "    print(list_1[i])\n"
   ]
  },
  {
   "cell_type": "markdown",
   "metadata": {},
   "source": [
    "## 4. 條件判斷式 if ... else ...\n",
    "\n",
    "在 if 後面接一個判斷式，條件成立則執行後面的指令，反之則執行 else 後面的指令。敘述條件的時候我們使用 == 表示相等、  > 表示大於、< 表示小於，若條件大於一個可用 **and** 或 **or** 連接，和前述for loop相同，由縮排來決定if下執行的指令。"
   ]
  },
  {
   "cell_type": "code",
   "execution_count": null,
   "metadata": {},
   "outputs": [],
   "source": [
    "# change value of a to see difference\n",
    "a = 11 \n",
    "if a == 10:\n",
    "    print('a is 10')\n",
    "else:\n",
    "    print('a is not 10')"
   ]
  },
  {
   "cell_type": "code",
   "execution_count": null,
   "metadata": {},
   "outputs": [],
   "source": [
    "# change value of b to see difference\n",
    "b = 11 \n",
    "if b > 5 and b < 20 :\n",
    "    print('b is in range')\n",
    "else:\n",
    "    print('b is not in range')"
   ]
  },
  {
   "cell_type": "code",
   "execution_count": null,
   "metadata": {},
   "outputs": [],
   "source": [
    "#change the type of c to see difference\n",
    "c = 'c'\n",
    "\n",
    "if type(c) == str:\n",
    "    print('c is string')\n",
    "    \n",
    "elif type(c) == int:\n",
    "    print('c is int')\n",
    "    \n",
    "elif type(c) == float:\n",
    "    print('c is float')"
   ]
  },
  {
   "cell_type": "markdown",
   "metadata": {},
   "source": [
    "## 5. 函數(Function)\n",
    "\n",
    "函數是一段有特定功能、可以重複使用的程式碼，函數的宣告由def開頭，並且需要帶有()，而任何傳入函數的變數都須放在()中間，函數所包含的內容由縮排決定，並且以 **return** 來結束某個函數。\n",
    "我們在前面所提到的print()、type()、len()都是函數的一種。"
   ]
  },
  {
   "cell_type": "code",
   "execution_count": null,
   "metadata": {},
   "outputs": [],
   "source": [
    "def print_something(thing_to_print): # thing_to_print 目前是一個空殼，代表著當有變數傳進來的時候，thing_to_print會等於那個變數\n",
    "    print(thing_to_print)\n",
    "    return\n",
    "\n",
    "print_something('a') #呼叫函數的名字以及給予input值使用函數\n",
    "print_something(123)"
   ]
  },
  {
   "cell_type": "code",
   "execution_count": null,
   "metadata": {},
   "outputs": [],
   "source": [
    "def print_info(name, age):\n",
    "    print('Name', name)\n",
    "    print('Age:', age)\n",
    "    return\n",
    "    \n",
    "print_info(name='Mike', age=24)"
   ]
  },
  {
   "cell_type": "code",
   "execution_count": null,
   "metadata": {},
   "outputs": [],
   "source": [
    "def multiply(num_1, num_2):\n",
    "    result = num_1 * num_2\n",
    "    \n",
    "    return result\n",
    "\n",
    "mul = multiply(5, 2)\n",
    "print(mul)"
   ]
  }
 ],
 "metadata": {
  "kernelspec": {
   "display_name": "Python 3",
   "language": "python",
   "name": "python3"
  },
  "language_info": {
   "codemirror_mode": {
    "name": "ipython",
    "version": 3
   },
   "file_extension": ".py",
   "mimetype": "text/x-python",
   "name": "python",
   "nbconvert_exporter": "python",
   "pygments_lexer": "ipython3",
   "version": "3.5.2"
  }
 },
 "nbformat": 4,
 "nbformat_minor": 2
}
