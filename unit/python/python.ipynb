{
 "cells": [
  {
   "cell_type": "markdown",
   "metadata": {},
   "source": [
    "# Python 基礎教學\n",
    "\n",
    "這邊介紹 python 的變數、迴圈、函數等基本語法。\n",
    "\n",
    "## 1. 變數(variable)\n",
    "\n",
    "變數之所以稱為變數最大的原因是值是可變動的，而與之相對的則稱為常數(constant)，為不可變的。在 python 中可以用 `=` 來設定(assign)變數的值，並使用 `print()` 來印出變數的值。"
   ]
  },
  {
   "cell_type": "code",
   "execution_count": 1,
   "metadata": {},
   "outputs": [
    {
     "name": "stdout",
     "output_type": "stream",
     "text": [
      "5\n",
      "0.5\n",
      "abc\n",
      "Hello World\n",
      "12345\n",
      "Hello World abc 12345\n"
     ]
    }
   ],
   "source": [
    "# 將變數 a 的值設為 5，在 python 中 5 是一個數值常數\n",
    "a = 5\n",
    "\n",
    "# 印出 a 的值\n",
    "print(a)\n",
    "\n",
    "# 將變數 a 的值設為 0.5\n",
    "a = 0.5\n",
    "print(a)\n",
    "\n",
    "# 將變數 a 的值設為 'abc'，在 python 中 'abc' 是一個字串常數\n",
    "a = 'abc'\n",
    "print(a)\n",
    "\n",
    "# print() 也可以直接印出常數\n",
    "print('Hello World') # 印出 'Hello World' 這個字串常數\n",
    "print(12345) # 印出 12345 這個數值常數\n",
    "\n",
    "# print() 可以同時印出多個變數、常數\n",
    "print('Hello World', a, 12345)"
   ]
  },
  {
   "cell_type": "markdown",
   "metadata": {},
   "source": [
    "### 1.1 型態(type)\n",
    "\n",
    "在 python 中，變數與常數可以進一步被分為不同的形態，以下介紹四種比較常用的型態：\n",
    "\n",
    "1. int：整數\n",
    "2. float：小數\n",
    "3. string：字串\n",
    "4. list：串列\n",
    "\n",
    "可以使用 `type()` 查看型態。\n",
    "\n",
    "#### 1.1.1 int 與 float\n",
    "\n",
    "`int` 與 `float` 都是數值型態，python 提供了許多數學運算。以下是一些範例："
   ]
  },
  {
   "cell_type": "code",
   "execution_count": 2,
   "metadata": {},
   "outputs": [
    {
     "name": "stdout",
     "output_type": "stream",
     "text": [
      "<class 'int'>\n",
      "<class 'float'>\n",
      "\n",
      "120 80 2000 5.0\n",
      "\n",
      "150 <class 'int'>\n",
      "100.5 <class 'float'>\n"
     ]
    }
   ],
   "source": [
    "a = 100\n",
    "b = 0.5\n",
    "\n",
    "print(type(a))\n",
    "print(type(b))\n",
    "print() # 印出空行\n",
    "\n",
    "add = a + 20\n",
    "minus = a - 20\n",
    "mul = a * 20\n",
    "div = a / 20\n",
    "\n",
    "print(add, minus, mul, div)\n",
    "print()\n",
    "\n",
    "c = 50\n",
    "\n",
    "print(a + c, type(a + c)) # int + int 還是 int\n",
    "print(a + b, type(a + b)) # int + float 變成 float"
   ]
  },
  {
   "cell_type": "markdown",
   "metadata": {},
   "source": [
    "#### 1.1.2 string\n",
    "\n",
    "`string` 用來儲存文字，在 python 中字串常數需要用單引號 `''` 或是雙甲號 `\"\"` 包起來。除了一般中英文，還有一些[特殊字元](http://www.runoob.com/python/python-strings.html)，例如 `'\\n'` 代表換行，`'\\t'` 代表 tab。以下是一些範例："
   ]
  },
  {
   "cell_type": "code",
   "execution_count": 3,
   "metadata": {},
   "outputs": [
    {
     "name": "stdout",
     "output_type": "stream",
     "text": [
      "<class 'str'>\n",
      "hello\n",
      "hello\n",
      "world\n",
      "\n",
      "3\n",
      "21\n",
      "\n",
      "10\n",
      "22222\n"
     ]
    }
   ],
   "source": [
    "a = 'hello'\n",
    "b = 'hello\\nworld'\n",
    "\n",
    "print(type(a))\n",
    "print(a)\n",
    "print(b)\n",
    "print()\n",
    "\n",
    "# 字串運算跟數值運算不同\n",
    "print(2 + 1)\n",
    "print('2' + '1')\n",
    "print()\n",
    "\n",
    "print(2 * 5)\n",
    "print('2' * 5)"
   ]
  },
  {
   "cell_type": "markdown",
   "metadata": {},
   "source": [
    "#### 1.1.3 list\n",
    "\n",
    "`list` 是用來存放多個值的型態，在 python 可以用中括號 `[]` 建立。`list` 中每個值稱為**元素**，可以是 `int`、`float`、`string` 甚至 `list` 等不同型態。也因為多值的特性讓 `list` 有更多種運算，以下是一些範例："
   ]
  },
  {
   "cell_type": "code",
   "execution_count": null,
   "metadata": {},
   "outputs": [],
   "source": [
    "a = ['physics', 'chemistry'] # 包含 2 個字串常數的 list\n",
    "b = [1, 2, 3, 4, 5 ] # 包含 5 個 int 常數的 list\n",
    "c = [0.5, 1.5, 2.5, 3.5, 4.5] # 包含 5 個 float 常數的 list\n",
    "d = ['1', 1, 1.0] # 包含 3 個不同型態常數的 list\n",
    "print(a, b, c, d)\n",
    "print()\n",
    "\n",
    "# list 也可以包含變數\n",
    "e = 1\n",
    "f = ['1', e] # 混合字串常數與 int 變數\n",
    "g = [f, [1, 1.0], 1.0] # 混合 list 變數、list 常數與 float 常數\n",
    "print(f)\n",
    "print(g)\n",
    "print()\n",
    "\n",
    "# list 的基本運算跟 string 有點像\n",
    "print(a + b)\n",
    "print(a * 2)\n",
    "print()\n",
    "\n",
    "# len() 可以取得 list 長度\n",
    "print(len(a), len(b), len(c), len(d), len(f), len(g))\n",
    "print()\n",
    "\n",
    "# 取得 list 中特定元素\n",
    "print(a[0]) # 印出 list a 中第 1 個元素，在 python 中 list 從 0 開始編號\n",
    "print(b[1:5]) # 印出 list b 中編號 1~4 的元素，注意 1:5 並沒有包含 5\n",
    "print()\n",
    "\n",
    "# 更改 list 元素\n",
    "print(c)\n",
    "c[4] = 'changed'\n",
    "print(c)\n",
    "\n",
    "# 新增元素\n",
    "c.append('appended')\n",
    "print(c)\n",
    "\n",
    "# 刪除元素\n",
    "del c[3]\n",
    "print(c)"
   ]
  },
  {
   "cell_type": "markdown",
   "metadata": {},
   "source": [
    "## 2. for 迴圈(for loop)\n",
    "\n",
    "可以將 `list` 變數中的每一個元素依序取出。以下是一些範例："
   ]
  },
  {
   "cell_type": "code",
   "execution_count": 4,
   "metadata": {},
   "outputs": [
    {
     "name": "stdout",
     "output_type": "stream",
     "text": [
      "1\n",
      "2\n",
      "3\n",
      "4\n",
      "5\n",
      "\n",
      "0\n",
      "1\n",
      "2\n",
      "\n",
      "0 1 1\n",
      "1 2 3\n",
      "2 3 6\n"
     ]
    }
   ],
   "source": [
    "a = [1, 2, 3, 4, 5]\n",
    "\n",
    "# 依序取出 a 的元素存放到變數 b，並把 b 印出來\n",
    "for b in a:\n",
    "    print(b) # 注意 python 是依縮排判斷程式碼是否在迴圈內\n",
    "print()\n",
    "\n",
    "# range() 可以產生連續數字的 list\n",
    "for i in range(3):\n",
    "    print(i)\n",
    "print()\n",
    "\n",
    "# 搭配後可以做出許多變化，例如想加總 a 的前三個元素值\n",
    "sum = 0\n",
    "for i in range(3):\n",
    "    sum = sum + a[i]\n",
    "    print(i, a[i], sum)"
   ]
  },
  {
   "cell_type": "markdown",
   "metadata": {},
   "source": [
    "## 3. 條件判斷式 (if ... else ...)\n",
    "\n",
    "讓程式依條件執行不同程式區段。以下是一些範例："
   ]
  },
  {
   "cell_type": "code",
   "execution_count": 3,
   "metadata": {},
   "outputs": [
    {
     "name": "stdout",
     "output_type": "stream",
     "text": [
      "a is not 10\n",
      "b is not inside\n",
      "c is inside\n",
      "d is outside\n",
      "e is string\n"
     ]
    }
   ],
   "source": [
    "# 請更改 a、b、c、d、e 的值來看輸出的改變\n",
    "\n",
    "# 用 == 判斷兩個值是否相等\n",
    "a = 11 \n",
    "if a == 10: # 如果 a 等於 10\n",
    "    print('a is 10') # 注意 python 是依縮排判斷程式區段\n",
    "else: # 如果上述條件不成立\n",
    "    print('a is not 10')\n",
    "\n",
    "# 大於、小於\n",
    "b = 15\n",
    "if b < 5:\n",
    "    print('b is smaller than 5')\n",
    "elif b > 20: # 如果上述條件不成立且 b > 20\n",
    "    print('b is larger than 20')\n",
    "else:\n",
    "    print('b is not inside')\n",
    "\n",
    "# 用 and、or 來連接多個條件\n",
    "c = 15\n",
    "if c > 5 and c < 20:\n",
    "    print('c is inside')\n",
    "else:\n",
    "    print('c is not inside')\n",
    "\n",
    "d = 25\n",
    "if d < 5 or d > 20:\n",
    "    print('d is outside')\n",
    "else:\n",
    "    print('d is not outside')\n",
    "\n",
    "# 配合 type() 依變數型態執行不同程式區段\n",
    "e = 'c'\n",
    "if type(e) == str:\n",
    "    print('e is string')\n",
    "elif type(e) == int:\n",
    "    print('e is int')\n",
    "elif type(e) == float:\n",
    "    print('e is float')"
   ]
  },
  {
   "cell_type": "markdown",
   "metadata": {},
   "source": [
    "## 4. 函式(Function)\n",
    "\n",
    "函式是一段有特定功能、可以重複使用的程式區段，在前面所提到的 `print()`、`type()`、`len()` 都是函式。實務上會將常用的程式區段宣告為函式，供其他程式碼呼叫。以下是一些範例："
   ]
  },
  {
   "cell_type": "code",
   "execution_count": 8,
   "metadata": {},
   "outputs": [
    {
     "name": "stdout",
     "output_type": "stream",
     "text": [
      "output is: a\n",
      "output is: 123\n",
      "\n",
      "Name Mike\n",
      "Age: 24\n"
     ]
    }
   ],
   "source": [
    "# 宣告一個名為 print_something 的函式，帶有一個名為 thing_to_print 的參數\n",
    "def print_something(thing_to_print):\n",
    "    print('output is:', thing_to_print) # 注意 python 是依縮排判斷程式碼是否在函式內\n",
    "\n",
    "print_something('a') # 呼叫 print_someting() 函式，傳入 'a'，此時函式內的 thing_to_print 值為 'a'\n",
    "print_something(123) # 呼叫 print_someting() 函式，傳入 'a'，此時函式內的 thing_to_print 值為 123\n",
    "print()\n",
    "\n",
    "# 函式可以有多個參數\n",
    "def print_info(name, age):\n",
    "    print('Name', name)\n",
    "    print('Age:', age)\n",
    "    \n",
    "print_info(age=24, name='Mike') # 指定參數名稱時，可以不用照原本宣告的順序\n",
    "\n",
    "# 函式可以有將兩個輸入值相乘，並回傳結果\n",
    "def multiply(num_1, num_2):\n",
    "    result = num_1 * num_2 # 把兩個傳入值相乘之後assign給result\n",
    "    \n",
    "    return result # 回傳result的值並結束函數\n",
    "\n",
    "mul = multiply(5, 2) # 由於有回傳值，所以必須宣告一個變數來接，在這裡 mul 就會等於 10\n",
    "print(mul)"
   ]
  },
  {
   "cell_type": "code",
   "execution_count": 19,
   "metadata": {},
   "outputs": [
    {
     "name": "stdout",
     "output_type": "stream",
     "text": [
      "10\n"
     ]
    }
   ],
   "source": []
  }
 ],
 "metadata": {
  "kernelspec": {
   "display_name": "Python 3",
   "language": "python",
   "name": "python3"
  },
  "language_info": {
   "codemirror_mode": {
    "name": "ipython",
    "version": 3
   },
   "file_extension": ".py",
   "mimetype": "text/x-python",
   "name": "python",
   "nbconvert_exporter": "python",
   "pygments_lexer": "ipython3",
   "version": "3.5.2"
  }
 },
 "nbformat": 4,
 "nbformat_minor": 2
}
