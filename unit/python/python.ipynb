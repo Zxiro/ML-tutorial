{
 "cells": [
  {
   "cell_type": "markdown",
   "metadata": {},
   "source": [
    "# Python 基礎教學\n",
    "\n",
    "這邊介紹 python 的變數、迴圈、函數等基本語法。\n",
    "\n",
    "## 1. 變數(variable)\n",
    "\n",
    "變數之所以稱為變數最大的原因是值是可變動的，而與之相對的則稱為常數(constant)，為不可變的。在 python 中可以用 `=` 來設定(assign)變數的值，並使用 `print()` 來印出變數的值。"
   ]
  },
  {
   "cell_type": "code",
   "execution_count": null,
   "metadata": {},
   "outputs": [],
   "source": [
    "# 將變數 a 的值設為 5，在 python 中 5 是一個數值常數\n",
    "a = 5\n",
    "\n",
    "# 印出 a 的值\n",
    "print(a)\n",
    "\n",
    "# 將變數 a 的值設為 0.5\n",
    "a = 0.5\n",
    "print(a)\n",
    "\n",
    "# 將變數 a 的值設為 'abc'，在 python 中 'abc' 是一個字串常數\n",
    "a = 'abc'\n",
    "print(a)\n",
    "\n",
    "# print() 也可以直接印出常數\n",
    "print('Hello World') # 印出 'Hello World' 這個字串常數\n",
    "print(12345) # 印出 12345 這個數值常數\n",
    "\n",
    "# print() 可以同時印出多個變數、常數\n",
    "print('Hello World', a, 12345)"
   ]
  },
  {
   "cell_type": "markdown",
   "metadata": {},
   "source": [
    "### 1.1 型態(type)\n",
    "\n",
    "在 python 中，變數與常數可以進一步被分為不同的形態，以下介紹四種比較常用的型態：\n",
    "\n",
    "1. int：整數\n",
    "2. float：小數\n",
    "3. string：字串\n",
    "4. list：串列\n",
    "\n",
    "可以使用 `type()` 查看型態。\n",
    "\n",
    "#### 1.1.1 int 與 float\n",
    "\n",
    "`int` 與 `float` 都是數值型態，python 提供了許多數學運算。以下是一些範例："
   ]
  },
  {
   "cell_type": "code",
   "execution_count": null,
   "metadata": {},
   "outputs": [],
   "source": [
    "a = 100\n",
    "b = 0.5\n",
    "\n",
    "print(type(a))\n",
    "print(type(b))\n",
    "print() # 印出空行\n",
    "\n",
    "add = a + 20\n",
    "minus = a - 20\n",
    "mul = a * 20\n",
    "div = a / 20\n",
    "\n",
    "print(add, minus, mul, div)\n",
    "print()\n",
    "\n",
    "c = 50\n",
    "\n",
    "print(a + c, type(a + c)) # int + int 還是 int\n",
    "print(a + b, type(a + b)) # int + float 變成 float"
   ]
  },
  {
   "cell_type": "markdown",
   "metadata": {},
   "source": [
    "#### 2.1.2 string\n",
    "\n",
    "`string` 用來儲存文字，在 python 中字串常數需要用單引號 `''` 或是雙甲號 `\"\"` 包起來。除了一般中英文，還有一些[特殊字元](http://www.runoob.com/python/python-strings.html)，例如 `'\\n'` 代表換行，`'\\t'` 代表 tab。以下是一些範例："
   ]
  },
  {
   "cell_type": "code",
   "execution_count": null,
   "metadata": {},
   "outputs": [],
   "source": [
    "a = 'hello'\n",
    "b = 'hello\\nworld'\n",
    "\n",
    "print(type(a))\n",
    "print(a)\n",
    "print(b)\n",
    "print()\n",
    "\n",
    "# 字串運算跟數值運算不同\n",
    "print(2 + 1)\n",
    "print('2' + '1')\n",
    "print()\n",
    "\n",
    "print(2 * 5)\n",
    "print('2' * 5)"
   ]
  },
  {
   "cell_type": "markdown",
   "metadata": {},
   "source": [
    "#### 2.1.3 list\n",
    "\n",
    "`list` 是用來存放多個值的型態，在 python 可以用中括號 `[]` 建立。`list` 中每個值稱為**元素**，可以是 `int`、`float`、`string` 甚至 `list` 等不同型態。也因為多值的特性讓 `list` 有更多種運算，以下是一些範例："
   ]
  },
  {
   "cell_type": "code",
   "execution_count": null,
   "metadata": {},
   "outputs": [],
   "source": [
    "a = ['physics', 'chemistry'] # 包含 2 個字串常數的 list\n",
    "b = [1, 2, 3, 4, 5 ] # 包含 5 個 int 常數的 list\n",
    "c = [0.5, 1.5, 2.5, 3.5, 4.5] # 包含 5 個 float 常數的 list\n",
    "d = ['1', 1, 1.0] # 包含 3 個不同型態常數的 list\n",
    "print(a, b, c, d)\n",
    "print()\n",
    "\n",
    "# list 也可以包含變數\n",
    "e = 1\n",
    "f = ['1', e] # 混合字串常數與 int 變數\n",
    "g = [f, [1, 1.0], 1.0] # 混合 list 變數、list 常數與 float 常數\n",
    "print(f)\n",
    "print(g)\n",
    "print()\n",
    "\n",
    "# list 的基本運算跟 string 有點像\n",
    "print(a + b)\n",
    "print(a * 2)\n",
    "print()\n",
    "\n",
    "# len() 可以取得 list 長度\n",
    "print(len(a), len(b), len(c), len(d), len(f), len(g))\n",
    "print()\n",
    "\n",
    "# 取得 list 中特定元素\n",
    "print(a[0]) # 印出 list a 中第 1 個元素，在 python 中 list 從 0 開始編號\n",
    "print(b[1:5]) # 印出 list b 中編號 1~4 的元素，注意 1:5 並沒有包含 5\n",
    "print()\n",
    "\n",
    "# 更改 list 元素\n",
    "print(c)\n",
    "c[4] = 'changed'\n",
    "print(c)\n",
    "\n",
    "# 新增元素\n",
    "c.append('appended')\n",
    "print(c)\n",
    "\n",
    "# 刪除元素\n",
    "del c[3]\n",
    "print(c)"
   ]
  },
  {
   "cell_type": "markdown",
   "metadata": {},
   "source": [
    "## 3. for 迴圈\n",
    "\n",
    "可以將 `list` 變數中的每一個元素依序取出。以下是一些範例："
   ]
  },
  {
   "cell_type": "code",
   "execution_count": null,
   "metadata": {},
   "outputs": [],
   "source": [
    "a = [1, 2, 3, 4, 5]\n",
    "\n",
    "# 依序取出 a 的元素存放到變數 b，並把 b 印出來\n",
    "for b in a:\n",
    "    print(b) # 注意 python 是依縮排判斷程式碼是否在迴圈內\n",
    "print()\n",
    "\n",
    "# range() 可以產生連續數字的 list\n",
    "for i in range(3):\n",
    "    print(i)\n",
    "print()\n",
    "\n",
    "# 搭配後可以做出許多變化，例如想加總 a 的前三個元素值\n",
    "sum = 0\n",
    "for i in range(3):\n",
    "    sum = sum + a[i]\n",
    "    print(i, a[i], sum)"
   ]
  },
  {
   "cell_type": "markdown",
   "metadata": {},
   "source": [
    "## 4. 條件判斷式\n",
    "\n",
    "在 if 後面接一個判斷式，條件成立則執行後面的指令，反之則執行 else 後面的指令。敘述條件的時候我們使用 == 表示相等、  > 表示大於、< 表示小於，若條件大於一個可用 **and** 或 **or** 連接，和前述for loop相同，由縮排來決定if下執行的指令。"
   ]
  },
  {
   "cell_type": "code",
   "execution_count": null,
   "metadata": {},
   "outputs": [],
   "source": [
    "# change value of a to see difference\n",
    "a = 11 \n",
    "if a == 10:\n",
    "    print('a is 10')\n",
    "else:\n",
    "    print('a is not 10')"
   ]
  },
  {
   "cell_type": "code",
   "execution_count": null,
   "metadata": {},
   "outputs": [],
   "source": [
    "# change value of b to see difference\n",
    "b = 11 \n",
    "if b > 5 and b < 20 :\n",
    "    print('b is in range')\n",
    "else:\n",
    "    print('b is not in range')"
   ]
  },
  {
   "cell_type": "code",
   "execution_count": null,
   "metadata": {},
   "outputs": [],
   "source": [
    "#change the type of c to see difference\n",
    "c = 'c'\n",
    "\n",
    "if type(c) == str:\n",
    "    print('c is string')\n",
    "    \n",
    "elif type(c) == int:\n",
    "    print('c is int')\n",
    "    \n",
    "elif type(c) == float:\n",
    "    print('c is float')"
   ]
  },
  {
   "cell_type": "markdown",
   "metadata": {},
   "source": [
    "## 5. 函數(Function)\n",
    "\n",
    "函數是一段有特定功能、可以重複使用的程式碼，函數的宣告由def開頭，並且需要帶有()，而任何傳入函數的變數都須放在()中間，函數所包含的內容由縮排決定，並且以 **return** 來結束某個函數。\n",
    "我們在前面所提到的print()、type()、len()都是函數的一種。"
   ]
  },
  {
   "cell_type": "code",
   "execution_count": null,
   "metadata": {},
   "outputs": [],
   "source": [
    "def print_something(thing_to_print): # thing_to_print 目前是一個空殼，代表著當有變數傳進來的時候，thing_to_print會等於那個變數\n",
    "    print(thing_to_print)\n",
    "    return\n",
    "\n",
    "print_something('a') #呼叫函數的名字以及給予input值使用函數\n",
    "print_something(123)"
   ]
  },
  {
   "cell_type": "code",
   "execution_count": null,
   "metadata": {},
   "outputs": [],
   "source": [
    "def print_info(name, age):\n",
    "    print('Name', name)\n",
    "    print('Age:', age)\n",
    "    return\n",
    "    \n",
    "print_info(name='Mike', age=24)"
   ]
  },
  {
   "cell_type": "code",
   "execution_count": null,
   "metadata": {},
   "outputs": [],
   "source": [
    "def multiply(num_1, num_2):\n",
    "    result = num_1 * num_2\n",
    "    \n",
    "    return result\n",
    "\n",
    "mul = multiply(5, 2)\n",
    "print(mul)"
   ]
  }
 ],
 "metadata": {
  "kernelspec": {
   "display_name": "Python 3",
   "language": "python",
   "name": "python3"
  },
  "language_info": {
   "codemirror_mode": {
    "name": "ipython",
    "version": 3
   },
   "file_extension": ".py",
   "mimetype": "text/x-python",
   "name": "python",
   "nbconvert_exporter": "python",
   "pygments_lexer": "ipython3",
   "version": "3.5.2"
  }
 },
 "nbformat": 4,
 "nbformat_minor": 2
}
