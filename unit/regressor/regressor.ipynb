{
 "cells": [
  {
   "cell_type": "markdown",
   "metadata": {},
   "source": [
    "# Regressor\n",
    "\n",
    "In this exercise, you need to build a regressor for classification to beat a demo classifier. This document contains two parts:\n",
    "\n",
    "will learn  and how to build a classifier based on a regressor:\n",
    "\n",
    "1. **Data preprocessing** describes how to use [scikit-learn (skearn)](http://scikit-learn.org/stable/) pipeline for data preprocessing.\n",
    "2. **Exercise** describes your homework (Chinese).\n",
    "\n",
    "## 1. Data preprocessing\n",
    "\n",
    "The **Breast Cancer Wisconsin dataset** is used here."
   ]
  },
  {
   "cell_type": "code",
   "execution_count": null,
   "metadata": {},
   "outputs": [],
   "source": [
    "import numpy as np\n",
    "import pandas as pd\n",
    "df = pd.read_csv('./breast_cancer_data.csv') # load data\n",
    "df = df.drop('id', axis=1) # drop unused columns\n",
    "print(df.info())\n",
    "df.head(5) # show the first 5 samples"
   ]
  },
  {
   "cell_type": "markdown",
   "metadata": {},
   "source": [
    "Deal with catigorical and missing values. See [another document for data preprocessing](/notebooks/unit/classifier/classifier.ipynb#1.-Data-preprocessing)."
   ]
  },
  {
   "cell_type": "code",
   "execution_count": null,
   "metadata": {},
   "outputs": [],
   "source": [
    "# convert label B/M to 0/1\n",
    "# B indicates benign (良性)\n",
    "# M indicates malignant (惡性)\n",
    "mapping = {'diagnosis': {\n",
    "    'B': 0,\n",
    "    'M': 1,\n",
    "}}\n",
    "df = df.replace(mapping)\n",
    "\n",
    "# check missing value\n",
    "print(df.isnull().sum()) # no missing value\n",
    "\n",
    "df.head(5)"
   ]
  },
  {
   "cell_type": "markdown",
   "metadata": {},
   "source": [
    "[Pipeline](http://scikit-learn.org/stable/modules/pipeline.html) is a tool to stream multiple pre-processing methods (e.g like standardization, dimension reduction and machine learning algorithms) into a single object for convinience. See [Python Machine Learning](https://github.com/rasbt/python-machine-learning-book/blob/master/code/ch06/ch06.ipynb) for more information. The code below builds a pipeline of [StandardScaler](http://scikit-learn.org/stable/modules/generated/sklearn.preprocessing.StandardScaler.html), [PCA](http://scikit-learn.org/stable/modules/generated/sklearn.decomposition.PCA.html) and [LogisticRegression](http://scikit-learn.org/stable/modules/generated/sklearn.linear_model.LogisticRegression.html)."
   ]
  },
  {
   "cell_type": "code",
   "execution_count": null,
   "metadata": {},
   "outputs": [],
   "source": [
    "from sklearn.decomposition import PCA\n",
    "from sklearn.linear_model import LinearRegression\n",
    "from sklearn.linear_model import LogisticRegression\n",
    "from sklearn.metrics import accuracy_score\n",
    "from sklearn.model_selection import train_test_split\n",
    "from sklearn.pipeline import Pipeline\n",
    "from sklearn.preprocessing import StandardScaler\n",
    "\n",
    "# split 20% of data for test\n",
    "df_train, df_test = train_test_split(df, test_size=0.2, random_state=1)\n",
    "\n",
    "# convert df to numpy\n",
    "train_X, train_y = df_train.iloc[:, 1:].values.astype(np.float64), df_train.iloc[:, 0].values.astype(np.float64)\n",
    "test_X, test_y = df_test.iloc[:, 1:].values.astype(np.float64), df_test.iloc[:, 0].values.astype(np.float64)\n",
    "\n",
    "# build a pipeline \n",
    "clf = Pipeline([('scl', StandardScaler()),\n",
    "                ('pca', PCA(n_components=2)),\n",
    "                ('clf', LogisticRegression(random_state=1))])\n",
    "print(clf)\n",
    "\n",
    "# train parameters of all pipeline steps with `fit()`\n",
    "clf.fit(train_X, train_y)\n",
    "\n",
    "# apply all pipeline steps with `predcit()`\n",
    "y_pred = clf.predict(test_X)\n",
    "\n",
    "print(\"\\nTest Accuracy: %.3f\" % (accuracy_score(test_y, y_pred)))"
   ]
  },
  {
   "cell_type": "markdown",
   "metadata": {},
   "source": [
    "## 2. 作業\n",
    "\n",
    "一般來說， regression model 的目的在於輸出數值，以股票系統為例，輸出可能是價錢，而不是歸類為哪個類別。但 regression model 也可以作為分類器使用，透過設定門檻值，來讓 regression model的輸出變成 classfication model。\n",
    "\n",
    "![regression model](https://qph.fs.quoracdn.net/main-qimg-914b29e777e78b44b67246b66a4d6d71)\n",
    "\n",
    "我們以一個 Linear Regression 模型作為示範，模型輸入為 data 的各項 feature，輸出為一個浮點數值。\n",
    "在 training 階段，和 classification model 相比最大的差異在於 label 此時是 0. 或者 1.，不是單純的整數，可以預期在 prediction 階段模型輸出會是一系列的浮點數。\n",
    "\n",
    "\n",
    "<img src=\"https://ppt.cc/ffYNvx@.png\" alt=\"Drawing\" style=\"width: 200px;\"/>\n",
    "\n",
    "## 動手做\n",
    "將你的程式碼寫在以下的方塊中，其中train、test data已經處理好可以直接使用。這裡並不規定所使用的regression model種類，這裡提供最基本的[Linear Regression範例](http://scikit-learn.org/stable/modules/linear_model.html)  \n",
    "\n",
    "### 作業要求\n",
    "1. 只能使用regression model來實作分類器\n",
    "2. test accuracy達到0.93"
   ]
  },
  {
   "cell_type": "code",
   "execution_count": null,
   "metadata": {},
   "outputs": [],
   "source": [
    "# import something\n",
    "\n",
    "# train and test data\n",
    "df_train, df_test = train_test_split(df, test_size=0.2, random_state=1)\n",
    "train_X, train_Y = df_train.iloc[:, 1:].values.astype(np.float64), df_train.iloc[:, 0].values.astype(np.float64)\n",
    "test_X, test_Y = df_test.iloc[:, 1:].values.astype(np.float64), df_test.iloc[:, 0].values.astype(np.float64)\n",
    "\n",
    "# train and predict"
   ]
  },
  {
   "cell_type": "code",
   "execution_count": null,
   "metadata": {},
   "outputs": [],
   "source": [
    "import sys\n",
    "sys.path.append('.prepared')\n",
    "import regressor as prepared\n",
    "prepared.demo()"
   ]
  }
 ],
 "metadata": {
  "kernelspec": {
   "display_name": "Python 3",
   "language": "python",
   "name": "python3"
  },
  "language_info": {
   "codemirror_mode": {
    "name": "ipython",
    "version": 3
   },
   "file_extension": ".py",
   "mimetype": "text/x-python",
   "name": "python",
   "nbconvert_exporter": "python",
   "pygments_lexer": "ipython3",
   "version": "3.5.2"
  }
 },
 "nbformat": 4,
 "nbformat_minor": 2
}
