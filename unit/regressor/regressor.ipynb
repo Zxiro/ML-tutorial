{
 "cells": [
  {
   "cell_type": "markdown",
   "metadata": {},
   "source": [
    "# Regressor\n",
    "\n",
    "In this exercise, you need to build a regressor for classification to beat a demo classifier. This document contains two parts:\n",
    "\n",
    "will learn  and how to build a classifier based on a regressor:\n",
    "\n",
    "1. **Data preprocessing** describes how to use [scikit-learn (skearn)](http://scikit-learn.org/stable/) pipeline for data preprocessing.\n",
    "2. **Exercise** describes your homework (Chinese).\n",
    "\n",
    "## 1. Data preprocessing\n",
    "\n",
    "The **[Breast Cancer Wisconsin dataset](https://goo.gl/2xTMPR)** is used here."
   ]
  },
  {
   "cell_type": "code",
   "execution_count": null,
   "metadata": {},
   "outputs": [],
   "source": [
    "import numpy as np\n",
    "import pandas as pd\n",
    "df = pd.read_csv('./breast_cancer_data.csv') # load data\n",
    "df = df.drop('id', axis=1) # drop unused columns\n",
    "print(df.info())\n",
    "df.head(5) # show the first 5 samples"
   ]
  },
  {
   "cell_type": "markdown",
   "metadata": {},
   "source": [
    "Deal with catigorical and missing values. See [another document for data preprocessing](/notebooks/unit/classifier/classifier.ipynb#1.-Data-preprocessing)."
   ]
  },
  {
   "cell_type": "code",
   "execution_count": null,
   "metadata": {},
   "outputs": [],
   "source": [
    "# convert label B/M to 0/1\n",
    "# B indicates benign (良性)\n",
    "# M indicates malignant (惡性)\n",
    "mapping = {'diagnosis': {\n",
    "    'B': 0,\n",
    "    'M': 1,\n",
    "}}\n",
    "df = df.replace(mapping)\n",
    "\n",
    "# check missing value\n",
    "print(df.isnull().sum()) # no missing value\n",
    "\n",
    "df.head(5)"
   ]
  },
  {
   "cell_type": "markdown",
   "metadata": {},
   "source": [
    "[Pipeline](http://scikit-learn.org/stable/modules/pipeline.html) is a tool to stream multiple pre-processing methods (e.g like standardization, dimension reduction and machine learning algorithms) into a single object for convinience. See [Python Machine Learning (ch6)](https://github.com/rasbt/python-machine-learning-book/blob/master/code/ch06/ch06.ipynb) for more information. The code below builds a pipeline of [StandardScaler](http://scikit-learn.org/stable/modules/generated/sklearn.preprocessing.StandardScaler.html), [PCA](http://scikit-learn.org/stable/modules/generated/sklearn.decomposition.PCA.html) and [LogisticRegression](http://scikit-learn.org/stable/modules/generated/sklearn.linear_model.LogisticRegression.html)."
   ]
  },
  {
   "cell_type": "code",
   "execution_count": null,
   "metadata": {},
   "outputs": [],
   "source": [
    "from sklearn.decomposition import PCA\n",
    "from sklearn.linear_model import LinearRegression\n",
    "from sklearn.linear_model import LogisticRegression\n",
    "from sklearn.metrics import accuracy_score\n",
    "from sklearn.model_selection import train_test_split\n",
    "from sklearn.pipeline import Pipeline\n",
    "from sklearn.preprocessing import StandardScaler\n",
    "\n",
    "# split 20% of data for test\n",
    "df_train, df_test = train_test_split(df, test_size=0.2, random_state=1)\n",
    "\n",
    "# convert df to numpy\n",
    "train_X, train_y = df_train.iloc[:, 1:].values.astype(np.float64), df_train.iloc[:, 0].values.astype(np.float64)\n",
    "test_X, test_y = df_test.iloc[:, 1:].values.astype(np.float64), df_test.iloc[:, 0].values.astype(np.float64)\n",
    "\n",
    "# build a pipeline \n",
    "clf = Pipeline([\n",
    "    ('scl', StandardScaler()),\n",
    "    ('pca', PCA(n_components=2)),\n",
    "    ('clf', LogisticRegression(random_state=1))\n",
    "])\n",
    "print(clf)\n",
    "\n",
    "# train parameters of all pipeline steps with `fit()`\n",
    "clf.fit(train_X, train_y)\n",
    "\n",
    "# apply all pipeline steps with `predcit()`\n",
    "y_pred = clf.predict(test_X)\n",
    "\n",
    "print(\"\\nTest Accuracy: %.3f\" % (accuracy_score(test_y, y_pred)))"
   ]
  },
  {
   "cell_type": "markdown",
   "metadata": {},
   "source": [
    "## 2. 作業\n",
    "\n",
    "一般來說，迴歸(regression)模型不像分類模型只能輸出預先定義好的類別，而是可以輸出任意數值。以股票系統為例，迴歸模型不是預測股票的漲跌，而是直接預測股價。因此，透過設定門檻值，迴歸模型可以作為分類模型使用。例如，用預測股價減去前一天的股價，就可以預測股票漲跌。\n",
    "\n",
    "### 資料集\n",
    "作業使用的資料與上述相同為 **[Breast Cancer Wisconsin dataset](https://goo.gl/2xTMPR)**，資料預處理的方式也與上述步驟相同，這裡只需要呼叫助教準備好的工具即可。\n"
   ]
  },
  {
   "cell_type": "code",
   "execution_count": null,
   "metadata": {},
   "outputs": [],
   "source": [
    "# 載入準備好的工具\n",
    "import sys\n",
    "sys.path.append('.prepared')\n",
    "import regressor as prepared\n",
    "\n",
    "train_X, train_Y, test_X, test_Y = prepared.load_data() # 讀取train, test的 X, Y資料\n",
    "\n",
    "print(train_X.shape) # 455 筆訓練資料的特徵\n",
    "print(train_X[0])    # 印出第一筆訓練資料的特徵\n",
    "print()\n",
    "print(train_Y.shape) # 455 筆訓練資料的類別\n",
    "print(train_Y[0])    # 印出第一筆訓練資料的類別\n",
    "print()\n",
    "print(test_X.shape)\n",
    "print(test_X[0])\n",
    "print()\n",
    "print(test_Y.shape)\n",
    "print(test_Y[0])"
   ]
  },
  {
   "cell_type": "markdown",
   "metadata": {},
   "source": [
    "### 動手做\n",
    "\n",
    "修改以下程式區段，其中train、test data已經處理好可以直接透過`prepared.load_data()`使用。這裡提供最基本的[Linear Regression範例](http://scikit-learn.org/stable/modules/linear_model.html)  \n",
    "\n",
    "作業要求:\n",
    "\n",
    "1. 只能使用regression model來實作分類器，但所使用的regressor方法不指定。\n",
    "2. test accuracy達到0.93"
   ]
  },
  {
   "cell_type": "code",
   "execution_count": null,
   "metadata": {},
   "outputs": [],
   "source": [
    "# TA在此資料上用regressor達到classification accuracy 0.956\n",
    "\n",
    "TA_predict = prepared.demo() # TA_predict為對test_X所做出的預測\n",
    "prepared.evaluate(test_Y, TA_predict)"
   ]
  },
  {
   "cell_type": "code",
   "execution_count": null,
   "metadata": {},
   "outputs": [],
   "source": [
    "# Write your code here"
   ]
  }
 ],
 "metadata": {
  "kernelspec": {
   "display_name": "Python 3",
   "language": "python",
   "name": "python3"
  },
  "language_info": {
   "codemirror_mode": {
    "name": "ipython",
    "version": 3
   },
   "file_extension": ".py",
   "mimetype": "text/x-python",
   "name": "python",
   "nbconvert_exporter": "python",
   "pygments_lexer": "ipython3",
   "version": "3.5.2"
  }
 },
 "nbformat": 4,
 "nbformat_minor": 2
}
