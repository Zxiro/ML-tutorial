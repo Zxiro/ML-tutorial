{
 "cells": [
  {
   "cell_type": "markdown",
   "metadata": {},
   "source": [
    "Stock Parser\n",
    "==="
   ]
  },
  {
   "cell_type": "markdown",
   "metadata": {},
   "source": [
    "本次作業為實作一個 stock parser，此 parser 的 raw data 為 `~/mlb/res/twse/json` 中的股票資料，格式為 json 檔，輸出為根據 raw data 所產生的 feature ，格式為 Numpy Array。  \n",
    "  \n",
    "### 作業要求 :\n",
    "1. 繳交兩個檔案 `parser.py` 以及 `run.sh`，並放置在家目錄下的 `course/week5/` 中。\n",
    "2. 輸出為印出 `2018-10-01` 中[]、[]、[]這三支股票的 feature ， feature 為前三天股票中的**平均開盤價**、**平均收盤價**、**最高成交量**。\n",
    "3. 批改作業時，助教只會執行 `run.sh` ，詳細執行方式請見下方說明。\n",
    "\n",
    "### parser.py\n",
    "假設今天要產生 `2018-10-04` 這天的 feature ，那就必須從`2018-10-01`、`2018-10-02`、`2018-10-03` 這三天的json中取出他們相對應的資料並做計算當作`2018-10-04`的 feature。  \n",
    "  \n",
    "讀取 json 檔以及計算 feature 的程式碼必須寫在 `parser.py` 中，並且在執行這隻程式時需要透過 command line 傳入要產生 feature 的日期，以上述日期為例，執行指令為 `python3 parser.py YYYY-MM-DD` 。若不清楚 command line 參數如何讀取到程式中，請參考 [Command Line Arguments](https://www.tutorialspoint.com/python/python_command_line_arguments.htm).\n",
    "\n",
    "### run.sh\n",
    "完成 `parser.py` 後，必須將執行 `parser.py` 的指令寫在 `run.sh` 中，助教執行 `run.sh` 的指令為 `run.sh YYYY-MM-DD ` \n",
    "  \n",
    "以下輸出範例以 `2018-10-04` 的三支股票作為示範，每一支股票對應到的三維矩陣，即為他們從 raw data 轉換出來的 features。"
   ]
  },
  {
   "cell_type": "code",
   "execution_count": null,
   "metadata": {},
   "outputs": [],
   "source": [
    "# features for 3 stocks on 2018-10-04"
   ]
  }
 ],
 "metadata": {
  "kernelspec": {
   "display_name": "Python 3",
   "language": "python",
   "name": "python3"
  },
  "language_info": {
   "codemirror_mode": {
    "name": "ipython",
    "version": 3
   },
   "file_extension": ".py",
   "mimetype": "text/x-python",
   "name": "python",
   "nbconvert_exporter": "python",
   "pygments_lexer": "ipython3",
   "version": "3.5.2"
  }
 },
 "nbformat": 4,
 "nbformat_minor": 2
}
