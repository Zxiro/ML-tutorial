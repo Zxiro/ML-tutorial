{
 "cells": [
  {
   "cell_type": "markdown",
   "metadata": {},
   "source": [
    "# 生成對抗網路 / Generative Adversarial Network (GAN)\n",
    "\n",
    "串接兩個類神經網路模型，一個負責生成以假亂真的資料(Generator)，另一個則負責辨別資料真偽(Discriminator)。兩個模型會互相對抗，最終目的為訓練出一個能夠產生高仿真資料的產生器。以下 GAN 都是以 [MNIST](http://yann.lecun.com/exdb/mnist/) 手寫數字圖片作為訓練資料。\n",
    "\n",
    "# keras.Model\n",
    "\n",
    "Keras 提供一些模型基底，可以從這些基底開始，設計自己的神經網路模型。請參考[神經網路](../nn/nn.ipynb#keras.Model)單元。\n",
    "\n",
    "# prepared.demo_gan()\n",
    "\n",
    "完整的 GAN 展示。\n",
    "\n",
    "# 示範生成對抗網路\n",
    "\n",
    "使用示範神經網路(`demo_gnn`)模仿 MNIST 資料繪製手寫數字圖片。"
   ]
  },
  {
   "cell_type": "code",
   "execution_count": null,
   "metadata": {},
   "outputs": [],
   "source": [
    "import sys\n",
    "sys.path.append('.prepared')\n",
    "import gan as prepared\n",
    "\n",
    "demo_gan = prepared.demo_gan()\n",
    "check_noise = demo_gan.noise(10)\n",
    "demo_gan.plot_images(noise=check_noise)"
   ]
  },
  {
   "cell_type": "markdown",
   "metadata": {},
   "source": [
    "# 動手做\n",
    "\n",
    "修改以下程式碼，跟 `demo_gan` 的結果比較看看。"
   ]
  },
  {
   "cell_type": "code",
   "execution_count": null,
   "metadata": {},
   "outputs": [],
   "source": [
    "import sys\n",
    "sys.path.append('.prepared')\n",
    "import gan as prepared\n",
    "\n",
    "from keras.layers import Dense\n",
    "from keras.models import Sequential\n",
    "\n",
    "# TODO: design your own disciminator\n",
    "#       input of `D` is a 28*28*1 2D image flattened into 28*28*1 = 784 1D vector\n",
    "#       output of `D` is a single value: true or fake image\n",
    "D = Sequential()\n",
    "D.add(Dense(16, activation='relu', input_dim=784))\n",
    "D.add(Dense(1, activation='sigmoid'))\n",
    "\n",
    "# TODO: design your own generator\n",
    "#       input of `G` is a noise vector, you can choose the noise size\n",
    "#       output of `G` is input of `D`, i.e. 784 1D vector\n",
    "noise_size = 100\n",
    "G = Sequential()\n",
    "G.add(Dense(16, activation='relu', input_dim=noise_size))\n",
    "G.add(Dense(784, activation='sigmoid'))\n",
    "\n",
    "def check():\n",
    "    # 60000 samples * 10 epochs / 100 batch size = 60000 training steps\n",
    "    # mod 600 indicates 10 outputs\n",
    "    if gan.training_step % 600: return\n",
    "    gan.plot_images(noise=check_noise, title=gan.fit_status())\n",
    "\n",
    "gan = prepared.GAN(28, 28, 1) # the default GAN\n",
    "#gan = prepared.MNIST_DCGAN() # a deep convolutionary GAN for MNIST\n",
    "# TODO: comment the above line and un-comment the below line once you finish `D` and `G`\n",
    "#gan = prepared.GAN(28, 28, 1, discriminator=D, generator=G, noise_size=noise_size)\n",
    "check_noise = gan.noise(10)\n",
    "gan.fit(prepared.x_train, batch_size=100, callback=check, epochs=10)"
   ]
  }
 ],
 "metadata": {
  "kernelspec": {
   "display_name": "Python 3",
   "language": "python",
   "name": "python3"
  },
  "language_info": {
   "codemirror_mode": {
    "name": "ipython",
    "version": 3
   },
   "file_extension": ".py",
   "mimetype": "text/x-python",
   "name": "python",
   "nbconvert_exporter": "python",
   "pygments_lexer": "ipython3",
   "version": "3.5.2"
  }
 },
 "nbformat": 4,
 "nbformat_minor": 2
}
