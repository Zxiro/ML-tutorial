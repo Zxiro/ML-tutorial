{
 "cells": [
  {
   "cell_type": "markdown",
   "metadata": {},
   "source": [
    "# Jupyter notebook\n",
    "\n",
    "A Jupyter notebook is a document that allows you to have executable code and text in the same webpage. With Jupyter notebooks you do not have to download anything on your computer to do the programming exercises. Everything is provided for you online. You will be completing the exercise as you scroll down the webpage without having to jump between different files.\n",
    "\n",
    "# How do I run a cell?\n",
    "\n",
    "To run a cell, click on the cell and press `Ctrl + Enter`. You could also run the cell (or cells) via the Cell menu above.\n",
    "\n",
    "![run_cell](run_cell.png)\n",
    "\n",
    "# What is a kernel?\n",
    "\n",
    "You could think of the kernel as the core of the Jupyter notebook's operating system. Sometimes if the notebook blocks or if you want to clear all the variables and start all over again, rather than quitting the notebook and opening it again, you could restart the kernel and clear the output if you accidentally end up in some sort of infinite loop.\n",
    "\n",
    "\n",
    "# Why do I get different results every time I run the same cell?\n",
    "\n",
    "When you run a cell that updates some variable (e.g `x = x + 1`), you will get different results for `x` as it keeps incrementing. Make sure you are not modifying your existing variables.\n",
    "\n",
    "# How do I save my progress?\n",
    "\n",
    "Click on File ==> Save and Checkpoint\n",
    "\n",
    "\n",
    "# What should I do if my jupyter notebook froze?\n",
    "\n",
    "Just restart the kernel by clicking on Kernel ==> Restart."
   ]
  }
 ],
 "metadata": {
  "kernelspec": {
   "display_name": "Python 3",
   "language": "python",
   "name": "python3"
  },
  "language_info": {
   "codemirror_mode": {
    "name": "ipython",
    "version": 3
   },
   "file_extension": ".py",
   "mimetype": "text/x-python",
   "name": "python",
   "nbconvert_exporter": "python",
   "pygments_lexer": "ipython3",
   "version": "3.5.2"
  }
 },
 "nbformat": 4,
 "nbformat_minor": 2
}
