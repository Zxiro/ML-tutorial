{
 "cells": [
  {
   "cell_type": "markdown",
   "metadata": {},
   "source": [
    "# 神經網路 / Neural Network\n",
    "\n",
    "利用以下準備好的工具，建構一個簡單的神經網路模型，並利用這個模型辨識 [MNIST](http://yann.lecun.com/exdb/mnist/) 手寫數字圖片資料。本教學使用 [Keras](https://github.com/fchollet/keras)，一款 Python 深度學習框架，提供建構神經網路所需要的各種模型、函式、以及演算法。\n",
    "\n",
    "## [MNIST](http://yann.lecun.com/exdb/mnist/) 手寫數字圖片資料\n",
    "\n",
    "- 訓練資料 60000 筆\n",
    "- 測試資料 10000 筆\n",
    "- 圖片長寬為 28x28\n",
    "- 圖片為灰階，每個像素由一個 0~255 整數表示\n",
    "- 圖片類別為 0~9\n",
    "\n",
    "本教學已經整理好 MNIST 資料，過程詳見下方[附錄：處理 MNIST 資料](#附錄：處理 MNIST 資料)，可以直接使用 `prepared.x_train`、`prepared.y_train`、`prepared.x_test`、`prepared.y_test`。其中：\n",
    "\n",
    "- x 為圖片像素，一筆資料已從二維(28x28)的 0~255 矩陣轉換為一維(784)的 0~1 實數矩陣。\n",
    "- y 為圖片類別，一筆資料已從一個 0~9 整數轉換為 10 維的獨熱(one-hot)編碼向量。\n",
    "\n",
    "可以使用 `prepared.plot_images()` 將資料畫出來："
   ]
  },
  {
   "cell_type": "code",
   "execution_count": null,
   "metadata": {},
   "outputs": [],
   "source": [
    "import sys\n",
    "sys.path.append('.prepared')\n",
    "import nn as prepared\n",
    "\n",
    "print(prepared.x_train.shape, prepared.y_train.shape, prepared.x_test.shape, prepared.y_test.shape)\n",
    "prepared.plot_images(prepared.x_train[:10], prepared.y_train[:10]) # try other samples"
   ]
  },
  {
   "cell_type": "markdown",
   "metadata": {},
   "source": [
    "## keras.Model\n",
    "\n",
    "Keras 提供一些模型基底，可以從這些基底開始，設計自己的神經網路模型。請參考 [About Keras models](https://keras.io/models/about-keras-models/) 了解 Keras 模型。"
   ]
  },
  {
   "cell_type": "code",
   "execution_count": null,
   "metadata": {},
   "outputs": [],
   "source": [
    "from keras.models import Sequential\n",
    "\n",
    "model = Sequential()"
   ]
  },
  {
   "cell_type": "markdown",
   "metadata": {},
   "source": [
    "一個神經網路模型可以呼叫 `model.add()` 增加隱藏層，Keras 提供許多隱藏層的實作，讓你可以專注於隱藏層的選擇策略以及參數調整。常見的有 `Dense` (全連結層)與 `Dropout` 等等，可以透過 `activation` 參數設定該層的激活函數。可以呼叫 `model.summary()` 檢視設計好的模型。請參考 [About Keras layers](https://keras.io/layers/about-keras-layers/) 了解 Keras 層，參考 [Activations](https://keras.io/activations/) 了解激活函數。"
   ]
  },
  {
   "cell_type": "code",
   "execution_count": null,
   "metadata": {},
   "outputs": [],
   "source": [
    "from keras.layers import Dense\n",
    "\n",
    "model.add(Dense(16, input_dim=784))\n",
    "model.add(Dense(1, activation='sigmoid'))\n",
    "model.summary()"
   ]
  },
  {
   "cell_type": "markdown",
   "metadata": {},
   "source": [
    "模型設計完需要呼叫 `compile()` 編譯之後才能使用，在編譯時可以設定損失函數(`loss`)、評估標準(`metrics`)以及等優化器(`optimizer`)參數。請參考 [compile()](https://keras.io/models/sequential/#compile) 了解編譯，參考 [Losses](https://keras.io/losses/) 了解損失函數，參考 [Optimizers](https://keras.io/optimizers/) 了解優化器。"
   ]
  },
  {
   "cell_type": "code",
   "execution_count": null,
   "metadata": {},
   "outputs": [],
   "source": [
    "model.compile(loss='binary_crossentropy', metrics = ['accuracy'], optimizer='adam')"
   ]
  },
  {
   "cell_type": "markdown",
   "metadata": {},
   "source": [
    "編譯完成的模型可以呼叫 `fit()` 訓練模型，訓練時需給定訓練資料(`prepared.x_train` 與 `prepared.y_train`)並設定 `batch_size`、`epochs` 等參數。請參考 [fit()](https://keras.io/models/sequential/#fit)。"
   ]
  },
  {
   "cell_type": "code",
   "execution_count": null,
   "metadata": {},
   "outputs": [],
   "source": [
    "import sys\n",
    "sys.path.append('.prepared')\n",
    "import nn as prepared\n",
    "\n",
    "model.fit(prepared.x_train, prepared.y_train, batch_size=10000, epochs=1, verbose=1)"
   ]
  },
  {
   "cell_type": "markdown",
   "metadata": {},
   "source": [
    "訓練完成的模型可以呼叫 `predict()` 進行預測。請參考 [predict()](https://keras.io/models/sequential/#predict)。"
   ]
  },
  {
   "cell_type": "code",
   "execution_count": null,
   "metadata": {},
   "outputs": [],
   "source": [
    "y_pred = model.predict(prepared.x_test)\n",
    "prepared.plot_images(prepared.x_test[:10], y_pred[:10]) # try other samples"
   ]
  },
  {
   "cell_type": "markdown",
   "metadata": {},
   "source": [
    "或是直接呼叫 `evaluate()` 評估效能。請參考 [evaluate()](https://keras.io/models/sequential/#evaluate)。"
   ]
  },
  {
   "cell_type": "code",
   "execution_count": null,
   "metadata": {},
   "outputs": [],
   "source": [
    "score = model.evaluate(prepared.x_test, prepared.y_test)\n",
    "print('loss: %f, accuracy: %f' % (score[0], score[1]))"
   ]
  },
  {
   "cell_type": "markdown",
   "metadata": {},
   "source": [
    "## prepared.demo_mnist_nn()\n",
    "\n",
    "使用 MNIST 的測試資料建構示範神經網路並回傳，詳見下方[示範神經網路](#示範神經網路)的程式碼範例。\n",
    "\n",
    "## prepared.plot_images(x, y, figsize=(15, 1.5), cols=10)\n",
    "\n",
    "繪製 MNIST 圖片，詳見下方[示範神經網路](#示範神經網路)的程式碼範例。\n",
    "- `x`: 圖片像素，一筆資料為一維(784)的 0~1 實數矩陣。\n",
    "- `y`: 圖片類別，一筆資料為 10 維的獨熱(one-hot)編碼向量。\n",
    "- `figsize`: 圖片的寬度與高度。\n",
    "- `cols`: 一橫列繪製幾筆資料。\n",
    "\n",
    "## prepared.x_train, prepared.y_train, prepared.x_test, prepared.y_test\n",
    "\n",
    "MNIST 資料，依序為訓練圖片像素、訓練圖片類別、測試圖片特徵、測試圖片類別資料。資料格式詳見上方 [MNIST-手寫數字圖片資料](#MNIST-手寫數字圖片資料)。\n",
    "\n",
    "# 示範神經網路\n",
    "\n",
    "使用示範神經網路(`demo_nn`)預測 MNIST 的測試資料(`x_test`)，繪製預測結果(`y_pred`)並評估其效能。請修改下方[動手做](#動手做)的程式碼試著超越這個示範神經網路。"
   ]
  },
  {
   "cell_type": "code",
   "execution_count": 1,
   "metadata": {},
   "outputs": [
    {
     "name": "stderr",
     "output_type": "stream",
     "text": [
      "Using TensorFlow backend.\n"
     ]
    },
    {
     "data": {
      "image/png": "[encoded data removed]",
      "text/plain": [
       "<matplotlib.figure.Figure at 0x103e95898>"
      ]
     },
     "metadata": {},
     "output_type": "display_data"
    },
    {
     "name": "stdout",
     "output_type": "stream",
     "text": [
      "10000/10000 [==============================] - 0s 40us/step\n",
      "loss: 0.269980, accuracy: 0.925000\n"
     ]
    }
   ],
   "source": [
    "import sys\n",
    "sys.path.append('.prepared')\n",
    "import nn as prepared\n",
    "\n",
    "demo_nn = prepared.demo_mnist_nn()\n",
    "y_pred = demo_nn.predict(prepared.x_test)\n",
    "prepared.plot_images(prepared.x_test[:10], y_pred[:10]) # try other samples\n",
    "score = demo_nn.evaluate(prepared.x_test, prepared.y_test)\n",
    "print('loss: %f, accuracy: %f' % (score[0], score[1]))"
   ]
  },
  {
   "cell_type": "markdown",
   "metadata": {},
   "source": [
    "# 動手做\n",
    "\n",
    "修改以下程式碼，試著建構比示範神經網路更好的模型。換句話說，在測試資料上的正確率超過 `0.922400`。"
   ]
  },
  {
   "cell_type": "code",
   "execution_count": 2,
   "metadata": {},
   "outputs": [
    {
     "name": "stdout",
     "output_type": "stream",
     "text": [
      "Epoch 1/1\n",
      "60000/60000 [==============================] - 1s 16us/step - loss: 2.2330 - acc: 0.1942\n"
     ]
    },
    {
     "data": {
      "image/png": "[encoded data removed]",
      "text/plain": [
       "<matplotlib.figure.Figure at 0x12bf7b048>"
      ]
     },
     "metadata": {},
     "output_type": "display_data"
    },
    {
     "name": "stdout",
     "output_type": "stream",
     "text": [
      "10000/10000 [==============================] - 0s 31us/step\n",
      "loss: 2.000550, accuracy: 0.380200\n"
     ]
    }
   ],
   "source": [
    "import sys\n",
    "sys.path.append('.prepared')\n",
    "import nn as prepared\n",
    "\n",
    "from keras.models import Sequential\n",
    "\n",
    "# TODO: import classifiers you want to use\n",
    "from keras.layers import Dense, Activation\n",
    "\n",
    "model = Sequential()\n",
    "\n",
    "# TODO: try different network structures and activation functions\n",
    "model.add(Dense(16, input_dim=784))\n",
    "model.add(Dense(10, activation='softmax'))\n",
    "\n",
    "# TODO: try different optimizers\n",
    "model.compile(loss='categorical_crossentropy', metrics = ['accuracy'], optimizer='adam')\n",
    "\n",
    "# TODO: try different `batch_size` and `epochs`\n",
    "model.fit(prepared.x_train, prepared.y_train, batch_size=10000, epochs=1, verbose=1)\n",
    "\n",
    "y_pred = model.predict(prepared.x_test)\n",
    "prepared.plot_images(prepared.x_test[:10], y_pred[:10]) # try other samples\n",
    "score = model.evaluate(prepared.x_test, prepared.y_test)\n",
    "print('loss: %f, accuracy: %f' % (score[0], score[1]))"
   ]
  },
  {
   "cell_type": "markdown",
   "metadata": {},
   "source": [
    "# 附錄：處理 MNIST 資料\n",
    "\n",
    "如果想更了解 MNIST 資料，可以參考以下整理 MNIST 資料的程式碼，練習自己處理資料。"
   ]
  },
  {
   "cell_type": "code",
   "execution_count": null,
   "metadata": {},
   "outputs": [],
   "source": [
    "from keras.utils import to_categorical\n",
    "from keras.utils.data_utils import get_file\n",
    "import numpy as np\n",
    "\n",
    "# download from aws\n",
    "path = get_file(\n",
    "    'mnist.npz',\n",
    "    'https://s3.amazonaws.com/img-datasets/mnist.npz',\n",
    "    cache_dir='.',\n",
    "    cache_subdir='.',\n",
    "    file_hash='8a61469f7ea1b51cbae51d4f78837e45'\n",
    ")\n",
    "\n",
    "# load and normalize\n",
    "f = np.load(path)\n",
    "x_train, y_train = f['x_train'] / 255, f['y_train']\n",
    "x_test, y_test = f['x_test'] / 255, f['y_test']\n",
    "f.close()\n",
    "\n",
    "# reshape\n",
    "print(x_train.shape, x_test.shape)\n",
    "x_train = x_train.reshape(-1, 784)\n",
    "x_test = x_test.reshape(-1, 784)\n",
    "print(x_train.shape, x_test.shape)\n",
    "\n",
    "# one-hot encoding\n",
    "print(y_train.shape, y_test.shape)\n",
    "y_train = to_categorical(y_train, 10)\n",
    "y_test = to_categorical(y_test, 10)\n",
    "print(y_train.shape, y_test.shape)"
   ]
  }
 ],
 "metadata": {
  "kernelspec": {
   "display_name": "Python 3",
   "language": "python",
   "name": "python3"
  },
  "language_info": {
   "codemirror_mode": {
    "name": "ipython",
    "version": 3
   },
   "file_extension": ".py",
   "mimetype": "text/x-python",
   "name": "python",
   "nbconvert_exporter": "python",
   "pygments_lexer": "ipython3",
   "version": "3.5.2"
  }
 },
 "nbformat": 4,
 "nbformat_minor": 2
}
