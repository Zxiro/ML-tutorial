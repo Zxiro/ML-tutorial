{
 "cells": [
  {
   "cell_type": "markdown",
   "metadata": {},
   "source": [
    "# 極簡易 python 教學\n",
    "\n",
    "# =\n",
    "\n",
    "將等號左邊的變數名稱設成等號右邊的值。"
   ]
  },
  {
   "cell_type": "code",
   "execution_count": 1,
   "metadata": {},
   "outputs": [
    {
     "name": "stdout",
     "output_type": "stream",
     "text": [
      "5 abc\n"
     ]
    }
   ],
   "source": [
    "a = 5\n",
    "b = 'abc'\n",
    "print(a, b)"
   ]
  },
  {
   "cell_type": "markdown",
   "metadata": {},
   "source": [
    "## []\n",
    "\n",
    "用中括號可以建構 list (串列)，是 python 中的一種資料型態。在建構之後 list 之後，也可以用中括號取出 list 中的值。可以參考 [List 介紹](https://docs.python.org.tw/3/tutorial/introduction.html#lists)。"
   ]
  },
  {
   "cell_type": "code",
   "execution_count": 5,
   "metadata": {},
   "outputs": [
    {
     "name": "stdout",
     "output_type": "stream",
     "text": [
      "1 3\n"
     ]
    }
   ],
   "source": [
    "a = [1, 2, 3]\n",
    "print(a[0], a[2])"
   ]
  },
  {
   "cell_type": "markdown",
   "metadata": {},
   "source": [
    "## [].append\n",
    "\n",
    "list 型態的變數可以使用這個函式新增元素。可以參考 [串列型態的 append()](http://www.kaiching.org/2011/03/python-listappend.html)。"
   ]
  },
  {
   "cell_type": "code",
   "execution_count": 4,
   "metadata": {},
   "outputs": [
    {
     "name": "stdout",
     "output_type": "stream",
     "text": [
      "[1, 2, 3, 4]\n"
     ]
    }
   ],
   "source": [
    "a = [1, 2, 3]\n",
    "a.append(4)\n",
    "print(a)"
   ]
  },
  {
   "cell_type": "markdown",
   "metadata": {},
   "source": [
    "## for\n",
    "\n",
    "迴圈用於取得含有多個元素的變數，例如可以將 list 變數中的每一個元素依序取出。可以參考 [迴圈](http://www.kaiching.org/2012/12/Python-Loop.html)。\n",
    "\n",
    "以下面的程式為例，因為變數 `a` 含有 3 個元素，所以迴圈內的指令(例如 `print(sum)`)會執行 3 次。"
   ]
  },
  {
   "cell_type": "code",
   "execution_count": 6,
   "metadata": {},
   "outputs": [
    {
     "name": "stdout",
     "output_type": "stream",
     "text": [
      "1\n",
      "3\n",
      "6\n"
     ]
    }
   ],
   "source": [
    "a = [1, 2, 3]\n",
    "sum = 0\n",
    "for i in a:\n",
    "   sum = sum + i\n",
    "   print(sum)"
   ]
  },
  {
   "cell_type": "markdown",
   "metadata": {},
   "source": [
    "## if ... else ...\n",
    "\n",
    "在 if 後面接一個判斷式，條件成立則執行後面的指令，反之則執行 else 後面的指令。可以參考 [邏輯運算](http://www.kaiching.org/2011/01/python-logical.html)。"
   ]
  },
  {
   "cell_type": "code",
   "execution_count": 8,
   "metadata": {},
   "outputs": [
    {
     "name": "stdout",
     "output_type": "stream",
     "text": [
      "a is not 10\n"
     ]
    }
   ],
   "source": [
    "a = 11 # try to assign a with another number\n",
    "if a == 10:\n",
    "  print('a is 10')\n",
    "else:\n",
    "  print('a is not 10')"
   ]
  }
 ],
 "metadata": {
  "kernelspec": {
   "display_name": "Python 3",
   "language": "python",
   "name": "python3"
  },
  "language_info": {
   "codemirror_mode": {
    "name": "ipython",
    "version": 3
   },
   "file_extension": ".py",
   "mimetype": "text/x-python",
   "name": "python",
   "nbconvert_exporter": "python",
   "pygments_lexer": "ipython3",
   "version": "3.4.3"
  }
 },
 "nbformat": 4,
 "nbformat_minor": 2
}
