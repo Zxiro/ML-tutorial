{
 "cells": [
  {
   "cell_type": "markdown",
   "metadata": {},
   "source": [
    "python 基礎教學\n",
    "==\n"
   ]
  },
  {
   "cell_type": "markdown",
   "metadata": {},
   "source": [
    "## print語法\n",
    "\n",
    "在python中，我們能使用print這個語法來印出程式的內部狀況以下就是一些print的用法。\n"
   ]
  },
  {
   "cell_type": "code",
   "execution_count": 9,
   "metadata": {},
   "outputs": [
    {
     "name": "stdout",
     "output_type": "stream",
     "text": [
      "直接印出值或是算術結果\n",
      "Hello\n",
      "12345\n",
      "2\n",
      "4\n",
      "\n",
      "也可以用逗點分隔開多個印出來的東西，逗點本身會被視為分隔而不會印出來\n",
      "a 1 b 2 c 3\n"
     ]
    }
   ],
   "source": [
    "print('直接印出值或是算術結果')\n",
    "print(\"Hello\")\n",
    "print(12345)\n",
    "print(1+1)\n",
    "print(2*2)\n",
    "\n",
    "print('\\n也可以用逗點分隔開多個印出來的東西，逗點本身會被視為分隔而不會印出來')\n",
    "print('a', 1, 'b', 2, 'c', 3)"
   ]
  },
  {
   "cell_type": "markdown",
   "metadata": {},
   "source": [
    "## 換行、間隔符號\n",
    "\n",
    "**換行** : **'\\n'**  \n",
    "**Tab**  : **'\\t'**"
   ]
  },
  {
   "cell_type": "code",
   "execution_count": 10,
   "metadata": {},
   "outputs": [
    {
     "name": "stdout",
     "output_type": "stream",
     "text": [
      "[換行]\n",
      "a\n",
      "b\n",
      "---------\n",
      "[TAB]\n",
      "a\tb\n"
     ]
    }
   ],
   "source": [
    "print('[換行]')\n",
    "print('a\\nb')\n",
    "\n",
    "print('---------')\n",
    "\n",
    "print('[TAB]')\n",
    "print('a\\tb')"
   ]
  },
  {
   "cell_type": "markdown",
   "metadata": {},
   "source": [
    "## 變數(Variable)\n",
    "\n",
    "從上面的範例我們可以看到，print()這個函式中所包的可以式文字、數字甚至是算術，但是如果我們今天需要做儲存或計算，就無從知道資料的數值是什麼 \n",
    "\n",
    "這個時候就要使用變數來儲存。  \n",
    "\n",
    "在使用上我們會用 **=** 符號來指派變數的內容與給予的名稱，其中比較特殊的是字串需要用 '&nbsp; ' 包住，而使用變數的方式為直接呼叫變數名稱。"
   ]
  },
  {
   "cell_type": "code",
   "execution_count": 11,
   "metadata": {},
   "outputs": [
    {
     "name": "stdout",
     "output_type": "stream",
     "text": [
      "5 1.5 abc\n"
     ]
    }
   ],
   "source": [
    "variable_1 = 5\n",
    "variable_2 = 1.5\n",
    "variable_3 = 'abc'\n",
    "\n",
    "print(variable_1, variable_2, variable_3)"
   ]
  },
  {
   "cell_type": "markdown",
   "metadata": {},
   "source": [
    "## 變數類別\n",
    "\n",
    "常用變數分別為 **1. int(整數) 2.float(小數) 3. str(字串)** \n",
    "  \n",
    "不過在使用上\"通常\"不需要告訴程式今天這個變數是什麼類別，程式會自動判斷變數屬於哪一類。"
   ]
  },
  {
   "cell_type": "code",
   "execution_count": 12,
   "metadata": {},
   "outputs": [
    {
     "name": "stdout",
     "output_type": "stream",
     "text": [
      "5\n",
      "<class 'int'>\n",
      "1.5\n",
      "<class 'float'>\n",
      "abc\n",
      "<class 'str'>\n"
     ]
    }
   ],
   "source": [
    "variable_1 = 5\n",
    "variable_2 = 1.5\n",
    "variable_3 = 'abc'\n",
    "\n",
    "#type(), 這個函式可以顯示變數的類別\n",
    "\n",
    "print(variable_1)\n",
    "print(type(variable_1))\n",
    "print(variable_2)\n",
    "print(type(variable_2))\n",
    "print(variable_3)\n",
    "print(type(variable_3))"
   ]
  },
  {
   "cell_type": "code",
   "execution_count": 13,
   "metadata": {},
   "outputs": [
    {
     "name": "stdout",
     "output_type": "stream",
     "text": [
      "6.5\n",
      "<class 'float'>\n",
      "6\n",
      "<class 'int'>\n",
      "6.5\n",
      "<class 'str'>\n"
     ]
    }
   ],
   "source": [
    "direct_add = variable_1+variable_2\n",
    "print(direct_add)\n",
    "print(type(direct_add))\n",
    "\n",
    "float_to_int = int(variable_1+variable_2)\n",
    "print(float_to_int)\n",
    "print(type(float_to_int))\n",
    "\n",
    "int_to_str = str(variable_1+variable_2)\n",
    "print(int_to_str)\n",
    "print(type(int_to_str))"
   ]
  },
  {
   "cell_type": "code",
   "execution_count": 48,
   "metadata": {},
   "outputs": [],
   "source": [
    "#嘗試將int + str\n",
    "#int_add_str = variable_1+variable_3\n",
    "#print(int_add_str)"
   ]
  },
  {
   "cell_type": "markdown",
   "metadata": {},
   "source": [
    "## 變數運算\n",
    "\n",
    "有了變數之後，我們會對宣告出來的變數做加減乘除、裁切等等的運算。\n",
    "首先是最基本的加減乘除、平方、開根號、取最近的整數等，運算根據變數的種類不同呈現的結果也會不同。\n",
    "\n"
   ]
  },
  {
   "cell_type": "code",
   "execution_count": 15,
   "metadata": {},
   "outputs": [
    {
     "name": "stdout",
     "output_type": "stream",
     "text": [
      "15 5 50 2.0\n",
      "10.5 9.5 5.0 20.0\n"
     ]
    }
   ],
   "source": [
    "# int and float\n",
    "a = 10\n",
    "b = 5\n",
    "c = 0.5\n",
    "\n",
    "print(a+b, a-b, a*b, a/b)\n",
    "print(a+c, a-c, a*c, a/c)"
   ]
  },
  {
   "cell_type": "code",
   "execution_count": 16,
   "metadata": {},
   "outputs": [
    {
     "name": "stdout",
     "output_type": "stream",
     "text": [
      "Hello World\n",
      "Hello Hello Hello Hello Hello \n"
     ]
    }
   ],
   "source": [
    "# str\n",
    "a = 'Hello '\n",
    "b = 'World'\n",
    "\n",
    "print(a + b)\n",
    "print(a*5)"
   ]
  },
  {
   "cell_type": "markdown",
   "metadata": {},
   "source": [
    "## 序列(List)\n",
    "\n",
    "用中括號可以建構 list (串列)，是 python 中的一種資料型態。建構的方式為將值放入[]中括號內。  \n",
    "在list中每一個\"位置\"代表伊格儲存的資料，可以存入int、float、str，或是混著存也可以。\n",
    "\n",
    "透過len()這個函式可以顯示list的長度。"
   ]
  },
  {
   "cell_type": "code",
   "execution_count": 17,
   "metadata": {},
   "outputs": [
    {
     "name": "stdout",
     "output_type": "stream",
     "text": [
      "['physics', 'chemistry'] [1, 2, 3, 4, 5] [0.5, 1.5, 2.5, 3.5, 4.5] ['a', 'b', 1997, 2000]\n",
      "2 5 5 4\n"
     ]
    }
   ],
   "source": [
    "list_1 = ['physics', 'chemistry']\n",
    "list_2 = [1, 2, 3, 4, 5 ]\n",
    "list_3 = [0.5, 1.5, 2.5, 3.5, 4.5]\n",
    "list_4 = ['a', 'b', 1997, 2000]\n",
    "\n",
    "print(list_1, list_2, list_3, list_4)\n",
    "\n",
    "print(len(list_1), len(list_2), len(list_3), len(list_4))"
   ]
  },
  {
   "cell_type": "markdown",
   "metadata": {},
   "source": [
    "## 取出list中的值\n",
    "若想取出list中某一個位置，則需要宣告所想要取出的值的位置，一樣使用中括號[]來表示。  \n",
    "在程式語言中，通常[0]代表第一個位置，[1]代表第二個位置，以此類推。  \n",
    "若想取出多個值，則用:代表區間，例如[1:5]就表示第1, 2, 3, 4號(index)的值，對應到的位置為第二、三、四、五個位置。  \n",
    "也可以針對某個位置的值用 **=** 直接做更改。"
   ]
  },
  {
   "cell_type": "code",
   "execution_count": 18,
   "metadata": {},
   "outputs": [
    {
     "name": "stdout",
     "output_type": "stream",
     "text": [
      "value_1: physics\n",
      "value_2: [2, 3, 4, 5]\n",
      "--------------------\n",
      "['a', 'b', 1997, 2000]\n",
      "['c', 'b', 1997, 1998]\n"
     ]
    }
   ],
   "source": [
    "value_1 = list_1[0] \n",
    "print('value_1:', value_1)\n",
    "\n",
    "value_2 = list_2[1:5]\n",
    "print('value_2:', value_2)\n",
    "\n",
    "print('--------------------')\n",
    "\n",
    "print(list_4)\n",
    "\n",
    "list_4[0] = 'c'\n",
    "list_4[3] = 1998\n",
    "\n",
    "print(list_4)"
   ]
  },
  {
   "cell_type": "markdown",
   "metadata": {},
   "source": [
    "## list 新增、刪除\n",
    "\n",
    "為了更靈活的使用list來儲存資料，我們可以對現有的list做內容的新增或式刪除。  \n",
    "append()這個函式能夠新增資料於現存list的最後一個位置。  \n",
    "del 則可以刪除某個位置的值。"
   ]
  },
  {
   "cell_type": "code",
   "execution_count": 19,
   "metadata": {},
   "outputs": [
    {
     "name": "stdout",
     "output_type": "stream",
     "text": [
      "Before append: ['c', 'b', 1997, 1998]\n",
      "After append: ['c', 'b', 1997, 1998, 1999]\n",
      "After del: ['b', 1997, 1998, 1999]\n"
     ]
    }
   ],
   "source": [
    "print('Before append:', list_4)\n",
    "\n",
    "list_4.append(1999)\n",
    "\n",
    "print('After append:', list_4)\n",
    "\n",
    "del list_4[0]\n",
    "\n",
    "print('After del:', list_4)"
   ]
  },
  {
   "cell_type": "markdown",
   "metadata": {},
   "source": [
    "## list運算\n",
    "list也可以像變數一樣做加減乘除的運算。  \n",
    "兩個list相加會將兩個list的值合併成同一個list。  \n",
    "而一個list乘上某個數字則是重複幾次。"
   ]
  },
  {
   "cell_type": "code",
   "execution_count": 32,
   "metadata": {},
   "outputs": [
    {
     "name": "stdout",
     "output_type": "stream",
     "text": [
      "list_1: ['physics', 'chemistry']\n",
      "list_2: [1, 2, 3, 4, 5]\n",
      "\n",
      "Add: ['physics', 'chemistry', 1, 2, 3, 4, 5]\n",
      "Multiply [1, 2, 3, 4, 5, 1, 2, 3, 4, 5]\n"
     ]
    }
   ],
   "source": [
    "print('list_1:', list_1)\n",
    "print('list_2:', list_2)\n",
    "\n",
    "add = list_1 + list_2\n",
    "multiply = list_2 * 2\n",
    "\n",
    "print('\\nAdd:', add)\n",
    "print('Multiply', multiply)"
   ]
  },
  {
   "cell_type": "markdown",
   "metadata": {},
   "source": [
    "## For迴圈(For loop)\n",
    "\n",
    "迴圈用於取得含有多個元素的變數，例如可以將 list 變數中的每一個元素依序取出，或是需要重複做某件事情數次。  \n",
    "需要被for重複執行的動作需要用 **縮排** 來表示。  \n",
    "\n",
    "以下的範例中，value會等於每一個在list_1中的值，並且將每一個value print出來。"
   ]
  },
  {
   "cell_type": "code",
   "execution_count": 35,
   "metadata": {},
   "outputs": [
    {
     "name": "stdout",
     "output_type": "stream",
     "text": [
      "1\n",
      "2\n",
      "3\n",
      "4\n",
      "5\n"
     ]
    }
   ],
   "source": [
    "list_1 = [1, 2, 3, 4, 5]\n",
    "\n",
    "for value in list_1:\n",
    "    print(value)"
   ]
  },
  {
   "cell_type": "markdown",
   "metadata": {},
   "source": [
    "假設今天並不想走完整個list_1的內容，你只想取出前三個並相加，那就可以用range()這個函式指定次數。  \n",
    "range()會回傳一個連續數字的list，例如: range(3) 就包含了0, 1, 2這三個數字，再將這些數字變成list的位置(index)就可以重複做出指定次數。"
   ]
  },
  {
   "cell_type": "code",
   "execution_count": 42,
   "metadata": {},
   "outputs": [
    {
     "name": "stdout",
     "output_type": "stream",
     "text": [
      "i: 0\n",
      "value: 1\n",
      "i: 1\n",
      "value: 2\n",
      "i: 2\n",
      "value: 3\n"
     ]
    }
   ],
   "source": [
    "list_1 = [1, 2, 3, 4, 5]\n",
    "\n",
    "for i in range(3):\n",
    "    print('i:', i)\n",
    "    print('value:', list_1[i])\n"
   ]
  },
  {
   "cell_type": "code",
   "execution_count": 46,
   "metadata": {},
   "outputs": [
    {
     "name": "stdout",
     "output_type": "stream",
     "text": [
      "length: 5 \n",
      "\n",
      "1\n",
      "2\n",
      "3\n",
      "4\n",
      "5\n"
     ]
    }
   ],
   "source": [
    "# 用len()和range()來實作for loop第一個範例\n",
    "list_1 = [1, 2, 3, 4, 5]\n",
    "\n",
    "print('length:', len(list_1), '\\n')\n",
    "\n",
    "for i in range(len(list_1)):\n",
    "    print(list_1[i])\n"
   ]
  },
  {
   "cell_type": "markdown",
   "metadata": {},
   "source": [
    "## 條件判斷式 if ... else ...\n",
    "\n",
    "在 if 後面接一個判斷式，條件成立則執行後面的指令，反之則執行 else 後面的指令。  \n",
    "敘述條件的時候我們使用 == 表示相等、  > 表示大於、< 表示小於。  \n",
    "若條件大於一個可用 **and** 或 **or** 連接。  \n",
    "和前述for loop相同，由縮排來決定if下執行的指令。"
   ]
  },
  {
   "cell_type": "code",
   "execution_count": 51,
   "metadata": {},
   "outputs": [
    {
     "name": "stdout",
     "output_type": "stream",
     "text": [
      "a is not 10\n"
     ]
    }
   ],
   "source": [
    "# change value of a to see difference\n",
    "a = 11 \n",
    "if a == 10:\n",
    "    print('a is 10')\n",
    "else:\n",
    "    print('a is not 10')"
   ]
  },
  {
   "cell_type": "code",
   "execution_count": 52,
   "metadata": {},
   "outputs": [
    {
     "name": "stdout",
     "output_type": "stream",
     "text": [
      "b is in range\n"
     ]
    }
   ],
   "source": [
    "# change value of b to see difference\n",
    "b = 11 \n",
    "if b > 5 and b < 20 :\n",
    "    print('b is in range')\n",
    "else:\n",
    "    print('b is not in range')"
   ]
  },
  {
   "cell_type": "code",
   "execution_count": 57,
   "metadata": {},
   "outputs": [
    {
     "name": "stdout",
     "output_type": "stream",
     "text": [
      "c is string\n"
     ]
    }
   ],
   "source": [
    "#change the type of c to see difference\n",
    "c = 'c'\n",
    "\n",
    "if type(c) == str:\n",
    "    print('c is string')\n",
    "    \n",
    "elif type(c) == int:\n",
    "    print('c is int')\n",
    "    \n",
    "elif type(c) == float:\n",
    "    print('c is float')"
   ]
  },
  {
   "cell_type": "markdown",
   "metadata": {},
   "source": [
    "## 函數(Function)\n",
    "\n",
    "函數是一段有特定功能、可以重複使用的程式碼。  \n",
    "函數的宣告由def開頭，並且需要帶有()，而任何傳入函數的變數都須放在()中間。  \n",
    "函數所包含的內容由縮排決定，並且以 **return** 來結束某個函數。"
   ]
  },
  {
   "cell_type": "code",
   "execution_count": 58,
   "metadata": {},
   "outputs": [
    {
     "name": "stdout",
     "output_type": "stream",
     "text": [
      "a\n",
      "123\n"
     ]
    }
   ],
   "source": [
    "def print_something(thing_to_print): # thing_to_print 目前是一個空殼，代表著當有變數傳進來的時候，thing_to_print會等於那個變數\n",
    "    print(thing_to_print)\n",
    "    return\n",
    "\n",
    "print_something('a') #呼叫函數的名字以及給予input值使用函數\n",
    "print_something(123)"
   ]
  },
  {
   "cell_type": "code",
   "execution_count": 62,
   "metadata": {},
   "outputs": [
    {
     "name": "stdout",
     "output_type": "stream",
     "text": [
      "Name Mike\n",
      "Age: 24\n"
     ]
    }
   ],
   "source": [
    "def print_info(name, age):\n",
    "    print('Name', name)\n",
    "    print('Age:', age)\n",
    "    return\n",
    "    \n",
    "print_info(name='Mike', age=24)"
   ]
  },
  {
   "cell_type": "code",
   "execution_count": 63,
   "metadata": {},
   "outputs": [
    {
     "name": "stdout",
     "output_type": "stream",
     "text": [
      "10\n"
     ]
    }
   ],
   "source": [
    "def multiply(num_1, num_2):\n",
    "    result = num_1 * num_2\n",
    "    \n",
    "    return result\n",
    "\n",
    "mul = multiply(5, 2)\n",
    "print(mul)"
   ]
  }
 ],
 "metadata": {
  "kernelspec": {
   "display_name": "Python 3",
   "language": "python",
   "name": "python3"
  },
  "language_info": {
   "codemirror_mode": {
    "name": "ipython",
    "version": 3
   },
   "file_extension": ".py",
   "mimetype": "text/x-python",
   "name": "python",
   "nbconvert_exporter": "python",
   "pygments_lexer": "ipython3",
   "version": "3.5.2"
  }
 },
 "nbformat": 4,
 "nbformat_minor": 2
}
