{
 "cells": [
  {
   "cell_type": "markdown",
   "metadata": {},
   "source": [
    "python 基礎教學\n",
    "==\n"
   ]
  },
  {
   "cell_type": "markdown",
   "metadata": {},
   "source": [
    "## 1. 介紹\n",
    "此課程介紹Python的變數型態以及迴圈、函數等基本語法\n"
   ]
  },
  {
   "cell_type": "markdown",
   "metadata": {},
   "source": [
    "## 2. 變數(variable)\n",
    "\n",
    "變數之所以稱為變數最大的原因是值是可變動的，而與之相對的則稱為常數(constant or const)，為不可變的。\n",
    "在實作上我們會用 **=** 來宣告某一個變數的值，這個動作叫做assignm。\n",
    "宣告的方式為 **varibale_name = value**，在這裡我們介紹一個可以印出變數或是常數的方法print()，將想要輸出於螢幕的內容放入括號內即可輸出，例如: **print(value)**"
   ]
  },
  {
   "cell_type": "code",
   "execution_count": 2,
   "metadata": {},
   "outputs": [
    {
     "name": "stdout",
     "output_type": "stream",
     "text": [
      "常數(constant)\n",
      "Hello\n",
      "12345\n",
      "2\n",
      "4\n"
     ]
    }
   ],
   "source": [
    "#常數範例\n",
    "print('常數(constant)')\n",
    "\n",
    "# 直接印出某個值，字串或是數字\n",
    "print(\"Hello\") \n",
    "print(12345)\n",
    "\n",
    "# 算數的結果在計算完畢之後也是常數\n",
    "print(1+1)\n",
    "print(2*2)"
   ]
  },
  {
   "cell_type": "code",
   "execution_count": 27,
   "metadata": {},
   "outputs": [
    {
     "name": "stdout",
     "output_type": "stream",
     "text": [
      "變數(variable)\n",
      "First_assign: 5\n",
      "Second_assign: 0.5\n",
      "Final_assign: abc\n"
     ]
    }
   ],
   "source": [
    "#變數範例\n",
    "print('變數(variable)')\n",
    "\n",
    "# 宣告一個名叫var_1的變數，並用'='來assign他的值，並用print來看出var_1的變化\n",
    "var_1 = 5\n",
    "print('First_assign:', var_1)\n",
    "\n",
    "var_1 = 0.5\n",
    "print('Second_assign:', var_1)\n",
    "\n",
    "var_1 = 'abc'\n",
    "print('Final_assign:', var_1)"
   ]
  },
  {
   "cell_type": "markdown",
   "metadata": {},
   "source": [
    "### 2.1 變數型態(type)\n",
    "\n",
    "在python中，變數可以進一步被分為不同的形態，在這裡我們只介紹 **1. int整數  2. float小數  3. string字串  4.list串列**  \n",
    "我們可以使用type()這個功能來查看某個變數的型態"
   ]
  },
  {
   "cell_type": "markdown",
   "metadata": {},
   "source": [
    "#### 2.1.1 int整數、float小數\n",
    "int和float的性質比較類似，以下我們除了介紹這兩種型態之外我們還介紹他們的運算語法"
   ]
  },
  {
   "cell_type": "code",
   "execution_count": 33,
   "metadata": {},
   "outputs": [
    {
     "name": "stdout",
     "output_type": "stream",
     "text": [
      "type of var_int: <class 'int'>\n",
      "type of var_float: <class 'float'>\n"
     ]
    }
   ],
   "source": [
    "var_int = 100\n",
    "var_float = 0.5\n",
    "\n",
    "print('type of var_int:', type(var_int))\n",
    "print('type of var_float:', type(var_float))"
   ]
  },
  {
   "cell_type": "markdown",
   "metadata": {},
   "source": [
    "#### 2.1.2 string字串\n",
    "string中儲存的就是我們常看到的一串文字，在宣告的時候文字需要用''符號包起來，該變數就會自動被視為string。除了我們常用的英文和中文外，還有許多特殊字元，例如 '\\n' 代表換行符號、 '\\t' 代表TAB，有關特殊字元的詳細介紹可以參考http://www.runoob.com/python/python-strings.html"
   ]
  },
  {
   "cell_type": "code",
   "execution_count": 55,
   "metadata": {},
   "outputs": [
    {
     "name": "stdout",
     "output_type": "stream",
     "text": [
      "type of str_1: <class 'str'>\n",
      "\n",
      "\n",
      "hello\n",
      "\n",
      "\n",
      "this is a string\n"
     ]
    }
   ],
   "source": [
    "str_1 = 'hello'\n",
    "str_2 = 'this is a string'\n",
    "\n",
    "# string的type\n",
    "print('type of str_1:',type(str_1))\n",
    "print('\\n')\n",
    "\n",
    "# '\\n'讓兩個輸出中間空了一行\n",
    "print(str_1)\n",
    "print('\\n')\n",
    "print(str_2)\n"
   ]
  },
  {
   "cell_type": "markdown",
   "metadata": {},
   "source": [
    "#### 2.1.3 list串列\n",
    "用中括號可以建構 list，是 python 中的一種資料型態。建構的方式為將值放入[]中括號內。在list中每一個\"位置\"代表伊格儲存的資料，可以存入int、float、str，list中的型態不須統一。    \n",
    "透過len()這個函式可以顯示list的長度。"
   ]
  },
  {
   "cell_type": "code",
   "execution_count": 66,
   "metadata": {},
   "outputs": [
    {
     "name": "stdout",
     "output_type": "stream",
     "text": [
      "['physics', 'chemistry'] [1, 2, 3, 4, 5] [0.5, 1.5, 2.5, 3.5, 4.5] ['a', 'b', 1997, 2000]\n",
      "length: 2 5 5 4\n"
     ]
    }
   ],
   "source": [
    "list_1 = ['physics', 'chemistry']\n",
    "list_2 = [1, 2, 3, 4, 5 ]\n",
    "list_3 = [0.5, 1.5, 2.5, 3.5, 4.5]\n",
    "list_4 = ['a', 'b', 1997, 2000]\n",
    "\n",
    "print(list_1, list_2, list_3, list_4)\n",
    "\n",
    "print('length:', len(list_1), len(list_2), len(list_3), len(list_4))"
   ]
  },
  {
   "cell_type": "markdown",
   "metadata": {},
   "source": [
    "若想取出list中某一個位置，則需要宣告所想要取出的值的位置，一樣使用中括號[]來表示。\n",
    "在程式語言中，通常[0]代表第一個位置，[1]代表第二個位置，以此類推。\n",
    "若想取出多個值，則用:代表區間，例如[1:5]就表示第1, 2, 3, 4號(index)的值，對應到的位置為第二、三、四、五個位置。\n",
    "也可以針對某個位置的值用 = (assign) 直接做更改。"
   ]
  },
  {
   "cell_type": "code",
   "execution_count": 74,
   "metadata": {},
   "outputs": [
    {
     "name": "stdout",
     "output_type": "stream",
     "text": [
      "list_1: ['physics', 'chemistry']\n",
      "index 0 of list_1: physics\n",
      "\n",
      "list_2: [1, 2, 3, 4, 5]\n",
      "indexs 1~5 of list_2: [2, 3, 4, 5]\n",
      "\n",
      "\n",
      "list before assign: ['c', 'b', 1997, 1998]\n",
      "list after assign: ['c', 'b', 1997, 1998]\n"
     ]
    }
   ],
   "source": [
    "# 取出0的位置\n",
    "value_1 = list_1[0] \n",
    "print('list_1:', list_1)\n",
    "print('index 0 of list_1:', value_1)\n",
    "\n",
    "# 取出某連續位置\n",
    "value_2 = list_2[1:5]\n",
    "print('\\nlist_2:', list_2)\n",
    "print('indexs 1~5 of list_2:', value_2)\n",
    "\n",
    "print('\\n')\n",
    "\n",
    "print('list before assign:', list_4)\n",
    "\n",
    "# 更該list中的內容\n",
    "list_4[0] = 'c'\n",
    "list_4[3] = 1998\n",
    "\n",
    "print('list after assign:', list_4)"
   ]
  },
  {
   "cell_type": "markdown",
   "metadata": {},
   "source": [
    "為了更靈活的使用list來儲存資料，我們可以對現有的list做內容的新增或式刪除。append()這個函式能夠新增資料於現存list的最後一個位置。del 則可以刪除某個位置的值。"
   ]
  },
  {
   "cell_type": "code",
   "execution_count": 76,
   "metadata": {},
   "outputs": [
    {
     "name": "stdout",
     "output_type": "stream",
     "text": [
      "Before append: ['c', 'b', 1997, 1998]\n",
      "After append: ['c', 'b', 1997, 1998, 1999]\n",
      "After del: ['b', 1997, 1998, 1999]\n"
     ]
    }
   ],
   "source": [
    "print('Before append:', list_4)\n",
    "\n",
    "# 新增1999至list的最後一個位置\n",
    "list_4.append(1999)\n",
    "\n",
    "print('After append:', list_4)\n",
    "\n",
    "# 將某個指定的位置資料刪除\n",
    "del list_4[0]\n",
    "\n",
    "print('After del:', list_4)"
   ]
  },
  {
   "cell_type": "markdown",
   "metadata": {},
   "source": [
    "### 2.2 變數運算"
   ]
  },
  {
   "cell_type": "markdown",
   "metadata": {},
   "source": [
    "#### 2.2.1 int、float運算\n",
    "int、float的變數和變數或是變數和常數之間可以做加減乘除的運算，以下的範例比較相同型態的運算以及不同型態的運算，由於int和float的運算行為相同，以下只以int作為範例"
   ]
  },
  {
   "cell_type": "code",
   "execution_count": 58,
   "metadata": {},
   "outputs": [
    {
     "name": "stdout",
     "output_type": "stream",
     "text": [
      "120 80 2000 5.0\n"
     ]
    }
   ],
   "source": [
    "# int加減乘除\n",
    "int_1 = 100\n",
    "add = int_1 + 20\n",
    "minus = int_1 - 20\n",
    "mul = int_1 * 20\n",
    "div = int_1 / 20\n",
    "\n",
    "print(add, minus, mul, div)"
   ]
  },
  {
   "cell_type": "code",
   "execution_count": 59,
   "metadata": {},
   "outputs": [
    {
     "name": "stdout",
     "output_type": "stream",
     "text": [
      "result_1: 150\n",
      "type of result_1: <class 'int'>\n",
      "\n",
      "result_2: 100.5\n",
      "type of result_2: <class 'float'>\n"
     ]
    }
   ],
   "source": [
    "# 比較相同型態和不同型態變數的運算差異\n",
    "int_1 = 100\n",
    "int_2 = 50\n",
    "float_1 = 0.5\n",
    "\n",
    "# int + int\n",
    "result_1 = int_1 + int_2\n",
    "print('result_1:', result_1)\n",
    "print('type of result_1:', type(result_1))\n",
    "\n",
    "# int + float\n",
    "result_2 = int_1 + float_1\n",
    "print('\\nresult_2:', result_2)\n",
    "print('type of result_2:', type(result_2))"
   ]
  },
  {
   "cell_type": "markdown",
   "metadata": {},
   "source": [
    "#### 2.2.2 string運算\n",
    "string運算和int、float的行為有些不同，詳見以下範例"
   ]
  },
  {
   "cell_type": "code",
   "execution_count": 62,
   "metadata": {},
   "outputs": [
    {
     "name": "stdout",
     "output_type": "stream",
     "text": [
      "add: python is nice\n",
      "mul:  nice nice nice nice nice\n"
     ]
    }
   ],
   "source": [
    "str_1 = 'python is'\n",
    "str_2 = ' nice'\n",
    "\n",
    "add = str_1 + str_2\n",
    "mul = str_2 * 5\n",
    "\n",
    "print('add:', add)\n",
    "print('mul:', mul)"
   ]
  },
  {
   "cell_type": "markdown",
   "metadata": {},
   "source": [
    "#### 2.2.3 list運算\n",
    "list也可以像其他型態變數一樣做加減乘除的運算，其定義跟string的運算有些類似。加法對於兩個list而言是合併(concatenate)的概念，而乘法則是重複N次。"
   ]
  },
  {
   "cell_type": "code",
   "execution_count": 75,
   "metadata": {},
   "outputs": [
    {
     "name": "stdout",
     "output_type": "stream",
     "text": [
      "list_1: ['physics', 'chemistry']\n",
      "list_2: [1, 2, 3, 4, 5]\n",
      "\n",
      "Add: ['physics', 'chemistry', 1, 2, 3, 4, 5]\n",
      "Multiply [1, 2, 3, 4, 5, 1, 2, 3, 4, 5]\n"
     ]
    }
   ],
   "source": [
    "print('list_1:', list_1)\n",
    "print('list_2:', list_2)\n",
    "\n",
    "add = list_1 + list_2\n",
    "multiply = list_2 * 2\n",
    "\n",
    "print('\\nAdd:', add)\n",
    "print('Multiply', multiply)"
   ]
  },
  {
   "cell_type": "markdown",
   "metadata": {},
   "source": [
    "## 3. For迴圈(For loop)\n",
    "\n",
    "迴圈用於取得含有多個元素的變數，例如可以將 list 變數中的每一個元素依序取出，或是需要重複做某件事情數次。需要被for重複執行的動作需要用 **縮排** 來表示。  \n",
    "\n",
    "以下的範例中，value會等於每一個在list_1中的值，並且將每一個value print出來。"
   ]
  },
  {
   "cell_type": "code",
   "execution_count": 15,
   "metadata": {},
   "outputs": [
    {
     "name": "stdout",
     "output_type": "stream",
     "text": [
      "1\n",
      "2\n",
      "3\n",
      "4\n",
      "5\n"
     ]
    }
   ],
   "source": [
    "list_1 = [1, 2, 3, 4, 5]\n",
    "\n",
    "for value in list_1:\n",
    "    print(value)"
   ]
  },
  {
   "cell_type": "markdown",
   "metadata": {},
   "source": [
    "假設今天使用者並不想走完整個list_1的內容，只想取出前三個並相加，那就可以用range()這個函式指定次數。range()會回傳一個連續數字的list，例如: range(3) 就包含了0, 1, 2這三個數字，再將這些數字變成list的位置(index)就可以重複做出指定次數。"
   ]
  },
  {
   "cell_type": "code",
   "execution_count": 16,
   "metadata": {},
   "outputs": [
    {
     "name": "stdout",
     "output_type": "stream",
     "text": [
      "i: 0\n",
      "value: 1\n",
      "i: 1\n",
      "value: 2\n",
      "i: 2\n",
      "value: 3\n"
     ]
    }
   ],
   "source": [
    "list_1 = [1, 2, 3, 4, 5]\n",
    "\n",
    "for i in range(3):\n",
    "    print('i:', i)\n",
    "    print('value:', list_1[i])\n"
   ]
  },
  {
   "cell_type": "code",
   "execution_count": 17,
   "metadata": {},
   "outputs": [
    {
     "name": "stdout",
     "output_type": "stream",
     "text": [
      "length: 5 \n",
      "\n",
      "1\n",
      "2\n",
      "3\n",
      "4\n",
      "5\n"
     ]
    }
   ],
   "source": [
    "# 用len()和range()來實作for loop第一個範例\n",
    "list_1 = [1, 2, 3, 4, 5]\n",
    "\n",
    "print('length:', len(list_1), '\\n')\n",
    "\n",
    "for i in range(len(list_1)):\n",
    "    print(list_1[i])\n"
   ]
  },
  {
   "cell_type": "markdown",
   "metadata": {},
   "source": [
    "## 4. 條件判斷式 if ... else ...\n",
    "\n",
    "在 if 後面接一個判斷式，條件成立則執行後面的指令，反之則執行 else 後面的指令。敘述條件的時候我們使用 == 表示相等、  > 表示大於、< 表示小於，若條件大於一個可用 **and** 或 **or** 連接，和前述for loop相同，由縮排來決定if下執行的指令。"
   ]
  },
  {
   "cell_type": "code",
   "execution_count": 18,
   "metadata": {},
   "outputs": [
    {
     "name": "stdout",
     "output_type": "stream",
     "text": [
      "a is not 10\n"
     ]
    }
   ],
   "source": [
    "# change value of a to see difference\n",
    "a = 11 \n",
    "if a == 10:\n",
    "    print('a is 10')\n",
    "else:\n",
    "    print('a is not 10')"
   ]
  },
  {
   "cell_type": "code",
   "execution_count": 19,
   "metadata": {},
   "outputs": [
    {
     "name": "stdout",
     "output_type": "stream",
     "text": [
      "b is in range\n"
     ]
    }
   ],
   "source": [
    "# change value of b to see difference\n",
    "b = 11 \n",
    "if b > 5 and b < 20 :\n",
    "    print('b is in range')\n",
    "else:\n",
    "    print('b is not in range')"
   ]
  },
  {
   "cell_type": "code",
   "execution_count": 20,
   "metadata": {},
   "outputs": [
    {
     "name": "stdout",
     "output_type": "stream",
     "text": [
      "c is string\n"
     ]
    }
   ],
   "source": [
    "#change the type of c to see difference\n",
    "c = 'c'\n",
    "\n",
    "if type(c) == str:\n",
    "    print('c is string')\n",
    "    \n",
    "elif type(c) == int:\n",
    "    print('c is int')\n",
    "    \n",
    "elif type(c) == float:\n",
    "    print('c is float')"
   ]
  },
  {
   "cell_type": "markdown",
   "metadata": {},
   "source": [
    "## 5. 函數(Function)\n",
    "\n",
    "函數是一段有特定功能、可以重複使用的程式碼，函數的宣告由def開頭，並且需要帶有()，而任何傳入函數的變數都須放在()中間，函數所包含的內容由縮排決定，並且以 **return** 來結束某個函數。\n",
    "我們在前面所提到的print()、type()、len()都是函數的一種。"
   ]
  },
  {
   "cell_type": "code",
   "execution_count": 21,
   "metadata": {},
   "outputs": [
    {
     "name": "stdout",
     "output_type": "stream",
     "text": [
      "a\n",
      "123\n"
     ]
    }
   ],
   "source": [
    "def print_something(thing_to_print): # thing_to_print 目前是一個空殼，代表著當有變數傳進來的時候，thing_to_print會等於那個變數\n",
    "    print(thing_to_print)\n",
    "    return\n",
    "\n",
    "print_something('a') #呼叫函數的名字以及給予input值使用函數\n",
    "print_something(123)"
   ]
  },
  {
   "cell_type": "code",
   "execution_count": 22,
   "metadata": {},
   "outputs": [
    {
     "name": "stdout",
     "output_type": "stream",
     "text": [
      "Name Mike\n",
      "Age: 24\n"
     ]
    }
   ],
   "source": [
    "def print_info(name, age):\n",
    "    print('Name', name)\n",
    "    print('Age:', age)\n",
    "    return\n",
    "    \n",
    "print_info(name='Mike', age=24)"
   ]
  },
  {
   "cell_type": "code",
   "execution_count": 23,
   "metadata": {},
   "outputs": [
    {
     "name": "stdout",
     "output_type": "stream",
     "text": [
      "10\n"
     ]
    }
   ],
   "source": [
    "def multiply(num_1, num_2):\n",
    "    result = num_1 * num_2\n",
    "    \n",
    "    return result\n",
    "\n",
    "mul = multiply(5, 2)\n",
    "print(mul)"
   ]
  }
 ],
 "metadata": {
  "kernelspec": {
   "display_name": "Python 3",
   "language": "python",
   "name": "python3"
  },
  "language_info": {
   "codemirror_mode": {
    "name": "ipython",
    "version": 3
   },
   "file_extension": ".py",
   "mimetype": "text/x-python",
   "name": "python",
   "nbconvert_exporter": "python",
   "pygments_lexer": "ipython3",
   "version": "3.5.2"
  }
 },
 "nbformat": 4,
 "nbformat_minor": 2
}
