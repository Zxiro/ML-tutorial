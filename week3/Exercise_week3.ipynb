{
 "cells": [
  {
   "cell_type": "markdown",
   "metadata": {},
   "source": [
    "## What is scikit-learn?\n",
    "\n",
    "Scikit-learn provides a range of supervised and unsupervised learning algorithms via a consistent interface in Python.\n",
    "\n",
    "\n",
    "## Data in scikit-learn\n",
    "\n",
    "Data in scikit-learn, with very few exceptions, is assumed to be stored as a two-dimensional array, of shape \\[n_samples, n_features\\].\n",
    "\n",
    "- **n_samples** : The number of samples: each sample is an item to process (e.g. classify). A sample can be a document, a picture, a sound, a video, a row in database or CSV file, or whatever you can describe with a fixed set of quantitative traits.\n",
    "\n",
    "- **n_features** : The number of features or distinct traits that can be used to describe each item in a quantitative manner. Features are generally real-valued, but may be Boolean or discrete-valued in some cases.\n",
    "\n",
    "\n",
    "\n",
    "## General Machine Learning Steps\n",
    "\n",
    "1. Data collection, preprocessing (e.g., integration, cleaning, etc.), and exploration:\n",
    "    - Split a dataset into the training and testing datasets\n",
    "2. Model development:\n",
    "    - Assume a model $\\mathcal F: \\{f_1, f_2, \\cdots \\}$ that is a collection of candidate functions  $\\mathcal f$ Let's assume that each  $\\mathcal f$ is parametrized by $\\mathcal w$.\n",
    "    - Define a cost function $\\mathcal C(w)$ that measures \"how good a particular $\\mathcal f$ can explain the training data\". The lower the cost function the better.\n",
    "3. Training: employ an algorithm that finds the best (or good enough) function $\\mathcal f^∗$ in the model that minimizes the cost function over the training dataset\n",
    "4. Testing: evaluate the performance of the learned $\\mathcal f^∗$ using the testing dataset.\n",
    "5. Apply the model in the real world.\n",
    "\n",
    "> The data is presented to the algorithm usually as a two-dimensional array (or matrix) of numbers. Each data point (also known as a sample or training instance) that we want to either learn from or make a decision on is represented as a list of numbers, a so-called feature vector, and its containing features represent the properties of this point.\n",
    "\n",
    "> In classification, the label is discrete, such as \"spam\" or \"no spam\". In other words, it provides a clear-cut distinction between categories. Furthermore, it is important to note that class labels are nominal, not ordinal variables. Nominal and ordinal variables are both subcategories of categorical variable. Ordinal variables imply an order, for example, T-shirt sizes \"XL > L > M > S\". On the contrary, nominal variables don't imply an order, for example, we (usually) can't assume \"orange > blue > green\"."
   ]
  },
  {
   "cell_type": "markdown",
   "metadata": {},
   "source": [
    "## Cat classifier - Reference to Andrew Ng's course on coursera.\n",
    "- 0 : non-cat\n",
    "- 1 : cat\n"
   ]
  },
  {
   "cell_type": "code",
   "execution_count": 1,
   "metadata": {},
   "outputs": [
    {
     "name": "stdout",
     "output_type": "stream",
     "text": [
      "train_X shape: (209, 64, 64, 3)\n",
      "train_Y shape: (209,)\n",
      "test_X shape: (50, 64, 64, 3)\n",
      "test_Y shape: (50,)\n"
     ]
    }
   ],
   "source": [
    "%matplotlib inline\n",
    "import numpy as np\n",
    "import sklearn\n",
    "import matplotlib.pyplot as plt\n",
    "\n",
    "train_X = np.load('train_X.npy')\n",
    "train_Y = np.load('train_Y.npy')\n",
    "test_X = np.load('test_X.npy')\n",
    "test_Y = np.load('test_Y.npy')\n",
    "\n",
    "\n",
    "print(\"train_X shape: {}\".format(train_X.shape))\n",
    "print(\"train_Y shape: {}\".format(train_Y.shape))\n",
    "print(\"test_X shape: {}\".format(test_X.shape))\n",
    "print(\"test_Y shape: {}\".format(test_Y.shape))\n",
    "#print(train_X[0])"
   ]
  },
  {
   "cell_type": "code",
   "execution_count": 4,
   "metadata": {},
   "outputs": [
    {
     "data": {
      "text/plain": [
       "<matplotlib.image.AxesImage at 0x7f73236653c8>"
      ]
     },
     "execution_count": 4,
     "metadata": {},
     "output_type": "execute_result"
    },
    {
     "data": {
      "image/png": "[encoded data removed]",
      "text/plain": [
       "<matplotlib.figure.Figure at 0x7f73700b9940>"
      ]
     },
     "metadata": {},
     "output_type": "display_data"
    }
   ],
   "source": [
    "# Feel free to change the index\n",
    "index = 15\n",
    "plt.imshow(train_X[index])"
   ]
  },
  {
   "cell_type": "code",
   "execution_count": null,
   "metadata": {},
   "outputs": [],
   "source": [
    "# Reshape the training and test data sets so that images of size (64, 64, 3) are flattened into single \n",
    "# vectors of shape (64 * 64 * 3, 1).\n",
    "num_train = train_X.shape[0]\n",
    "num_test = test_X.shape[0]\n",
    "flatten_train_X = train_X.reshape(num_train,-1)\n",
    "flatten_test_X = test_X.reshape(num_test, -1)\n",
    "\n",
    "print(\"Flatten train_X shape: {}\".format(flatten_train_X.shape))\n",
    "print(\"Flatten test_X shape: {}\".format(flatten_test_X.shape))\n",
    "#print(flatten_train_X[0,:10])\n",
    "\n",
    "# To represent color images, the red, green and blue channels (RGB) must be specified for each pixel, and so the \n",
    "# pixel value is actually a vector of three numbers ranging from 0 to 255.\n",
    "# One common preprocessing step in machine learning is to center and standardize your dataset, meaning that you substract \n",
    "# the mean of the whole numpy array from each example, and then divide each example by the standard deviation of the whole \n",
    "# numpy array. \n",
    "#\n",
    "# But for picture datasets, it is simpler and more convenient and works almost as well to just divide every row of the \n",
    "# dataset by 255 (the maximum value of a pixel channel).\n",
    "norm_train_X = flatten_train_X / 255\n",
    "norm_test_X = flatten_test_X / 255\n"
   ]
  },
  {
   "cell_type": "code",
   "execution_count": null,
   "metadata": {},
   "outputs": [],
   "source": [
    "from sklearn.linear_model import LogisticRegression\n",
    "\n",
    "clf = LogisticRegression()\n",
    "clf.fit(norm_train_X, train_Y)\n",
    "print(clf.score(norm_train_X, train_Y))\n",
    "print(clf.score(norm_test_X, test_Y))"
   ]
  },
  {
   "cell_type": "code",
   "execution_count": null,
   "metadata": {},
   "outputs": [],
   "source": [
    "index = 25\n",
    "print(\"Model prediction: {}\".format(clf.predict(norm_test_X[index].reshape(1,-1))))\n",
    "plt.imshow(test_X[index])"
   ]
  },
  {
   "cell_type": "markdown",
   "metadata": {},
   "source": [
    "##  [Kaggle - Pokémon for Data Mining and Machine Learning](https://www.kaggle.com/alopez247/pokemon)\n",
    "\n",
    "- Pandas basic usage"
   ]
  },
  {
   "cell_type": "code",
   "execution_count": 1,
   "metadata": {},
   "outputs": [
    {
     "name": "stdout",
     "output_type": "stream",
     "text": [
      "Classes of type_1: ['Grass' 'Fire' 'Water' 'Bug' 'Normal' 'Poison' 'Electric' 'Ground' 'Fairy'\n",
      " 'Fighting' 'Psychic' 'Rock' 'Ghost' 'Ice' 'Dragon' 'Dark' 'Steel' 'Flying']\n",
      "Classes of Body_Style: ['quadruped' 'bipedal_tailed' 'insectoid' 'serpentine_body' 'four_wings'\n",
      " 'two_wings' 'bipedal_tailless' 'head_legs' 'head_base' 'multiple_bodies'\n",
      " 'several_limbs' 'head_arms' 'with_fins' 'head_only']\n"
     ]
    },
    {
     "data": {
      "text/html": [
       "<div>\n",
       "<style>\n",
       "    .dataframe thead tr:only-child th {\n",
       "        text-align: right;\n",
       "    }\n",
       "\n",
       "    .dataframe thead th {\n",
       "        text-align: left;\n",
       "    }\n",
       "\n",
       "    .dataframe tbody tr th {\n",
       "        vertical-align: top;\n",
       "    }\n",
       "</style>\n",
       "<table border=\"1\" class=\"dataframe\">\n",
       "  <thead>\n",
       "    <tr style=\"text-align: right;\">\n",
       "      <th></th>\n",
       "      <th>Number</th>\n",
       "      <th>Name</th>\n",
       "      <th>Type_1</th>\n",
       "      <th>Type_2</th>\n",
       "      <th>Total</th>\n",
       "      <th>HP</th>\n",
       "      <th>Attack</th>\n",
       "      <th>Defense</th>\n",
       "      <th>Sp_Atk</th>\n",
       "      <th>Sp_Def</th>\n",
       "      <th>...</th>\n",
       "      <th>Color</th>\n",
       "      <th>hasGender</th>\n",
       "      <th>Pr_Male</th>\n",
       "      <th>Egg_Group_1</th>\n",
       "      <th>Egg_Group_2</th>\n",
       "      <th>hasMegaEvolution</th>\n",
       "      <th>Height_m</th>\n",
       "      <th>Weight_kg</th>\n",
       "      <th>Catch_Rate</th>\n",
       "      <th>Body_Style</th>\n",
       "    </tr>\n",
       "  </thead>\n",
       "  <tbody>\n",
       "    <tr>\n",
       "      <th>0</th>\n",
       "      <td>1</td>\n",
       "      <td>Bulbasaur</td>\n",
       "      <td>Grass</td>\n",
       "      <td>Poison</td>\n",
       "      <td>318</td>\n",
       "      <td>45</td>\n",
       "      <td>49</td>\n",
       "      <td>49</td>\n",
       "      <td>65</td>\n",
       "      <td>65</td>\n",
       "      <td>...</td>\n",
       "      <td>Green</td>\n",
       "      <td>True</td>\n",
       "      <td>0.875</td>\n",
       "      <td>Monster</td>\n",
       "      <td>Grass</td>\n",
       "      <td>False</td>\n",
       "      <td>0.71</td>\n",
       "      <td>6.9</td>\n",
       "      <td>45</td>\n",
       "      <td>quadruped</td>\n",
       "    </tr>\n",
       "    <tr>\n",
       "      <th>1</th>\n",
       "      <td>2</td>\n",
       "      <td>Ivysaur</td>\n",
       "      <td>Grass</td>\n",
       "      <td>Poison</td>\n",
       "      <td>405</td>\n",
       "      <td>60</td>\n",
       "      <td>62</td>\n",
       "      <td>63</td>\n",
       "      <td>80</td>\n",
       "      <td>80</td>\n",
       "      <td>...</td>\n",
       "      <td>Green</td>\n",
       "      <td>True</td>\n",
       "      <td>0.875</td>\n",
       "      <td>Monster</td>\n",
       "      <td>Grass</td>\n",
       "      <td>False</td>\n",
       "      <td>0.99</td>\n",
       "      <td>13.0</td>\n",
       "      <td>45</td>\n",
       "      <td>quadruped</td>\n",
       "    </tr>\n",
       "    <tr>\n",
       "      <th>2</th>\n",
       "      <td>3</td>\n",
       "      <td>Venusaur</td>\n",
       "      <td>Grass</td>\n",
       "      <td>Poison</td>\n",
       "      <td>525</td>\n",
       "      <td>80</td>\n",
       "      <td>82</td>\n",
       "      <td>83</td>\n",
       "      <td>100</td>\n",
       "      <td>100</td>\n",
       "      <td>...</td>\n",
       "      <td>Green</td>\n",
       "      <td>True</td>\n",
       "      <td>0.875</td>\n",
       "      <td>Monster</td>\n",
       "      <td>Grass</td>\n",
       "      <td>True</td>\n",
       "      <td>2.01</td>\n",
       "      <td>100.0</td>\n",
       "      <td>45</td>\n",
       "      <td>quadruped</td>\n",
       "    </tr>\n",
       "    <tr>\n",
       "      <th>3</th>\n",
       "      <td>4</td>\n",
       "      <td>Charmander</td>\n",
       "      <td>Fire</td>\n",
       "      <td>NaN</td>\n",
       "      <td>309</td>\n",
       "      <td>39</td>\n",
       "      <td>52</td>\n",
       "      <td>43</td>\n",
       "      <td>60</td>\n",
       "      <td>50</td>\n",
       "      <td>...</td>\n",
       "      <td>Red</td>\n",
       "      <td>True</td>\n",
       "      <td>0.875</td>\n",
       "      <td>Monster</td>\n",
       "      <td>Dragon</td>\n",
       "      <td>False</td>\n",
       "      <td>0.61</td>\n",
       "      <td>8.5</td>\n",
       "      <td>45</td>\n",
       "      <td>bipedal_tailed</td>\n",
       "    </tr>\n",
       "    <tr>\n",
       "      <th>4</th>\n",
       "      <td>5</td>\n",
       "      <td>Charmeleon</td>\n",
       "      <td>Fire</td>\n",
       "      <td>NaN</td>\n",
       "      <td>405</td>\n",
       "      <td>58</td>\n",
       "      <td>64</td>\n",
       "      <td>58</td>\n",
       "      <td>80</td>\n",
       "      <td>65</td>\n",
       "      <td>...</td>\n",
       "      <td>Red</td>\n",
       "      <td>True</td>\n",
       "      <td>0.875</td>\n",
       "      <td>Monster</td>\n",
       "      <td>Dragon</td>\n",
       "      <td>False</td>\n",
       "      <td>1.09</td>\n",
       "      <td>19.0</td>\n",
       "      <td>45</td>\n",
       "      <td>bipedal_tailed</td>\n",
       "    </tr>\n",
       "  </tbody>\n",
       "</table>\n",
       "<p>5 rows × 23 columns</p>\n",
       "</div>"
      ],
      "text/plain": [
       "   Number        Name Type_1  Type_2  Total  HP  Attack  Defense  Sp_Atk  \\\n",
       "0       1   Bulbasaur  Grass  Poison    318  45      49       49      65   \n",
       "1       2     Ivysaur  Grass  Poison    405  60      62       63      80   \n",
       "2       3    Venusaur  Grass  Poison    525  80      82       83     100   \n",
       "3       4  Charmander   Fire     NaN    309  39      52       43      60   \n",
       "4       5  Charmeleon   Fire     NaN    405  58      64       58      80   \n",
       "\n",
       "   Sp_Def       ...        Color  hasGender  Pr_Male Egg_Group_1  Egg_Group_2  \\\n",
       "0      65       ...        Green       True    0.875     Monster        Grass   \n",
       "1      80       ...        Green       True    0.875     Monster        Grass   \n",
       "2     100       ...        Green       True    0.875     Monster        Grass   \n",
       "3      50       ...          Red       True    0.875     Monster       Dragon   \n",
       "4      65       ...          Red       True    0.875     Monster       Dragon   \n",
       "\n",
       "   hasMegaEvolution Height_m Weight_kg  Catch_Rate      Body_Style  \n",
       "0             False     0.71       6.9          45       quadruped  \n",
       "1             False     0.99      13.0          45       quadruped  \n",
       "2              True     2.01     100.0          45       quadruped  \n",
       "3             False     0.61       8.5          45  bipedal_tailed  \n",
       "4             False     1.09      19.0          45  bipedal_tailed  \n",
       "\n",
       "[5 rows x 23 columns]"
      ]
     },
     "execution_count": 1,
     "metadata": {},
     "output_type": "execute_result"
    }
   ],
   "source": [
    "import pandas as pd\n",
    "df = pd.read_csv('pokemon_alopez247.csv')\n",
    "print(\"Classes of type_1: {}\".format(df['Type_1'].unique()))\n",
    "print(\"Classes of Body_Style: {}\".format(df['Body_Style'].unique()))\n",
    "df.head(5)"
   ]
  },
  {
   "cell_type": "markdown",
   "metadata": {},
   "source": [
    "## Convert Categorical Features to Numeric Features\n",
    "\n",
    "- **Ordinal Values**\n",
    "> Generation\n",
    "- **Nominal Values**\n",
    "> Color, Type"
   ]
  },
  {
   "cell_type": "code",
   "execution_count": null,
   "metadata": {},
   "outputs": [],
   "source": [
    "# Ground + Rock, Flying + Fairy + Dragon, Poison + Ghost + Dark, Water + Ice, Fighting + Psychic + Steel\n",
    "mapping_dictionary = {\"Type_1\":{ 'Grass': 1, 'Fire': 2, 'Water': 3, 'Bug': 4, 'Normal': 5, 'Poison': 6, 'Electric': 7, 'Ground': 8, 'Fairy': 9, \n",
    " 'Fighting': 10, 'Psychic': 10, 'Rock': 8, 'Ghost': 6, 'Ice': 3, 'Dragon': 9, 'Dark':6, 'Steel': 10, 'Flying': 9}}\n",
    "df = df.replace(mapping_dictionary)\n",
    "df[\"isLegendary\"] = df[\"isLegendary\"].astype(int) # Boolean to int\n",
    "df[\"hasMegaEvolution\"] = df[\"hasMegaEvolution\"].astype(int)\n",
    "\n",
    "dummy_df = pd.get_dummies(df['Color'])  ## one-hot encoding\n",
    "df = pd.concat([df, dummy_df], axis=1)\n",
    "df = df.drop('Color', axis=1)\n",
    "df.head(5)"
   ]
  },
  {
   "cell_type": "code",
   "execution_count": null,
   "metadata": {
    "scrolled": true
   },
   "outputs": [],
   "source": [
    "df.describe() # description of the dataset only for numeric feature"
   ]
  },
  {
   "cell_type": "code",
   "execution_count": null,
   "metadata": {},
   "outputs": [],
   "source": [
    "# Data shape\n",
    "df.shape"
   ]
  },
  {
   "cell_type": "code",
   "execution_count": null,
   "metadata": {},
   "outputs": [],
   "source": [
    "## drop column because it if irrelevant to the results\n",
    "   \n",
    "df = df.drop(['Number','Name', 'Type_2', 'Egg_Group_1', 'Egg_Group_2', 'hasGender', 'Body_Style'],axis=1)\n",
    "df.head(5)"
   ]
  },
  {
   "cell_type": "code",
   "execution_count": 3,
   "metadata": {},
   "outputs": [
    {
     "data": {
      "text/plain": [
       "(721, 23)"
      ]
     },
     "execution_count": 3,
     "metadata": {},
     "output_type": "execute_result"
    }
   ],
   "source": [
    "# Data shape after drop column\n",
    "df.shape"
   ]
  },
  {
   "cell_type": "code",
   "execution_count": 2,
   "metadata": {},
   "outputs": [
    {
     "data": {
      "text/plain": [
       "Water       105\n",
       "Normal       93\n",
       "Grass        66\n",
       "Bug          63\n",
       "Psychic      47\n",
       "Fire         47\n",
       "Rock         41\n",
       "Electric     36\n",
       "Ground       30\n",
       "Poison       28\n",
       "Dark         28\n",
       "Fighting     25\n",
       "Dragon       24\n",
       "Ghost        23\n",
       "Ice          23\n",
       "Steel        22\n",
       "Fairy        17\n",
       "Flying        3\n",
       "Name: Type_1, dtype: int64"
      ]
     },
     "execution_count": 2,
     "metadata": {},
     "output_type": "execute_result"
    }
   ],
   "source": [
    "df['Type_1'].value_counts() # classes count of type_1"
   ]
  },
  {
   "cell_type": "markdown",
   "metadata": {},
   "source": [
    "## Missing value\n",
    "\n",
    "There are many methods to deal with missing value such as dorpping the feature/sample, or giving values by zero/column mean/interpolation. There is not always right way to do, it depends upon your domain knowledge or experiences."
   ]
  },
  {
   "cell_type": "code",
   "execution_count": null,
   "metadata": {},
   "outputs": [],
   "source": [
    "## Missing value\n",
    "print(df.isnull().sum()) # Pr_Male has 77 missing value\n",
    "df.dropna(axis=1, inplace=True)\n",
    "df.shape"
   ]
  },
  {
   "cell_type": "code",
   "execution_count": 4,
   "metadata": {},
   "outputs": [
    {
     "data": {
      "text/plain": [
       "int64      10\n",
       "object      7\n",
       "bool        3\n",
       "float64     3\n",
       "dtype: int64"
      ]
     },
     "execution_count": 4,
     "metadata": {},
     "output_type": "execute_result"
    }
   ],
   "source": [
    "# We need all features are numeric, check if there still has dtype = object\n",
    "df.dtypes.value_counts()"
   ]
  },
  {
   "cell_type": "code",
   "execution_count": null,
   "metadata": {},
   "outputs": [],
   "source": [
    "# Finally check whether all features are done by the steps we described above.\n",
    "df.info()"
   ]
  },
  {
   "cell_type": "code",
   "execution_count": null,
   "metadata": {},
   "outputs": [],
   "source": [
    "## Also you can draw histgram using pandas\n",
    "df[['HP', 'Attack']].plot.hist(alpha=0.5)"
   ]
  },
  {
   "cell_type": "code",
   "execution_count": null,
   "metadata": {},
   "outputs": [],
   "source": [
    "## Split data\n",
    "from sklearn.model_selection import train_test_split\n",
    "from sklearn.svm import SVC\n",
    "from sklearn.pipeline import Pipeline\n",
    "from sklearn.preprocessing import StandardScaler\n",
    "\n",
    "df_train, df_test = train_test_split(df, test_size=0.2, random_state=42)\n",
    "\n",
    "def get_arrays(df):\n",
    "    X = np.array(df.iloc[:,1:])\n",
    "    y = np.array(df['Type_1'])\n",
    "    return X, y\n"
   ]
  },
  {
   "cell_type": "code",
   "execution_count": null,
   "metadata": {},
   "outputs": [],
   "source": [
    "train_X, train_Y = get_arrays(df_train)\n",
    "test_X, test_Y = get_arrays(df_test)\n",
    "scaler = StandardScaler()\n",
    "svc = SVC(C=5, gamma=0.04)\n",
    "clf = Pipeline([('scaler', scaler), ('svc', svc)])\n",
    "clf.fit(train_X, train_Y)\n",
    "print(\"Accuracy: {}\".format(clf.score(train_X, train_Y)))\n",
    "print(\"Accuracy: {}\".format(clf.score(test_X, test_Y)))"
   ]
  },
  {
   "cell_type": "markdown",
   "metadata": {},
   "source": [
    "## Exercise - Build a classifier on stock data (predict a stock will rise(1) or not(0))\n",
    "\n",
    "- Load the data in the stock directory.\n",
    "- Choose a classifier in sklearn package(SVC, decision tree, KNN, MLP, etc.)\n",
    "- Make the predictions on test data and report the results.\n",
    "- Raw data is in \"/home/mlb/res/stock/twse/raw/\"  or json data is in \"/home/mlb/res/stock/twse/json/\"\n",
    "- Feature set consists of thirty features(six features each day, high price, low price, open price, close price, adjust close, volume)."
   ]
  },
  {
   "cell_type": "code",
   "execution_count": null,
   "metadata": {},
   "outputs": [],
   "source": [
    "stock_train_X = np.load('stock/train_X.npy') # train 2017-05-01 ~ 2017-05-31\n",
    "stock_train_Y = np.load('stock/train_Y.npy')\n",
    "stock_test_X = np.load('stock/test_X.npy') # test 2017-06-01 ~ 2017-06-30\n",
    "stock_test_Y = np.load('stock/test_Y.npy')\n",
    "print(stock_train_X[:5])\n",
    "print(stock_train_Y[:5])"
   ]
  },
  {
   "cell_type": "markdown",
   "metadata": {},
   "source": [
    "# Reference to  Andrew Ng, Professor Lin 's course on coursera and Professor Wu in NTHU."
   ]
  }
 ],
 "metadata": {
  "kernelspec": {
   "display_name": "Python 3",
   "language": "python",
   "name": "python3"
  },
  "language_info": {
   "codemirror_mode": {
    "name": "ipython",
    "version": 3
   },
   "file_extension": ".py",
   "mimetype": "text/x-python",
   "name": "python",
   "nbconvert_exporter": "python",
   "pygments_lexer": "ipython3",
   "version": "3.4.3"
  }
 },
 "nbformat": 4,
 "nbformat_minor": 2
}
