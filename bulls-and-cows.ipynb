{
 "cells": [
  {
   "cell_type": "markdown",
   "metadata": {},
   "source": [
    "# 猜數字遊戲\n",
    "\n",
    "### 遊戲玩法說明：\n",
    "\n",
    "玩家在心裡想一個遊戲，電腦將會猜出你心中所想的數字。\n",
    "\n",
    "遊戲流程說明:\n",
    " 1. 請先在心中想一個四位數的數字，數字不能重複，例如 `4485` 是不可以的\n",
    " 2. 電腦會先給出一個猜測的數字，玩家根據此數字給予電腦回覆，例如 `2A1B`\n",
    "    * `A` 代表數字跟位置皆正確；`B` 代表數字正確但位置不正確\n",
    "    * 例如當心中想的是 `1234` 而電腦猜測 `4261` 時，應回覆 `1A2B`\n",
    " 3. 電腦會依據回覆是猜測下一個數字，直到遊戲結束"
   ]
  },
  {
   "cell_type": "code",
   "execution_count": 1,
   "metadata": {},
   "outputs": [
    {
     "name": "stdout",
     "output_type": "stream",
     "text": [
      "I guess 6245\n",
      "Result: 1A1B\n",
      "I guess 5041\n",
      "Result: 0A2B\n",
      "I guess 6350\n",
      "Result: 0A1B\n",
      "I guess 4208\n",
      "Result: 1A1B\n",
      "I guess 4985\n",
      "Result: 0A1B\n",
      "I guess 3214\n",
      "Result: 2A2B\n",
      "Your number is 1234\n"
     ]
    }
   ],
   "source": [
    "import bulls_and_cows as bc\n",
    "\n",
    "bc.demo()"
   ]
  }
 ],
 "metadata": {
  "kernelspec": {
   "display_name": "Python 3",
   "language": "python",
   "name": "python3"
  },
  "language_info": {
   "codemirror_mode": {
    "name": "ipython",
    "version": 3
   },
   "file_extension": ".py",
   "mimetype": "text/x-python",
   "name": "python",
   "nbconvert_exporter": "python",
   "pygments_lexer": "ipython3",
   "version": "3.4.3"
  }
 },
 "nbformat": 4,
 "nbformat_minor": 2
}
