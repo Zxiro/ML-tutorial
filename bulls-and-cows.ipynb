{
 "cells": [
  {
   "cell_type": "code",
   "execution_count": 9,
   "metadata": {
    "collapsed": true
   },
   "outputs": [],
   "source": [
    "import random\n",
    "\n",
    "def generate_numbers():\n",
    "    pool = [1, 2, 3, 4, 5, 6, 7, 8, 9, 0] \n",
    "    candidate = []\n",
    "    for first in pool:\n",
    "        second_pool = [i for i in pool if i != first]\n",
    "        for second in second_pool:\n",
    "            third_pool = [i for i in second_pool if i != second]\n",
    "            for third in third_pool:\n",
    "                forth_pool = [i for i in third_pool if i != third]\n",
    "                for forth in forth_pool:\n",
    "                    candidate.append(\"{}{}{}{}\".format(first, second, third, forth))\n",
    "    return candidate"
   ]
  },
  {
   "cell_type": "code",
   "execution_count": 10,
   "metadata": {
    "collapsed": true
   },
   "outputs": [],
   "source": [
    "def delete_invalidated_number(s, num2):\n",
    "    temp = list(candidate)\n",
    "    for num1 in temp:\n",
    "        A = 0\n",
    "        rest_num1 = []\n",
    "        rest_num2 = []\n",
    "        for x, y in zip(num1, num2):\n",
    "            if x == y:\n",
    "                A += 1\n",
    "            else:\n",
    "                rest_num1.append(x)\n",
    "                rest_num2.append(y)\n",
    "        B = len([e for e in rest_num1 if e in rest_num2])\n",
    "        state = \"{}A{}B\".format(A, B)\n",
    "        if state != s:\n",
    "            candidate.remove(num1)"
   ]
  },
  {
   "cell_type": "code",
   "execution_count": 11,
   "metadata": {
    "collapsed": true
   },
   "outputs": [],
   "source": [
    "def pick_a_number(pool):\n",
    "    return random.choice(pool)"
   ]
  },
  {
   "cell_type": "markdown",
   "metadata": {},
   "source": [
    "# 猜數字遊戲\n",
    "\n",
    "### 遊戲玩法說明:\n",
    "\n",
    "玩家在心裡想一個遊戲，電腦將會猜出你心中所想的數字。\n",
    "\n",
    "遊戲流程說明:\n",
    "1. 請先在心中想一個4位數的數字，數字不能重複 (e.g. 4485 是不可以的)\n",
    "2. 電腦會先給出一個猜測的數字，玩家根據此數字給予電腦回饋(e.g. 2A1B)\n",
    "> A代表數字位置跟大小皆正確; B代表數字大小正確但位置不正確 e.g. 1234 versus 4261 => 1A2B\n",
    "3. 電腦會依據這題是猜測下一個數字，直到遊戲結束"
   ]
  },
  {
   "cell_type": "code",
   "execution_count": 12,
   "metadata": {},
   "outputs": [
    {
     "name": "stdout",
     "output_type": "stream",
     "text": [
      "I guess 0193\n",
      "State: 0A2B\n",
      "I guess 1437\n",
      "State: 0A2B\n",
      "I guess 4519\n",
      "State: 0A0B\n",
      "I guess 7306\n",
      "State: 0A3B\n",
      "I guess 3078\n",
      "State: 1A3B\n",
      "The number is 3780.\n"
     ]
    }
   ],
   "source": [
    "candidate = generate_numbers()\n",
    "while len(candidate) > 1:\n",
    "    guess = pick_a_number(candidate)\n",
    "    print(\"I guess {}\".format(guess))\n",
    "    s = input(\"State: \")\n",
    "    delete_invalidated_number(s, guess)\n",
    "\n",
    "if len(candidate) == 1:\n",
    "    guess = pick_a_number(candidate)\n",
    "    print(\"The number is {}.\".format(guess))\n",
    "else:\n",
    "    print(\"You might input something wrong!\")\n"
   ]
  }
 ],
 "metadata": {
  "kernelspec": {
   "display_name": "Python 3",
   "language": "python",
   "name": "python3"
  },
  "language_info": {
   "codemirror_mode": {
    "name": "ipython",
    "version": 3
   },
   "file_extension": ".py",
   "mimetype": "text/x-python",
   "name": "python",
   "nbconvert_exporter": "python",
   "pygments_lexer": "ipython3",
   "version": "3.4.3"
  }
 },
 "nbformat": 4,
 "nbformat_minor": 2
}
