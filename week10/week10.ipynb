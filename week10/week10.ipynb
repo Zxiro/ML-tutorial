{
 "cells": [
  {
   "cell_type": "markdown",
   "metadata": {},
   "source": [
    "## Phosphorylation site prediction\n",
    "> Phosphorylation is the most essential post-translational modification in eukaryotes \n",
    "and plays a crucial role in a wide range of cellular processes. \n",
    "Studies on kinases and their substrates are important for understanding signaling networks in cells, \n",
    "and helpful for developing new treatments to signaling defect diseases, such as cancer.\n",
    "> The number of kinases was estimated to be around 500–1,000 in animals and plants (Caenepeel et al. 2004; Manning et al. 2002; Vlad et al. 2008), and they usually induce phosphorylation on serine (S), threonine (T), tyrosine (Y), and histidine residues in eukaryotic proteins."
   ]
  },
  {
   "cell_type": "markdown",
   "metadata": {},
   "source": [
    "## Data detail\n",
    "- Data from: /home/mlb2017/res/phosphosite\n",
    "- Data description:\n",
    "    - Train\n",
    "        - trainX.npy : 10518 samples, each sample has 342 features\n",
    "        - trainY.npy : 5259 positive, 5259 negative\n",
    "        - train_data : 4 columns\n",
    "             - is phophorylation site or not (yes : 1, no : -1)\n",
    "             - protein name\n",
    "             - site sequence (length: 19), the middle one is the possible phosphorylation site (T)\n",
    "             - the possible phosphorylation-site's (T) position in protein sequence\n",
    "    \n",
    "    - Validation\n",
    "        - validationX.npy :  48221 samples, each sample has 342 features\n",
    "        - validationY.npy :  494 positive,  47727 negative\n",
    "        - validation_data : 4 columns, same as train_data\n",
    "    \n",
    "    - Test (not released now)\n",
    "        - testX.npy :  48220 samples, each sample has 342 features\n",
    "        - testY.npy :  493 positive,  47727 negative\n",
    "        - test_data : 4 columns, same as train_data\n",
    "- features\n",
    "    - Overlapping properties(190)\n",
    "    - Shannon entropy(19)\n",
    "    - Relative entropy(19)\n",
    "    - Second Structure(57)\n",
    "    - Protein Disorder(38)\n",
    "    - Accessible surface area(19)"
   ]
  },
  {
   "cell_type": "markdown",
   "metadata": {},
   "source": [
    "# Today's mission\n",
    "- Generate 9 features about \"Average cumulative hydrophobicity\"\n",
    "- Each amino acids has its hydrophobicity value.\n",
    "    - (A, C, D, E, F, G, H, I, K, L, M, N, P, Q, R, S, T, V, W, Y) have the values of (0.62, 0.29, -0.90, -0.74, 1.19,        0.48, -0.40, 1.38, -1.50, 1.06, 0.64, -0.78, 0.12, -0.85, -2.53, -0.18, -0.05, 1.08, 0.81, 0.26), respectively.\n",
    "- The attribute was quantified by computing the average of the cumulative hydrophobicity indices around the central amino acid residue of a candidate subsequence over the sliding windows with sizes of 3, 5, 7, ..., 19, respectively.\n",
    "- Example:\n",
    "    - sequence: CSIVLKQKGTLNFLCKHVD\n",
    "    - the central amino acid: T\n",
    "    - if window size = 3, 'GTL'   => [ 0.48 + (-0.05) + 1.06] / 3 = 0.497 , the first feature\n",
    "    - if window size = 5, 'KGTLN' => [(-1.5) + 0.48 + (-0.05) + 1.06 + (-0.78)] / 5 , the second feature\n",
    "    - ...\n",
    "    - if window size = 19, 'CSIVLKQKGTLNFLCKHVD' => ....../19 , the last feature"
   ]
  },
  {
   "cell_type": "code",
   "execution_count": 3,
   "metadata": {},
   "outputs": [
    {
     "data": {
      "text/plain": [
       "\"\\nX = np.load('/home/mlb2017/res/phosphosite/trainX.npy')\\nACH_feature = np.array(ACH_feature)\\nX = np.hstack((ACH, X)) # you can use hstack to concate your new feature on old feature\\n\""
      ]
     },
     "execution_count": 3,
     "metadata": {},
     "output_type": "execute_result"
    }
   ],
   "source": [
    "import numpy as np\n",
    "\n",
    "with open('/home/mlb2017/res/phosphosite/train_data') as f:\n",
    "    data = f.readlines()\n",
    "data = [x.strip() for x in data] \n",
    "\n",
    "seqlist = []\n",
    "for site in data:\n",
    "    site = site.split(' ')\n",
    "    seqlist.append(site[2])\n",
    "\n",
    "ACH_feature = []\n",
    "for seq in seqlist:\n",
    "    ### implement your code here\n",
    "    \n",
    "'''\n",
    "X = np.load('/home/mlb2017/res/phosphosite/trainX.npy')\n",
    "ACH_feature = np.array(ACH_feature)\n",
    "X = np.hstack((ACH, X)) # you can use hstack to concate your new feature on old feature\n",
    "'''"
   ]
  },
  {
   "cell_type": "markdown",
   "metadata": {},
   "source": [
    "- first sample's answer in train_data: [ 0.007,  0.052,  0.143,  0.193,  0.026, -0.288, -0.41 , -0.561, -0.543 ]"
   ]
  }
 ],
 "metadata": {
  "kernelspec": {
   "display_name": "Python 3",
   "language": "python",
   "name": "python3"
  },
  "language_info": {
   "codemirror_mode": {
    "name": "ipython",
    "version": 3
   },
   "file_extension": ".py",
   "mimetype": "text/x-python",
   "name": "python",
   "nbconvert_exporter": "python",
   "pygments_lexer": "ipython3",
   "version": "3.4.3"
  }
 },
 "nbformat": 4,
 "nbformat_minor": 2
}
