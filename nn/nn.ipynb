{
 "cells": [
  {
   "cell_type": "markdown",
   "metadata": {},
   "source": [
    "# 類神經網路 Neural Network\n",
    "\n",
    "搭建一個簡單的類神經網路模型，並利用這個模型辨識手寫數字圖片\n",
    "\n"
   ]
  },
  {
   "cell_type": "markdown",
   "metadata": {},
   "source": [
    "# Keras\n",
    "\n",
    "Keras 是一款深度學習框架，裡面提供搭建類神經網路所需要的各種模型, 函式, 以及演算法\n",
    "\n",
    "## Model\n",
    "\n",
    "Keras 提供一個模型基底，可以在這個基底作設置來強化你的類神經網路模型\n",
    "<br/>\n",
    "[More](https://keras.io/models/about-keras-models/)"
   ]
  },
  {
   "cell_type": "code",
   "execution_count": null,
   "metadata": {
    "collapsed": true
   },
   "outputs": [],
   "source": [
    "from keras.models import Sequential\n",
    "\n",
    "model = Sequential()"
   ]
  },
  {
   "cell_type": "markdown",
   "metadata": {},
   "source": [
    "## Layer\n",
    "\n",
    "Keras 提供許多隱藏層的實作，讓你可以專注於隱藏層的選擇策略以及參數調整\n",
    "\n",
    "- Dense: 類神經網路中最基本的隱藏層，實作了 f(Wx + b)\n",
    "- Activation: 實作了 f(x)，讓隱藏層的調整可以更靈活\n",
    "- Dropout: 用於防止模型 overfitting 所設置的隱藏層\n",
    "<br/>\n",
    "[More](https://keras.io/layers/about-keras-layers/)"
   ]
  },
  {
   "cell_type": "code",
   "execution_count": null,
   "metadata": {
    "collapsed": true
   },
   "outputs": [],
   "source": [
    "from keras.models import Sequential\n",
    "from keras.layers import Dense\n",
    "\n",
    "model = Sequential()\n",
    "model.add(Dense(256, input_dim = 100))"
   ]
  },
  {
   "cell_type": "markdown",
   "metadata": {},
   "source": [
    "## Activation\n",
    "\n",
    "Keras 提供許多激活函數的實作，可以設置於每一層中\n",
    "<br/>\n",
    "[More](https://keras.io/activations/)"
   ]
  },
  {
   "cell_type": "code",
   "execution_count": null,
   "metadata": {
    "collapsed": true
   },
   "outputs": [],
   "source": [
    "from keras.models import Sequential\n",
    "from keras.layers import Dense\n",
    "\n",
    "model = Sequential()\n",
    "model.add(Dense(256, input_dim = 100, activation = 'sigmoid'))"
   ]
  },
  {
   "cell_type": "markdown",
   "metadata": {},
   "source": [
    "## Compile\n",
    "\n",
    "當模型設置完以後，需要呼叫這個函式來設置損失函數(loss function), 優化策略(optimizer), 評估標準(metrics)\n",
    "<br/>\n",
    "See [link](https://keras.io/models/sequential/#compile)\n",
    "<br/>\n",
    "- 損失函數(loss function): [link](https://keras.io/losses/)\n",
    "- 優化策略(optimizer): [link](https://keras.io/optimizers/)"
   ]
  },
  {
   "cell_type": "code",
   "execution_count": null,
   "metadata": {
    "collapsed": true
   },
   "outputs": [],
   "source": [
    "from keras.models import Sequential\n",
    "from keras.layers import Dense\n",
    "\n",
    "model = Sequential()\n",
    "model.add(Dense(256, input_dim = 100))\n",
    "model.add(Dense(1, activation = 'sigmoid'))\n",
    "model.compile(loss = 'binary_crossentropy', optimizer = 'adam', metrics = ['accuracy'])"
   ]
  },
  {
   "cell_type": "markdown",
   "metadata": {},
   "source": [
    "## fit\n",
    "\n",
    "呼叫該函式可以訓練模型，需設置輸入資料, 輸入資料類別, batch size, epochs\n",
    "<br/>\n",
    "See [link](https://keras.io/models/sequential/#fit)"
   ]
  },
  {
   "cell_type": "markdown",
   "metadata": {},
   "source": [
    "## predict\n",
    "\n",
    "呼叫該函式可以預測資料\n",
    "<br/>\n",
    "See [link](https://keras.io/models/sequential/#predict)"
   ]
  },
  {
   "cell_type": "markdown",
   "metadata": {},
   "source": [
    "# 輔助工具\n",
    "\n",
    "以下為輔助工具，方便提供資料以及展示成果。\n",
    "\n",
    "## demo()\n",
    "\n",
    "展示一個完整訓練的模型，以及預測結果"
   ]
  },
  {
   "cell_type": "code",
   "execution_count": null,
   "metadata": {
    "collapsed": true
   },
   "outputs": [],
   "source": [
    "import sys\n",
    "sys.path.append('.prepared')\n",
    "from nn import demo\n",
    "\n",
    "demo()"
   ]
  },
  {
   "cell_type": "markdown",
   "metadata": {},
   "source": [
    "## get_train_data()\n",
    "\n",
    "從訓練資料庫中載入50000筆訓練資料，回傳輸入模型用的資料(784維)以及類別(10維)"
   ]
  },
  {
   "cell_type": "code",
   "execution_count": null,
   "metadata": {
    "collapsed": true
   },
   "outputs": [],
   "source": [
    "import sys\n",
    "sys.path.append('.prepared')\n",
    "from nn import get_train_data\n",
    "\n",
    "x_train, y_train= get_train_data()\n",
    "\n",
    "print(x_train.shape)\n",
    "print(y_train.shape)"
   ]
  },
  {
   "cell_type": "markdown",
   "metadata": {},
   "source": [
    "## get_test_data(count = 1000)\n",
    "\n",
    "從測試資料庫中載入資料(預設為1000筆)，回傳輸入模型用的資料(784維)以及類別(10維)"
   ]
  },
  {
   "cell_type": "code",
   "execution_count": null,
   "metadata": {
    "collapsed": true
   },
   "outputs": [],
   "source": [
    "import sys\n",
    "sys.path.append('.prepared')\n",
    "from nn import get_test_data\n",
    "\n",
    "x_test_1, y_test_1 = get_test_data() # count = 1000\n",
    "print('x_test_1 shape: ' + str(x_test_1.shape))\n",
    "print('y_test_1 shape: ' + str(y_test_1.shape))\n",
    "\n",
    "x_test_2, y_test_2 = get_test_data(5000) # count = 5000\n",
    "print('x_test_2 shape: ' + str(x_test_2.shape))\n",
    "print('y_test_2 shape: ' + str(y_test_2.shape))"
   ]
  },
  {
   "cell_type": "markdown",
   "metadata": {},
   "source": [
    "## plot_correlation_matrix(y_true, y_pred)\n",
    "\n",
    "根據輸入的實際類別與預測類別劃出關聯矩陣(實際使用需搭配 keras)"
   ]
  },
  {
   "cell_type": "code",
   "execution_count": null,
   "metadata": {
    "collapsed": true
   },
   "outputs": [],
   "source": [
    "import sys\n",
    "sys.path.append('.prepared')\n",
    "from nn import plot_correlation_matrix\n",
    "\n",
    "y_true = [\n",
    "    [1, 0, 0],\n",
    "    [0, 1, 0],\n",
    "    [0, 1, 0],\n",
    "    [1, 0, 0],\n",
    "    [0, 0, 1],\n",
    "]\n",
    "\n",
    "y_pred = [\n",
    "    [0.9, 0.1, 0],\n",
    "    [0.2, 0.3, 0.5],\n",
    "    [0.1, 0.8, 0.1],\n",
    "    [0.7, 0.1, 0.2],\n",
    "    [0.6, 0.1, 0.3],\n",
    "]\n",
    "\n",
    "plot_correlation_matrix(y_true, y_pred)"
   ]
  },
  {
   "cell_type": "markdown",
   "metadata": {},
   "source": [
    "## plot_prediction(model)\n",
    "\n",
    "根據輸入的模型輸出隨機選10張圖的預測結果"
   ]
  },
  {
   "cell_type": "code",
   "execution_count": null,
   "metadata": {
    "collapsed": true
   },
   "outputs": [],
   "source": [
    "import sys\n",
    "sys.path.append('.prepared')\n",
    "from keras.models import Sequential\n",
    "from nn import plot_prediction\n",
    "\n",
    "model = Sequential()\n",
    "\n",
    "# train your model\n",
    "\n",
    "plot_prediction(model)"
   ]
  }
 ],
 "metadata": {
  "kernelspec": {
   "display_name": "Python 3",
   "language": "python",
   "name": "python3"
  },
  "language_info": {
   "codemirror_mode": {
    "name": "ipython",
    "version": 3
   },
   "file_extension": ".py",
   "mimetype": "text/x-python",
   "name": "python",
   "nbconvert_exporter": "python",
   "pygments_lexer": "ipython3",
   "version": "3.4.3"
  }
 },
 "nbformat": 4,
 "nbformat_minor": 2
}
