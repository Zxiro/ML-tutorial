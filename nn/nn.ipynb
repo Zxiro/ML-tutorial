{
 "cells": [
  {
   "cell_type": "markdown",
   "metadata": {},
   "source": [
    "# 神經網路 / Neural Network\n",
    "\n",
    "利用以下準備好的工具，建構一個簡單的神經網路模型，並利用這個模型辨識 [MNIST](http://yann.lecun.com/exdb/mnist/) 手寫數字圖片資料。本教學使用 [Keras](https://github.com/fchollet/keras)，一款 Python 深度學習框架，提供建構神經網路所需要的各種模型、函式、以及演算法。\n",
    "\n",
    "## keras.Model\n",
    "\n",
    "Keras 提供一些模型基底，可以從這些基底開始，設計自己的神經網路模型。請參考 [About Keras models](https://keras.io/models/about-keras-models/) 了解 Keras 模型。"
   ]
  },
  {
   "cell_type": "code",
   "execution_count": null,
   "metadata": {},
   "outputs": [],
   "source": [
    "from keras.models import Sequential\n",
    "\n",
    "model = Sequential()"
   ]
  },
  {
   "cell_type": "markdown",
   "metadata": {},
   "source": [
    "一個神經網路模型可以有多個隱藏層，Keras 提供許多隱藏層的實作，讓你可以專注於隱藏層的選擇策略以及參數調整。常見的有 `Dense` (全連結層)與 `Dropout` 等等。可以透過 `activation` 參數設定該層的激活函數。請參考 [About Keras layers](https://keras.io/layers/about-keras-layers/) 了解 Keras 層，參考 [Activations](https://keras.io/activations/) 了解激活函數。"
   ]
  },
  {
   "cell_type": "code",
   "execution_count": null,
   "metadata": {},
   "outputs": [],
   "source": [
    "from keras.models import Sequential\n",
    "from keras.layers import Dense\n",
    "\n",
    "model = Sequential()\n",
    "model.add(Dense(256, input_dim=100))\n",
    "model.add(Dense(1, activation='sigmoid'))"
   ]
  },
  {
   "cell_type": "markdown",
   "metadata": {},
   "source": [
    "模型設計完需要呼叫 `compile()` 編譯之後才能使用，在編譯時可以設定損失函數(`loss`)、評估標準(`metrics`)以及等優化器(`optimizer`)參數。請參考 [compile()](https://keras.io/models/sequential/#compile) 了解編譯，參考 [Losses](https://keras.io/losses/) 了解損失函數，參考 [Optimizers](https://keras.io/optimizers/) 了解優化器。"
   ]
  },
  {
   "cell_type": "code",
   "execution_count": null,
   "metadata": {},
   "outputs": [],
   "source": [
    "from keras.models import Sequential\n",
    "from keras.layers import Dense\n",
    "\n",
    "model = Sequential()\n",
    "model.add(Dense(256, input_dim=100))\n",
    "model.add(Dense(1, activation='sigmoid'))\n",
    "model.compile(loss='binary_crossentropy', metrics = ['accuracy'], optimizer='adam')"
   ]
  },
  {
   "cell_type": "markdown",
   "metadata": {},
   "source": [
    "編譯完成的模型可以呼叫 `fit()` 訓練模型，訓練時需給定訓練資料(`x` 與 `y`)並設定 `batch_size`、`epochs` 等參數。請參考 [fit()](https://keras.io/models/sequential/#fit)。"
   ]
  },
  {
   "cell_type": "code",
   "execution_count": null,
   "metadata": {},
   "outputs": [],
   "source": [
    "import sys\n",
    "sys.path.append('.prepared')\n",
    "import nn as prepared\n",
    "\n",
    "from keras.models import Sequential\n",
    "from keras.layers import Dense\n",
    "\n",
    "model = Sequential()\n",
    "model.add(Dense(256, input_dim=784))\n",
    "model.add(Dense(10, activation='softmax'))\n",
    "model.compile(loss='categorical_crossentropy', metrics = ['accuracy'], optimizer='adam')\n",
    "model.fit(prepared.X_train, prepared.y_train, batch_size=10000, epochs=10, verbose=1)"
   ]
  },
  {
   "cell_type": "markdown",
   "metadata": {},
   "source": [
    "訓練完成的模型可以呼叫 `predict()` 進行預測。請參考 [predict()](https://keras.io/models/sequential/#predict)。"
   ]
  },
  {
   "cell_type": "code",
   "execution_count": null,
   "metadata": {},
   "outputs": [],
   "source": [
    "#! sample code of predict()"
   ]
  },
  {
   "cell_type": "markdown",
   "metadata": {},
   "source": [
    "## prepared.demo_nn()"
   ]
  },
  {
   "cell_type": "code",
   "execution_count": null,
   "metadata": {},
   "outputs": [],
   "source": [
    "import sys\n",
    "sys.path.append('.prepared')\n",
    "import nn as prepared\n",
    "\n",
    "prepared.demo_nn()"
   ]
  },
  {
   "cell_type": "markdown",
   "metadata": {},
   "source": [
    "## prepared.{X_train, y_train, X_test, y_test}\n",
    "\n",
    "訓練資料 55000 筆，測試資料 10000 筆，回傳輸入模型用的資料(784維)以及類別(10維)"
   ]
  },
  {
   "cell_type": "code",
   "execution_count": 1,
   "metadata": {},
   "outputs": [
    {
     "name": "stderr",
     "output_type": "stream",
     "text": [
      "Using TensorFlow backend.\n"
     ]
    },
    {
     "name": "stdout",
     "output_type": "stream",
     "text": [
      "Extracting ./mnist/train-images-idx3-ubyte.gz\n",
      "Extracting ./mnist/train-labels-idx1-ubyte.gz\n",
      "Extracting ./mnist/t10k-images-idx3-ubyte.gz\n",
      "Extracting ./mnist/t10k-labels-idx1-ubyte.gz\n"
     ]
    },
    {
     "data": {
      "image/png": "[encoded data removed]",
      "text/plain": [
       "<matplotlib.figure.Figure at 0x1049e85c0>"
      ]
     },
     "metadata": {},
     "output_type": "display_data"
    }
   ],
   "source": [
    "import sys\n",
    "sys.path.append('.prepared')\n",
    "import nn as prepared\n",
    "\n",
    "prepared.plot_X(prepared.X_test[:10], figsize=(10, 5), cols=5)"
   ]
  }
 ],
 "metadata": {
  "kernelspec": {
   "display_name": "Python 3",
   "language": "python",
   "name": "python3"
  },
  "language_info": {
   "codemirror_mode": {
    "name": "ipython",
    "version": 3
   },
   "file_extension": ".py",
   "mimetype": "text/x-python",
   "name": "python",
   "nbconvert_exporter": "python",
   "pygments_lexer": "ipython3",
   "version": "3.5.2"
  }
 },
 "nbformat": 4,
 "nbformat_minor": 2
}
