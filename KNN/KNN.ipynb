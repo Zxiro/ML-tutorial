{
 "cells": [
  {
   "cell_type": "markdown",
   "metadata": {},
   "source": [
    "### '=': assign，例子如下：\n",
    "- a = 5 -> 將 a 這個變數的值設成 5\n",
    "- b = 'abc' -> 將 b 這個變數的值設成 abc\n",
    "\n",
    "\n",
    "### '[]': list，是常見的一種資料型態\n",
    "- 例如，我們現在設 c = [1, 2, 3]\n",
    "- c[0] = 1, c[1] = 2, c[2] = 3\n",
    "- list 資料型態介紹: https://docs.python.org.tw/3/tutorial/introduction.html#lists\n",
    "\n",
    "\n",
    "### for 迴圈用於取得具有多個元素的物件，像此處每跑一輪 for 迴圈，就會依序取出 train_point 中的一個值存入 point 來進行這個迴圈要執行的動作\n",
    "- 例如: 現在 a = 0, 且有一個迴圈是\n",
    "```\n",
    "for i in range(0, 3):\n",
    "   a = a + i\n",
    "   print(a)\n",
    "```\n",
    "- (range(0, 3) = [0, 1, 2])\n",
    "- 那就會依序印出 0 1 3 這些數字\n",
    "- for 迴圈介紹: http://www.kaiching.org/2012/12/Python-Loop.html\n",
    "\n",
    "\n",
    "### append 則是將資料塞入現有的 list 裡\n",
    "- 例如: 現在有一個 list c = [1, 2, 3]\n",
    "- c.append(4)\n",
    "- c 就變成 [1, 2, 3, 4]\n",
    "- append 介紹: http://www.kaiching.org/2011/03/python-listappend.html\n",
    "\n",
    "\n",
    "### if 為判斷式，後面會接一個判斷的條件，如果符合的話就會執行下一行的指令；而 else 則是 if 後面判斷式不成立的話就會來執行 else 的指令\n",
    "- 例如:\n",
    "```\n",
    "if a == 10:\n",
    "  print('a is 10')\n",
    "else:\n",
    "  print('a is not 10')\n",
    "```\n",
    "\n",
    "- 當 a = 10 時，就會印出 a is 10\n",
    "- 當 a = 11 時，就會印出 a is not 10\n",
    "- 判斷式介紹: http://www.kaiching.org/2011/01/python-logical.html"
   ]
  },
  {
   "cell_type": "code",
   "execution_count": 5,
   "metadata": {},
   "outputs": [
    {
     "name": "stdout",
     "output_type": "stream",
     "text": [
      "test point is in group x\n"
     ]
    },
    {
     "data": {
      "image/png": "[encoded data removed]",
      "text/plain": [
       "<matplotlib.figure.Figure at 0x7f92ae0cdbe0>"
      ]
     },
     "metadata": {},
     "output_type": "display_data"
    }
   ],
   "source": [
    "import math\n",
    "import numpy as np\n",
    "import init_knn\n",
    "train_point = init_knn.train_data()\n",
    "\n",
    "k = 5\n",
    "test_point = (2, 2)\n",
    "distance_group = []\n",
    "\n",
    "# 計算所有點與測試點的距離\n",
    "# point example: (label, x value, y value)\n",
    "for point in train_point:\n",
    "    distance_group.append([math.sqrt((point[1]-test_point[0])**2 + (point[2]-test_point[1])**2), point[0]])\n",
    "\n",
    "# 利用 sorted 這個函數，我們可以依照距離來由小到大排序\n",
    "distance_group = sorted(distance_group)\n",
    "\n",
    "# 計算前 K 名屬於 group1, group2 的數量\n",
    "decision = 0\n",
    "for i in range(0, k):\n",
    "    decision = decision + distance_group[i][1] \n",
    "    \n",
    "# 若屬於 group1 的數量多於 group2，則判定測試點為 group1; 反之則為 group2\n",
    "if decision >= 0: print('test point is in group o')\n",
    "else: print('test point is in group x')\n",
    "\n",
    "\n",
    "init_knn.plot(test_point)"
   ]
  },
  {
   "cell_type": "code",
   "execution_count": null,
   "metadata": {
    "collapsed": true
   },
   "outputs": [],
   "source": []
  }
 ],
 "metadata": {
  "kernelspec": {
   "display_name": "Python 3",
   "language": "python",
   "name": "python3"
  },
  "language_info": {
   "codemirror_mode": {
    "name": "ipython",
    "version": 3
   },
   "file_extension": ".py",
   "mimetype": "text/x-python",
   "name": "python",
   "nbconvert_exporter": "python",
   "pygments_lexer": "ipython3",
   "version": "3.4.3"
  }
 },
 "nbformat": 4,
 "nbformat_minor": 2
}
