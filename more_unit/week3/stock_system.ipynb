{
 "cells": [
  {
   "cell_type": "markdown",
   "metadata": {},
   "source": [
    "股票系統介紹\n",
    "===\n",
    "股票測試網址: https://merry.ee.ncku.edu.tw/stock/  \n",
    "帳號為luffy帳號或學號，密碼為成功入口密碼\n",
    "\n",
    "## 介紹\n",
    "伺服器上有準備從2004年到現在每天台股的股市資料，透過這些原始資料，要實作一個預測器來決定使用者明天要怎麼投資股票，購買和賣出的結果可以由上述的網址上登入後看到詳細行為，而每個人的目前的總資產會依照時間化成圖和其他人比較。\n",
    "## 股票資料\n",
    "在luffy的 /home/mlb/res/stock/twse/json 資料夾中，存放著每一天每一支股票的編號、開牌價、收盤價、最高最低價、成交量等資料。  \n",
    "資料的格式如下範例:"
   ]
  },
  {
   "cell_type": "code",
   "execution_count": 4,
   "metadata": {},
   "outputs": [
    {
     "name": "stdout",
     "output_type": "stream",
     "text": [
      "{'close': '84.95', 'volume': '20996200', 'open': '85.80', 'adj_close': '84.90', 'low': '84.90', 'high': '85.80'}\n",
      "84.95\n"
     ]
    }
   ],
   "source": [
    "stock =   {\n",
    "             \"0050\" : {\n",
    "                \"adj_close\" : \"84.90\",\n",
    "                \"close\" : \"84.95\",\n",
    "                \"high\" : \"85.80\",\n",
    "                \"low\" : \"84.90\",\n",
    "                \"open\" : \"85.80\",\n",
    "                \"volume\" : \"20996200\"\n",
    "             },\n",
    "            \"0051\" : {\n",
    "               \"adj_close\" : \"32.50\",\n",
    "               \"close\" : \"32.50\",\n",
    "               \"high\" : \"33.20\",\n",
    "               \"low\" : \"32.46\",\n",
    "               \"open\" : \"33.20\",\n",
    "               \"volume\" : \"92075\"\n",
    "            },\n",
    "            \"0052\" : {\n",
    "               \"adj_close\" : \"54.30\",\n",
    "               \"close\" : \"54.50\",\n",
    "               \"high\" : \"54.90\",\n",
    "               \"low\" : \"54.50\",\n",
    "               \"open\" : \"54.90\",\n",
    "               \"volume\" : \"102150\"\n",
    "            }\n",
    "    }\n",
    "\n",
    "print(stock['0050'])\n",
    "print(stock['0050']['close'])"
   ]
  },
  {
   "cell_type": "markdown",
   "metadata": {},
   "source": [
    "## 產生預測模型\n",
    "為了訓練股票預測器，必須從上述的json股票資料中根據自定義的時間區段、股票特徵種類等切分出訓練資料。  \n",
    "例如: 取預測日當日前一周的開盤價、收盤價以及平均的價格來訓練模型。  \n",
    "## 產生Decision File\n",
    "Decision File指的是最終決定要買哪一隻股票、要買多少錢以及要讓這支股票存活多久等條件。Decision File的格式也是json，是以一個array包在最外層，每一支股票用一個object表示。  \n",
    "\n",
    "範例如下:"
   ]
  },
  {
   "cell_type": "code",
   "execution_count": 5,
   "metadata": {},
   "outputs": [
    {
     "data": {
      "text/plain": [
       "[{'close_high_price': 16.8,\n",
       "  'close_low_price': 16.3,\n",
       "  'code': '1214',\n",
       "  'life': 5,\n",
       "  'open_price': 16.75,\n",
       "  'type': 'buy',\n",
       "  'weight': 1},\n",
       " {'close_high_price': 27.5,\n",
       "  'close_low_price': 25.8,\n",
       "  'code': '2351',\n",
       "  'life': 3,\n",
       "  'open_price': 27.3,\n",
       "  'type': 'short',\n",
       "  'weigth': 3}]"
      ]
     },
     "execution_count": 5,
     "metadata": {},
     "output_type": "execute_result"
    }
   ],
   "source": [
    "[ # 一個陣列，每個元素是一個 object\n",
    "  {\n",
    "    \"code\": \"1214\", # 股票代碼\n",
    "    \"type\": \"buy\", # 兩種操作，買(buy)/放空(short)\n",
    "    \"weight\": 1, # 買幾張股票; 每個人一開始有 1 單位的虛擬貨幣(以這個例子為例，用 1/4 買 1214；用 3/4 放空 2351)\n",
    "    \"life\": 5, # 5 天後會賣(其中一個條件)\n",
    "    \"open_price\": 16.75,# 等於或小於這個價格買\n",
    "    \"close_high_price\": 16.8,# 比這個價格高就賣\n",
    "    \"close_low_price\": 16.3 # 停損點\n",
    "  },\n",
    "  {\n",
    "    \"code\": \"2351\",\n",
    "    \"life\": 3,\n",
    "    \"type\": \"short\",\n",
    "    \"weigth\": 3,\n",
    "    \"open_price\": 27.3,\n",
    "    \"close_high_price\": 27.5,\n",
    "    \"close_low_price\": 25.8\n",
    "  }\n",
    "]\n"
   ]
  },
  {
   "cell_type": "markdown",
   "metadata": {},
   "source": [
    "## 股票權重\n",
    "每個人每一天有一單位的錢可以花，在計算上系統會將所有權重加起來算成百分比。假設只買兩支股票，1214買1個權重，2351買3個權重，那經過計算後花的錢分別是0.25、0.75。\n",
    "## 買股票的賣出條件\n",
    "- 今日最高價大於`close high price`\n",
    "- 今日最低價小於`close low price`\n",
    "- 價格都介於`close high price`和`close low price`間，但股票已經買進`life`天\n",
    "\n",
    "## 放空股票的買入條件\n",
    "- 今日最高價小於`close high price`\n",
    "- 今日最低價大於`close low price`\n",
    "- 價格都介於`close high price`和`close low price`間，但股票已經放空`life`天\n",
    "\n",
    "## 未操作懲罰\n",
    "如果當日沒有任何股票操作(沒有 decision.json 或是檔案內容是空的)，等同於投資大盤。  \n",
    "  \n",
    "投資大盤的decision file如下:"
   ]
  },
  {
   "cell_type": "code",
   "execution_count": 9,
   "metadata": {},
   "outputs": [
    {
     "data": {
      "text/plain": [
       "[{'close_high_price': 'that days highest price + 1',\n",
       "  'close_low_price': ' that days lowest price - 1',\n",
       "  'code': '0050',\n",
       "  'life': 1,\n",
       "  'open_price': 'that days opening price',\n",
       "  'type': 'buy',\n",
       "  'weight': 1}]"
      ]
     },
     "execution_count": 9,
     "metadata": {},
     "output_type": "execute_result"
    }
   ],
   "source": [
    "[\n",
    "  {\n",
    "    \"code\": \"0050\",\n",
    "    \"life\": 1,\n",
    "    \"type\": \"buy\",\n",
    "    \"weight\": 1,\n",
    "    \"open_price\": 'that days opening price',\n",
    "    \"close_high_price\": 'that days highest price + 1',\n",
    "    \"close_low_price\":' that days lowest price - 1'\n",
    "  }\n",
    "]"
   ]
  },
  {
   "cell_type": "markdown",
   "metadata": {},
   "source": [
    "## 股票繳交要求"
   ]
  },
  {
   "cell_type": "code",
   "execution_count": null,
   "metadata": {},
   "outputs": [],
   "source": []
  }
 ],
 "metadata": {
  "kernelspec": {
   "display_name": "Python 3",
   "language": "python",
   "name": "python3"
  },
  "language_info": {
   "codemirror_mode": {
    "name": "ipython",
    "version": 3
   },
   "file_extension": ".py",
   "mimetype": "text/x-python",
   "name": "python",
   "nbconvert_exporter": "python",
   "pygments_lexer": "ipython3",
   "version": "3.5.2"
  }
 },
 "nbformat": 4,
 "nbformat_minor": 2
}
