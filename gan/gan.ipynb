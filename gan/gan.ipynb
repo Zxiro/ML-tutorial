{
 "cells": [
  {
   "cell_type": "markdown",
   "metadata": {},
   "source": [
    "# 生成對抗網路 / Generative Adversarial Network (GAN)\n",
    "\n",
    "串接兩個類神經網路模型，一個負責生成以假亂真的資料(Generator)，另一個則負責辨別資料真偽(Discriminator)。兩個模型會互相對抗，最終目的為訓練出一個能夠產生高仿真資料的產生器。以下 GAN 都是以 [MNIST](http://yann.lecun.com/exdb/mnist/) 手寫數字圖片作為訓練資料。\n",
    "\n",
    "# demo()\n",
    "\n",
    "展示出完成的訓練模型，並將所生成的圖片放入output資料夾"
   ]
  },
  {
   "cell_type": "code",
   "execution_count": null,
   "metadata": {},
   "outputs": [],
   "source": [
    "import sys\n",
    "sys.path.append('.prepared')\n",
    "import gan as prepared\n",
    "\n",
    "prepared.demo()\n",
    "\n",
    "#With 1000 steps, 2 Dense Discriminator, 2 Dense Generator, 100 Dim noise input"
   ]
  },
  {
   "cell_type": "markdown",
   "metadata": {},
   "source": [
    "# Models \n",
    "使用keras所提供的 Sequential model，此種model可以讓加入(.add)的層數(layer)按照加入的順序一一執行\n",
    "\n",
    "在NN練習中我們宣告為 nn_model = SimpleNN()，在這裡我們用類似的方式宣告model"
   ]
  },
  {
   "cell_type": "code",
   "execution_count": null,
   "metadata": {},
   "outputs": [],
   "source": [
    "from keras.models import Sequential\n",
    "\n",
    "model = Sequential()"
   ]
  },
  {
   "cell_type": "markdown",
   "metadata": {},
   "source": [
    "# Dense Layer\n",
    "keras中所提供的Dense Layer就是神經網路最基礎、沒有變化的Layer，也和前面NN練習所用相同\n",
    "\n",
    "在Dense中也需要宣告Filter Number、Input長度或形狀以及Activation Function\n",
    "\n",
    "Dense(Filter Numer, input_shape=, activation=)\n",
    "\n",
    "由於D和G的input、output大小固定，增加中間的Layer數量來比較output image的差異\n",
    "\n",
    "將建好的D和G丟入.exe()執行"
   ]
  },
  {
   "cell_type": "code",
   "execution_count": null,
   "metadata": {},
   "outputs": [],
   "source": [
    "from keras.models import Sequential\n",
    "from keras.layers import Dense\n",
    "\n",
    "import sys\n",
    "sys.path.append('.prepared')\n",
    "import gan as prepared\n",
    "\n",
    "D = Sequential() #D as Discriminator\n",
    "\n",
    "#Using D.add(layer)\n",
    "\n",
    "D.add(Dense(256, input_shape=(784,), activation='relu')) \n",
    "# Fileter Number = 256 with relu activation\n",
    "# Input of D is a 28*28*1 2D picture and flattened into 28*28*1 = 784 1D row\n",
    "'''\n",
    "\n",
    "Add more layers with different filter numbers or activation to D here\n",
    "\n",
    "\n",
    "'''\n",
    "D.add(Dense(1, activation='sigmoid'))\n",
    "# Output of D is single value (represents true/fake image)\n",
    "\n",
    "#-------------------------------------------------------\n",
    "\n",
    "G = Sequential() #G as Generator\n",
    "\n",
    "G.add(Dense(512, input_dim=100, activation='relu'))\n",
    "# Input of G is 100 1D noise\n",
    "'''\n",
    "\n",
    "Add more layers with different filter numbers or activation to G here\n",
    "\n",
    "\n",
    "'''\n",
    "G.add(Dense(784, activation='sigmoid'))\n",
    "#The noise will then be generated as 1D row with length 784 (represnets a fake image)\n",
    "\n",
    "\n",
    "prepared.exe(D, G, 2000, 500) #.exe(D, G, stpes, save_interval)"
   ]
  },
  {
   "cell_type": "markdown",
   "metadata": {},
   "source": [
    "# 動手做"
   ]
  },
  {
   "cell_type": "code",
   "execution_count": null,
   "metadata": {},
   "outputs": [],
   "source": []
  },
  {
   "cell_type": "code",
   "execution_count": null,
   "metadata": {},
   "outputs": [],
   "source": [
    "from keras.models import Sequential\n",
    "from keras.layers import Dense\n",
    "import sys\n",
    "sys.path.append('.prepared')\n",
    "import gan as prepared\n",
    "\n",
    "D = Sequential()\n",
    "D.add(Dense(256, input_shape=(784,), activation='relu'))\n",
    "D.add(Dense(1, activation='sigmoid'))\n",
    "\n",
    "G = Sequential()\n",
    "G.add(Dense(512, input_dim=100, activation='relu'))\n",
    "G.add(Dense(784, activation='sigmoid'))\n",
    "\n",
    "#prepared.exe(D, G, steps, save_interval)\n",
    "prepared.exe(D, G, 1000, 100)"
   ]
  },
  {
   "cell_type": "code",
   "execution_count": null,
   "metadata": {},
   "outputs": [],
   "source": [
    "import sys\n",
    "sys.path.append('.prepared')\n",
    "import gan as prepared\n",
    "\n",
    "def check(training_step, epoch, d_loss, d_accuracy, a_loss, a_accuracy):\n",
    "    print(\"%d: D: loss: %f, acc: %f, A: loss: %f, acc: %f\" %\n",
    "        (training_step, d_loss, d_accuracy, a_loss, a_accuracy))\n",
    "    gan.plot_images(noise=check_noise)\n",
    "\n",
    "gan = prepared.MNIST_DCGAN()\n",
    "check_noise = gan.noise(10)\n",
    "gan.fit(prepared.x_train, batch_size=100, callback=check, epochs=10)"
   ]
  }
 ],
 "metadata": {
  "kernelspec": {
   "display_name": "Python 3",
   "language": "python",
   "name": "python3"
  },
  "language_info": {
   "codemirror_mode": {
    "name": "ipython",
    "version": 3
   },
   "file_extension": ".py",
   "mimetype": "text/x-python",
   "name": "python",
   "nbconvert_exporter": "python",
   "pygments_lexer": "ipython3",
   "version": "3.5.2"
  }
 },
 "nbformat": 4,
 "nbformat_minor": 2
}
