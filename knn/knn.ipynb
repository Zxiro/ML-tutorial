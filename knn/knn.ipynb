{
 "cells": [
  {
   "cell_type": "markdown",
   "metadata": {},
   "source": [
    "# KNN 演算法\n",
    "\n",
    "利用以下的工具，實作 K-Nearest Neighbor (KNN) 演算法。\n",
    "\n",
    "## prepared.demo_knn()\n",
    "\n",
    "完整的 KNN 展示，目標就是開發出同樣功能的函式，並使用自己開發的 `knn()` 取代。詳見下方[動手做](#動手做)的程式碼範例。\n",
    "\n",
    "## prepared.plot()\n",
    "\n",
    "繪製預設的訓練資料以及使用者給定的測試位置。測試位置為 tuple 型態，例如 (2, 2)。"
   ]
  },
  {
   "cell_type": "code",
   "execution_count": 1,
   "metadata": {},
   "outputs": [
    {
     "data": {
      "image/png": "[encoded data removed]",
      "text/plain": [
       "<matplotlib.figure.Figure at 0x1048cc4a8>"
      ]
     },
     "metadata": {},
     "output_type": "display_data"
    }
   ],
   "source": [
    "import sys\n",
    "sys.path.append('.prepared')\n",
    "import knn as prepared\n",
    "\n",
    "te = (2, 2) # try a different position to test\n",
    "prepared.plot(te)"
   ]
  },
  {
   "cell_type": "markdown",
   "metadata": {},
   "source": [
    "## prepared.traning_data\n",
    "\n",
    "預設的訓集資料。"
   ]
  },
  {
   "cell_type": "markdown",
   "metadata": {},
   "source": [
    "## sorted()\n",
    "\n",
    "將輸入的 list 由小到大做排序，回傳排序好的 list。"
   ]
  },
  {
   "cell_type": "code",
   "execution_count": 2,
   "metadata": {},
   "outputs": [
    {
     "name": "stdout",
     "output_type": "stream",
     "text": [
      "[1, 2, 2.5, 3, 6, 8]\n"
     ]
    }
   ],
   "source": [
    "a = [2, 3, 6, 1, 2.5, 8]\n",
    "print(sorted(a))"
   ]
  },
  {
   "cell_type": "markdown",
   "metadata": {},
   "source": [
    "## sqrt()\n",
    "\n",
    "開根號。"
   ]
  },
  {
   "cell_type": "code",
   "execution_count": 3,
   "metadata": {},
   "outputs": [
    {
     "name": "stdout",
     "output_type": "stream",
     "text": [
      "1.4142135623730951\n"
     ]
    }
   ],
   "source": [
    "from math import sqrt\n",
    "print(sqrt(2))"
   ]
  },
  {
   "cell_type": "code",
   "execution_count": 4,
   "metadata": {},
   "outputs": [
    {
     "name": "stdout",
     "output_type": "stream",
     "text": [
      "[[1, 2.0, 1.7], [1, 1.8, 1.8], [1, 1.5, 1.5], [1, 1.4, 1.8], [1, 2.0, 1.0], [1, 1.8, 1.2], [1, 1.4, 2.2], [1, 1.5, 1.3], [-1, 2.0, 2.3], [-1, 2.3, 2.2], [-1, 2.2, 2.4], [-1, 3.0, 2.5], [-1, 2.8, 2.7], [-1, 2.8, 2.1], [-1, 2.6, 2.5], [-1, 2.2, 2.8]]\n"
     ]
    }
   ],
   "source": [
    "import sys\n",
    "sys.path.append('.prepared')\n",
    "import knn as prepared\n",
    "\n",
    "print(prepared.training_data)"
   ]
  },
  {
   "cell_type": "markdown",
   "metadata": {},
   "source": [
    "# 動手做\n",
    "\n",
    "請完成 `knn()`，並用其取代 `prepared.demo_knn()`。"
   ]
  },
  {
   "cell_type": "code",
   "execution_count": 5,
   "metadata": {},
   "outputs": [
    {
     "data": {
      "image/png": "[encoded data removed]",
      "text/plain": [
       "<matplotlib.figure.Figure at 0x106252fd0>"
      ]
     },
     "metadata": {},
     "output_type": "display_data"
    },
    {
     "name": "stdout",
     "output_type": "stream",
     "text": [
      "The test position is in group x\n"
     ]
    }
   ],
   "source": [
    "import sys\n",
    "sys.path.append('.prepared')\n",
    "import knn as prepared\n",
    "\n",
    "def knn(tr, te, k):\n",
    "    prepared.plot(tr, te)\n",
    "    # start coding here...\n",
    "\n",
    "tr = prepared.training_data\n",
    "te = (2, 2) # try a different position to test\n",
    "k = 5 # try a different k\n",
    "\n",
    "prepared.demo_knn(tr, te, k)\n",
    "# comment the above line and un-comment the below line once you finish `knn()`\n",
    "# knn(tr, te, k)"
   ]
  }
 ],
 "metadata": {
  "kernelspec": {
   "display_name": "Python 3",
   "language": "python",
   "name": "python3"
  },
  "language_info": {
   "codemirror_mode": {
    "name": "ipython",
    "version": 3
   },
   "file_extension": ".py",
   "mimetype": "text/x-python",
   "name": "python",
   "nbconvert_exporter": "python",
   "pygments_lexer": "ipython3",
   "version": "3.5.2"
  }
 },
 "nbformat": 4,
 "nbformat_minor": 2
}
