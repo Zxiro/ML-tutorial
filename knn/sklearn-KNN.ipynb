{
 "cells": [
  {
   "cell_type": "markdown",
   "metadata": {},
   "source": [
    "# Building UCI German Credit Data Set model - KNN\n",
    "\n",
    "- 1000 samples with 700 credit-worthy samples and 300 not credit-worthy samples\n",
    "- 20 features with 17 categorical features and 3 numeric features\n",
    "- Detail of features are written in [here](https://onlinecourses.science.psu.edu/stat857/node/222)\n",
    "\n",
    "實作 K-Nearest-Neighbor (KNN) 演算法來分析 [UCI German Credit Data](https://onlinecourses.science.psu.edu/stat857/node/215)。該資料集包含 1000 筆貸款資料，其中 700 筆正樣本(credit-worthy)以及 300 筆負樣本(not credit-worthy)。每個樣本有 20 個特徵，其中 17 個類別(categorical)特徵，3 個為數值(numeric)特徵。可以參考 [特徵的細節](https://onlinecourses.science.psu.edu/stat857/node/222)。"
   ]
  },
  {
   "cell_type": "code",
   "execution_count": 7,
   "metadata": {
    "scrolled": true
   },
   "outputs": [
    {
     "name": "stdout",
     "output_type": "stream",
     "text": [
      "Model: KNN\n",
      "Number of samples: 900\n",
      "Accuracy: 0.67\n"
     ]
    }
   ],
   "source": [
    "from sklearn.neighbors import KNeighborsClassifier\n",
    "import pre_data as pd\n",
    "\n",
    "def KNN(num, N):\n",
    "    train, test = pd.get_data(num)\n",
    "    #print(train[:10])\n",
    "    neigh = KNeighborsClassifier(n_neighbors = N)\n",
    "    neigh.fit(train[:, 1:], train[:, 0]) \n",
    "    print(\"Model: KNN\")\n",
    "    print(\"Number of samples: {}\".format(num))\n",
    "    print(\"Accuracy: {}\".format(neigh.score(test[:, 1:], test[:, 0])))\n",
    "\n",
    "KNN(900, 3)"
   ]
  }
 ],
 "metadata": {
  "kernelspec": {
   "display_name": "Python 3",
   "language": "python",
   "name": "python3"
  },
  "language_info": {
   "codemirror_mode": {
    "name": "ipython",
    "version": 3
   },
   "file_extension": ".py",
   "mimetype": "text/x-python",
   "name": "python",
   "nbconvert_exporter": "python",
   "pygments_lexer": "ipython3",
   "version": "3.4.3"
  }
 },
 "nbformat": 4,
 "nbformat_minor": 2
}
