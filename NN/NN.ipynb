{
 "cells": [
  {
   "cell_type": "markdown",
   "metadata": {},
   "source": [
    "# 類神經網路 Neural Network\n",
    "\n",
    "搭建一個簡單的類神經網路模型，並利用這個模型辨識手寫數字圖片\n",
    "\n",
    "# 工具\n",
    "\n",
    "你可以從無到有自行搭建一個類神經網路模型，並且自己訓練模型，或是利用以下的工具，專注在類神經網路的架構調整。\n",
    "\n",
    "## demo()\n",
    "\n",
    "展示一個完整訓練的模型，以及預測結果。"
   ]
  },
  {
   "cell_type": "code",
   "execution_count": null,
   "metadata": {
    "collapsed": true
   },
   "outputs": [],
   "source": [
    "import nn\n",
    "\n",
    "nn.demo()\n",
   ]
  },
  {
   "cell_type": "markdown",
   "metadata": {},
   "source": [
    "## SimpleNN()\n",
    "\n",
    "提供一個脆弱的類神經網路架構，可以透過接下來的工具來增強模型。",
   ]
  },
  {
   "cell_type": "code",
   "execution_count": null,
   "metadata": {
    "collapsed": true
   },
   "outputs": [],
   "source": [
    "from nn import SimpleNN\n",
    "\n",
    "nn_model = SimpleNN()\n",
    "nn_model.train(1000) # train the model 1000 times\n"
   ]
  },
  {
   "cell_type": "markdown",
   "metadata": {},
   "source": [
    "## add_layer(units, activation)\n",
    "\n",
    "為模型增加一層隱藏層，並且設置該隱藏層的神經元數量以及激活方式(也可以選擇不設置激活方式)。\n",
    "可以使用的激活方式：relu, elu, selu, tanh, sigmoid, softmax"
   ]
  },
  {
   "cell_type": "code",
   "execution_count": null,
   "metadata": {
    "collapsed": true
   },
   "outputs": [],
   "source": [
    "from nn import SimpleNN\n",
    "\n",
    "nn_model = SimpleNN()\n",
    "nn_model.add_layer(256) # add a hidden layer with 256 neural and without activation\n",
    "nn_model.add_layer(128, 'sigmoid') # add a hidden layer with 128 neural and use sigmoid as activate function\n",
    "nn_model.add_layer(10) # the output layer always has 10 neural. Please add it, otherwise the model will not work.\n",
    "nn_model.train(1000) # train the model 1000 times\n"
   ]
  },
  {
   "cell_type": "markdown",
   "metadata": {},
   "source": [
    "## train(steps)\n"
    "\n",
    "訓練模型，並設置模型的訓練次數以及優化策略。"
   ]
  },
  {
   "cell_type": "code",
   "execution_count": null,
   "metadata": {},
   "outputs": [],
   "source": [
    "from nn import SimpleNN\n",
    "\n",
    "nn_model = SimpleNN()\n",
    "nn_model.train(1000) # train the model 1000 times\n"
   ]
  }
 ],
 "metadata": {
  "kernelspec": {
   "display_name": "Python 3",
   "language": "python",
   "name": "python3"
  },
  "language_info": {
   "codemirror_mode": {
    "name": "ipython",
    "version": 3
   },
   "file_extension": ".py",
   "mimetype": "text/x-python",
   "name": "python",
   "nbconvert_exporter": "python",
   "pygments_lexer": "ipython3",
   "version": "3.4.3"
  }
 },
 "nbformat": 4,
 "nbformat_minor": 2
}
