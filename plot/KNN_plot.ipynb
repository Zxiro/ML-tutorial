{
 "cells": [
  {
   "cell_type": "code",
   "execution_count": null,
   "metadata": {},
   "outputs": [],
   "source": [
    "import numpy as np\n",
    "import matplotlib.pyplot as plt\n",
    "\n",
    "plt.figure(1, figsize=(8, 6))\n",
    "plt.axvline(x=5)\n",
    "\n",
    "X1 = np.random.random((8, 2)) * 5 + 5\n",
    "X2 = np.random.random((8, 2)) * 5\n",
    "\n",
    "x = np.arange(0, 11, 0.01)\n",
    "y = np.full(x.shape, 11)\n",
    "#plt.fill_between(x, y, where=x>5, alpha=0.3, interpolate=True, color='blue')\n",
    "#plt.fill_between(x, y, where=x<5, alpha=0.3, interpolate=True, color='red')\n",
    "\n",
    "plt.scatter(*zip(*X1), marker='o', color='r')\n",
    "plt.scatter(*zip(*X2), marker='x', color='b')\n",
    "#plt.scatter(*zip(*X3), marker='*', color ='green')\n",
    "plt.ylabel(\"y_label\")\n",
    "plt.xlabel(\"x_label\")\n",
    "\n",
    "#plt.title(\"KNN\")\n",
    "plt.xlim(0, 10)\n",
    "plt.ylim(0, 10)\n",
    "\n",
    "plt.show()"
   ]
  }
 ],
 "metadata": {
  "kernelspec": {
   "display_name": "Python 3",
   "language": "python",
   "name": "python3"
  },
  "language_info": {
   "codemirror_mode": {
    "name": "ipython",
    "version": 3
   },
   "file_extension": ".py",
   "mimetype": "text/x-python",
   "name": "python",
   "nbconvert_exporter": "python",
   "pygments_lexer": "ipython3",
   "version": "3.5.2"
  }
 },
 "nbformat": 4,
 "nbformat_minor": 2
}
