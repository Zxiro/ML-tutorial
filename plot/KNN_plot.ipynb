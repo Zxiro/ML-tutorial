{
 "cells": [
  {
   "cell_type": "code",
   "execution_count": 21,
   "metadata": {},
   "outputs": [
    {
     "data": {
      "image/png": "[encoded data removed]",
      "text/plain": [
       "<matplotlib.figure.Figure at 0x1069cd860>"
      ]
     },
     "metadata": {},
     "output_type": "display_data"
    }
   ],
   "source": [
    "import numpy as np\n",
    "import matplotlib.pyplot as plt\n",
    "\n",
    "plt.figure(1, figsize=(8, 6))\n",
    "plt.axvline(x=5)\n",
    "\n",
    "X1 = np.random.random((8, 2)) * 5 + 5\n",
    "X2 = np.random.random((8, 2)) * 5\n",
    "\n",
    "x = np.arange(0, 11, 0.01)\n",
    "y = np.full(x.shape, 11)\n",
    "\n",
    "plt.scatter(*zip(*X1), marker='o', color='b')\n",
    "plt.scatter(*zip(*X2), marker='x', color='r')\n",
    "\n",
    "plt.axvline(x=5, color='white')\n",
    "plt.fill_between(x, y, where=x>5, alpha=0.25, interpolate=True, color='b')\n",
    "plt.fill_between(x, y, where=x<5, alpha=0.25, interpolate=True, color='r')\n",
    "\n",
    "plt.xlabel(r'$x_1$', size=16)\n",
    "plt.xticks([])\n",
    "plt.ylabel(r'$x_2$', size=16)\n",
    "plt.yticks([])\n",
    "\n",
    "#plt.title(\"KNN\")\n",
    "plt.xlim(0, 10)\n",
    "plt.ylim(0, 10)\n",
    "\n",
    "plt.show()"
   ]
  },
  {
   "cell_type": "code",
   "execution_count": 2,
   "metadata": {},
   "outputs": [
    {
     "data": {
      "image/png": "[encoded data removed]",
      "text/plain": [
       "<matplotlib.figure.Figure at 0x7f2e22c7d320>"
      ]
     },
     "metadata": {},
     "output_type": "display_data"
    }
   ],
   "source": [
    "# 使用他人寫好的 module，使用 module 往往可以達到事半功倍的效果，通常 module 的效能也都會比自己硬刻一個相同功能的程式碼還要好\n",
    "import math\n",
    "import numpy as np\n",
    "from sklearn import datasets\n",
    "from sklearn.neighbors import KNeighborsClassifier\n",
    "import matplotlib.pyplot as plt\n",
    "\n",
    "X = np.array([[2, 1.7], [1.8, 1.8], [1.5, 1.5], [1.4, 1.8], [2, 1], [1.8, 1.2], [1.4, 2.2], [1.5, 1.3], [2, 2.3], [2.3, 2.2], [2.2, 2.4], [3, 2.5], [2.8, 2.7], [2.8, 2.1], [2.6, 2.5], [2.2, 2.8]])\n",
    "y = np.array([1, 1, 1, 1, 1, 1, 1, 1, -1, -1 , -1, -1, -1, -1, -1, -1])\n",
    "\n",
    "X1 = [0.5, 1.7], [1.8, 1.8], [1.5, 1.5], [1.4, 1.8], [1.9, 1], [1.8, 1.2], [1.4, 2.2], [1.5, 3]\n",
    "X2 = [0, 2.3], [2.3, 2.2], [2.2, 2.4], [3, 2.5], [2.8, 2.7], [2.8, 2.1], [2.6, 2.5], [2.2, 2.8], [2.8, 1], [2.6, 1.5], [2.2, 1.8]\n",
    "#clf = KNeighborsClassifier(n_neighbors=3)\n",
    "#clf.fit(X, y)\n",
    "\n",
    "x_min, x_max = X[:,0].min() - .5, X[:,0].max() + .5\n",
    "y_min, y_max = X[:,1].min() - .5, X[:,1].max() + .5\n",
    "xx, yy = np.meshgrid(np.arange(x_min, x_max, 0.01), np.arange(y_min, y_max, 0.01))\n",
    "\n",
    "#Z = clf.predict(np.c_[xx.ravel(), yy.ravel()])\n",
    "#Z = Z.reshape(xx.shape)\n",
    "\n",
    "#print(Z)\n",
    "plt.figure(1, figsize=(8, 6))\n",
    "plt.axvline(x=2, color='white')\n",
    "#plt.contourf(xx, yy, Z, alpha=0.4, colors=('b', 'r'))\n",
    "x = np.arange(0, 4, 0.01)\n",
    "y = np.full(x.shape, 4)\n",
    "plt.fill_between(x, y, where=x>2, alpha=0.25, interpolate=True, color='blue')\n",
    "plt.fill_between(x, y, where=x<2, alpha=0.25, interpolate=True, color='red')\n",
    "\n",
    "# Plot also the training points\n",
    "plt.scatter(*zip(*X1), marker='x', color='r')\n",
    "plt.scatter(*zip(*X2), marker='o', color='b')\n",
    "plt.ylabel(\"y_label\")\n",
    "plt.xlabel(\"x_label\")\n",
    "\n",
    "plt.title(\"KNN\")\n",
    "plt.xlim(0.8, 3.2)\n",
    "plt.ylim(0.8, 3.2)\n",
    "\n",
    "plt.show()"
   ]
  },
  {
   "cell_type": "code",
   "execution_count": 3,
   "metadata": {},
   "outputs": [
    {
     "data": {
      "image/png": "[encoded data removed]",
      "text/plain": [
       "<matplotlib.figure.Figure at 0x7f2e22bd7f60>"
      ]
     },
     "metadata": {},
     "output_type": "display_data"
    }
   ],
   "source": [
    "# 使用他人寫好的 module，使用 module 往往可以達到事半功倍的效果，通常 module 的效能也都會比自己硬刻一個相同功能的程式碼還要好\n",
    "import math\n",
    "import numpy as np\n",
    "from sklearn import datasets\n",
    "from sklearn.neighbors import KNeighborsClassifier\n",
    "import matplotlib.pyplot as plt\n",
    "\n",
    "\n",
    "\n",
    "X1 = np.array([[2, 1.7], [1.8, 1.8], [1.5, 1.5], [1.4, 1.8], [2, 1], [1.8, 1.2], [1.4, 2.2], [1.5, 1.3], [1.2, 2.5], [1.6, 3.0], [2.5, 2.5]])\n",
    "X2 = np.array([[2, 2.3], [2.3, 2.2], [2.2, 2.4], [3, 2.5], [2.8, 2.7], [2.8, 2.1], [2.6, 2.5], [2.2, 2.8], [1.4, 2.8], [3.0, 2.8], [1.8, 2.1]])\n",
    "X = np.array([[2, 1.7], [1.8, 1.8], [1.5, 1.5], [1.4, 1.8], [2, 1], [1.8, 1.2], [1.4, 2.2], [1.5, 1.3], [1.2, 2.5], [1.6, 3.0], [2.5, 2.5], [2, 2.3], [2.3, 2.2], [2.2, 2.4], [3, 2.5], [2.8, 2.7], [2.8, 2.1], [2.6, 2.5], [2.2, 2.8], [1.4, 2.8], [3.0, 2.8], [1.8, 2.1]])\n",
    "y = np.array([1, 1, 1, 1, 1, 1, 1, 1, 1, 1, 1, -1, -1 , -1, -1, -1, -1, -1, -1, -1, -1, -1])\n",
    "\n",
    "clf = KNeighborsClassifier(n_neighbors=3)\n",
    "clf.fit(X, y)\n",
    "\n",
    "x_min, x_max = X[:, 0].min() - 1, X[:, 0].max() + 1\n",
    "y_min, y_max = X[:, 1].min() - 1, X[:, 1].max() + 1\n",
    "xx, yy = np.meshgrid(np.arange(x_min, x_max, 0.01), np.arange(y_min, y_max, 0.01))\n",
    "Z = clf.predict(np.c_[xx.ravel(), yy.ravel()])\n",
    "\n",
    "\n",
    "\n",
    "Z = Z.reshape(xx.shape)\n",
    "plt.figure(1, figsize=(8, 6))\n",
    "plt.contourf(xx, yy, Z, alpha=0.25, colors=('b', 'r'))\n",
    "\n",
    "# Plot also the training points\n",
    "plt.scatter(*zip(*X1), marker='x', color='r')\n",
    "plt.scatter(*zip(*X2), marker='o', color='b')\n",
    "plt.ylabel(\"y_label\")\n",
    "plt.xlabel(\"x_label\")\n",
    "\n",
    "plt.title(\"KNN\")\n",
    "plt.xlim(0.8, 3.2)\n",
    "plt.ylim(0.8, 3.2)\n",
    "\n",
    "plt.show()"
   ]
  }
 ],
 "metadata": {
  "kernelspec": {
   "display_name": "Python 3",
   "language": "python",
   "name": "python3"
  },
  "language_info": {
   "codemirror_mode": {
    "name": "ipython",
    "version": 3
   },
   "file_extension": ".py",
   "mimetype": "text/x-python",
   "name": "python",
   "nbconvert_exporter": "python",
   "pygments_lexer": "ipython3",
   "version": "3.5.2"
  }
 },
 "nbformat": 4,
 "nbformat_minor": 2
}
