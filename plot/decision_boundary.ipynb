{
 "cells": [
  {
   "cell_type": "code",
   "execution_count": 59,
   "metadata": {},
   "outputs": [
    {
     "data": {
      "image/png": "[encoded data removed]",
      "text/plain": [
       "<matplotlib.figure.Figure at 0x7f4851cc6748>"
      ]
     },
     "metadata": {},
     "output_type": "display_data"
    }
   ],
   "source": [
    "import numpy as np\n",
    "import matplotlib.pyplot as plt\n",
    "\n",
    "plt.figure(1, figsize=(8, 6))\n",
    "\n",
    "X1 = [8, 9, 6, 9.5, 6]\n",
    "Y1 = [6, 7, 9, 8.5, 7]\n",
    "\n",
    "X2 = [4, 3, 7, 2, 1]\n",
    "Y2 = [2, 1, 3, 4, 8]\n",
    "\n",
    "plt.plot(X1, Y1, 'bo')\n",
    "plt.plot(X2, Y2, 'rx')\n",
    "\n",
    "plt.xlim(0, 10)\n",
    "plt.ylim(0, 10)\n",
    "\n",
    "plt.axhline(y=5, color='w', linestyle='-')\n",
    "plt.axvline(x=4, ymin=0.5, ymax=1, color='w', linestyle='-')\n",
    "\n",
    "# plot\n",
    "plt.fill([0,0,4,4] ,[5,10,10,5], alpha = 0.25, color = 'r')\n",
    "plt.fill([0,0,10,10] ,[0,5,5,0], alpha = 0.25, color = 'r')\n",
    "plt.fill([4,4,10,10] ,[5,10,10,5], alpha = 0.25, color = 'b')\n",
    "plt.show()"
   ]
  }
 ],
 "metadata": {
  "kernelspec": {
   "display_name": "Python 3",
   "language": "python",
   "name": "python3"
  },
  "language_info": {
   "codemirror_mode": {
    "name": "ipython",
    "version": 3
   },
   "file_extension": ".py",
   "mimetype": "text/x-python",
   "name": "python",
   "nbconvert_exporter": "python",
   "pygments_lexer": "ipython3",
   "version": "3.5.2"
  }
 },
 "nbformat": 4,
 "nbformat_minor": 2
}
