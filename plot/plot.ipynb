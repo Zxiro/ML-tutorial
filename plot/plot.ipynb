{
 "cells": [
  {
   "cell_type": "code",
   "execution_count": null,
   "metadata": {},
   "outputs": [],
   "source": [
    "import numpy as np\n",
    "import matplotlib.pyplot as plt\n",
    "from mpl_toolkits.mplot3d import Axes3D\n",
    "\n",
    "dot_clr = .5\n",
    "line_clr = .8\n",
    "lw = 3"
   ]
  },
  {
   "cell_type": "code",
   "execution_count": null,
   "metadata": {},
   "outputs": [],
   "source": [
    "noise = np.random.normal(0, 0.2, 30)\n",
    "X = np.linspace(0, 1, 30)\n",
    "\n",
    "plt.plot(X, 3 * X - 0.5, lw=lw, alpha=line_clr)\n",
    "plt.plot(X, 3 * X - 0.5 + noise, 'ro', alpha=dot_clr)\n",
    "plt.xlabel('x')\n",
    "plt.xticks([])\n",
    "plt.ylabel('y')\n",
    "plt.yticks([])\n",
    "plt.show()"
   ]
  },
  {
   "cell_type": "code",
   "execution_count": null,
   "metadata": {},
   "outputs": [],
   "source": [
    "noise = np.random.normal(0, 0.1, 30)\n",
    "X = np.linspace(0, 1, 30)\n",
    "Y = 5 * (X - 0.5) ** 2 + X\n",
    "\n",
    "plt.plot(X, Y, lw=lw, alpha=line_clr)\n",
    "plt.plot(X, Y + noise, 'ro', alpha=dot_clr)\n",
    "plt.xlabel('x')\n",
    "plt.xticks([])\n",
    "plt.ylabel('y')\n",
    "plt.yticks([])\n",
    "plt.show()"
   ]
  },
  {
   "cell_type": "code",
   "execution_count": null,
   "metadata": {},
   "outputs": [],
   "source": [
    "noise = np.random.normal(0, 3, 49)\n",
    "X1 = np.linspace(0, 1, 7)\n",
    "X2 = np.linspace(0, 1, 7)\n",
    "X1, X2 = np.meshgrid(X1, X2)\n",
    "\n",
    "plt3d = plt.gca(projection='3d')\n",
    "plt3d.plot_surface(X1, X2, -3 * X1 - 4 * X2 - 0.1, alpha=line_clr)\n",
    "plt3d.scatter(X1.ravel(), X2.ravel(), -3 * X1.ravel() - 4 * X2.ravel() - 0.1 + noise, color='r', alpha=dot_clr)\n",
    "plt3d.set_yticklabels([])\n",
    "plt3d.set_xticklabels([])\n",
    "plt3d.set_zticklabels([])\n",
    "plt.show()"
   ]
  }
 ],
 "metadata": {
  "kernelspec": {
   "display_name": "Python 3",
   "language": "python",
   "name": "python3"
  },
  "language_info": {
   "codemirror_mode": {
    "name": "ipython",
    "version": 3
   },
   "file_extension": ".py",
   "mimetype": "text/x-python",
   "name": "python",
   "nbconvert_exporter": "python",
   "pygments_lexer": "ipython3",
   "version": "3.5.2"
  }
 },
 "nbformat": 4,
 "nbformat_minor": 2
}
