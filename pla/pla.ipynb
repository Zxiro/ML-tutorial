{
 "cells": [
  {
   "cell_type": "markdown",
   "metadata": {},
   "source": [
    "# # Perceptron Learning Algorithm (PLA) 演算法\n",
    "\n",
    "[Learning to Answer Yes/No :: Perceptron Learning Algorithm @ Machine Learning Foundations (機器學習基石)](https://youtu.be/1xnUlrgJJGo?t=8m5s)"
   ]
  },
  {
   "cell_type": "code",
   "execution_count": null,
   "metadata": {
    "collapsed": true
   },
   "outputs": [],
   "source": [
    "import sys\n",
    "sys.path.append('.prepared')\n",
    "import pla as prepared\n",
    "\n",
    "prepared.reset()"
   ]
  },
  {
   "cell_type": "markdown",
   "metadata": {},
   "source": [
    "重複執行下方程式碼可以看到 PLA 演算法迭代的過程。收斂後可以執行上方程式碼重置模型狀態。"
   ]
  },
  {
   "cell_type": "code",
   "execution_count": 6,
   "metadata": {},
   "outputs": [
    {
     "data": {
      "image/png": "[encoded data removed]",
      "text/plain": [
       "<matplotlib.figure.Figure at 0x7f152570f358>"
      ]
     },
     "metadata": {},
     "output_type": "display_data"
    }
   ],
   "source": [
    "prepared.update()"
   ]
  },
  {
   "cell_type": "markdown",
   "metadata": {},
   "source": [
    "## prepared.reset()\n",
    "\n",
    "歸零PLA的權重值。\n",
    "\n",
    "## prepared.update()\n",
    "\n",
    "繪製每一次更新後的圖。\n",
    "\n",
    "## prepared.demo_pla()\n",
    "\n",
    "PLA 展示，目標就是開發出同樣功能的函式，並使用自己開發的 `pla()` 取代。詳見下方[動手做](#動手做)的程式碼範例。"
   ]
  },
  {
   "cell_type": "markdown",
   "metadata": {},
   "source": [
    "# 動手做\n",
    "\n",
    "請完成 `pla()`，並用其取代 `prepared.demo_pla()`。"
   ]
  },
  {
   "cell_type": "code",
   "execution_count": 12,
   "metadata": {},
   "outputs": [
    {
     "name": "stdout",
     "output_type": "stream",
     "text": [
      "#45 [-0.03        0.03084143 -0.01583081  0.02391305  0.04528763]\n"
     ]
    }
   ],
   "source": [
    "import sys\n",
    "sys.path.append('.prepared')\n",
    "import pla as prepared\n",
    "\n",
    "\n",
    "def pla(learning_rate):\n",
    "    # start coding here...\n",
    "    # data path is './pla.dat'\n",
    "    print(learning_rate)\n",
    "    \n",
    "prepared.demo_pla(learning_rate=0.01)\n",
    "# comment the above line and un-comment the below line once you finish `pla()`\n",
    "# pla(learning_rate)"
   ]
  }
 ],
 "metadata": {
  "kernelspec": {
   "display_name": "Python 3",
   "language": "python",
   "name": "python3"
  },
  "language_info": {
   "codemirror_mode": {
    "name": "ipython",
    "version": 3
   },
   "file_extension": ".py",
   "mimetype": "text/x-python",
   "name": "python",
   "nbconvert_exporter": "python",
   "pygments_lexer": "ipython3",
   "version": "3.4.3"
  }
 },
 "nbformat": 4,
 "nbformat_minor": 2
}
