{
 "cells": [
  {
   "cell_type": "markdown",
   "metadata": {},
   "source": [
    "# Tensorflow 簡易教學與實作\n",
    "\n",
    "## 1. 介紹\n",
    "\n",
    "Tensorflow 是由 Google 所發布的深度學習框架，讓使用者可以自行設計神經網路的架構，其優點在於在設計神經網路上非常靈活，使用者對於自己的神經路的運作可以有較全面的掌控，而缺點則是入門門檻相較於其他深度學習框架相對較高"
   ]
  },
  {
   "cell_type": "markdown",
   "metadata": {},
   "source": [
    "## 2. 三種 tensor\n",
    "\n",
    "tensor 在數學上的意思是任意維度的矩陣，對於深度學習有初步的認識後就不難想像**神經網路就是由許多的 Tensor 所組成**，而 Tensorflow 提供了三種不同特性的 tensor 供使用者建構自己的神經網路\n",
    "\n",
    "在介紹之前，先定義兩個名詞：\n",
    "\n",
    "- tensor：任意維度的矩陣\n",
    "- shape：tensor 在每一維度上的大小"
   ]
  },
  {
   "cell_type": "markdown",
   "metadata": {},
   "source": [
    "### 2.1 tf.constant()\n",
    "\n",
    "第一個 tensor 是 tf.constant() 所產生的 tensor，其他的特性為**一旦產生了以後便不能修改它的值**，用法可以參考以下程式碼："
   ]
  },
  {
   "cell_type": "code",
   "execution_count": 1,
   "metadata": {},
   "outputs": [
    {
     "name": "stdout",
     "output_type": "stream",
     "text": [
      "Tensor(\"Const:0\", shape=(), dtype=int32)\n"
     ]
    }
   ],
   "source": [
    "import tensorflow as tf\n",
    "\n",
    "# 使用 tf.constant() 產生 Tensor\n",
    "a = tf.constant(0)\n",
    "\n",
    "print(a)"
   ]
  },
  {
   "cell_type": "markdown",
   "metadata": {},
   "source": [
    "上面的程式碼產生了一個 tensor 被命名為 a 且其值為 0\n",
    "\n",
    "\n",
    "接著如果想要產生內含矩陣的 tensor 可以這麼做："
   ]
  },
  {
   "cell_type": "code",
   "execution_count": 2,
   "metadata": {},
   "outputs": [
    {
     "name": "stdout",
     "output_type": "stream",
     "text": [
      "Tensor(\"Const_1:0\", shape=(3,), dtype=int32)\n",
      "Tensor(\"Const_2:0\", shape=(3, 2), dtype=int32)\n"
     ]
    }
   ],
   "source": [
    "# 產生內容為 1 維矩陣的 Tensor\n",
    "b = tf.constant([1, 2, 3])\n",
    "print(b)\n",
    "\n",
    "# 產生內容為 2 維矩陣的 Tensor\n",
    "c = tf.constant([[2, 4], [6, 8], [10, 12]])\n",
    "print(c)"
   ]
  },
  {
   "cell_type": "markdown",
   "metadata": {},
   "source": [
    "上面的程式碼產生了一個 1 維 tensor 一個 2 維 tensor，其中各自內容為：\n",
    "\n",
    "$\n",
    "b = \n",
    "\\begin{bmatrix}\n",
    "    1 & 2 & 3\n",
    "\\end{bmatrix}\n",
    "$\n",
    "\n",
    "$\n",
    "c = \n",
    "\\begin{bmatrix}\n",
    "    2 & 4 \\\\\n",
    "    6 & 8 \\\\\n",
    "    10 & 12\n",
    "\\end{bmatrix}\n",
    "$"
   ]
  },
  {
   "cell_type": "markdown",
   "metadata": {},
   "source": [
    "### 2.2 tf.Variable()\n",
    "\n",
    "tf.Variable() 的用法跟 tf.constant() 類似，它們之間的差在於 **tf.Variable() 產生出來的 tensor 其值可以被修改**，基本用法如下，與 tf.constant() 一樣"
   ]
  },
  {
   "cell_type": "code",
   "execution_count": 3,
   "metadata": {},
   "outputs": [
    {
     "name": "stdout",
     "output_type": "stream",
     "text": [
      "<tf.Variable 'Variable:0' shape=() dtype=int32_ref>\n",
      "<tf.Variable 'Variable_1:0' shape=(3,) dtype=int32_ref>\n",
      "<tf.Variable 'Variable_2:0' shape=(3, 2) dtype=int32_ref>\n"
     ]
    }
   ],
   "source": [
    "a = tf.Variable(0)\n",
    "b = tf.Variable([1, 2, 3])\n",
    "c = tf.Variable([[2, 4], [6, 8], [10, 12]])\n",
    "\n",
    "print(a)\n",
    "print(b)\n",
    "print(c)"
   ]
  },
  {
   "cell_type": "markdown",
   "metadata": {},
   "source": [
    "還有一些比較進階的用法，也是比較常用的用法，也就是將 tensor 裡面的值隨機指定："
   ]
  },
  {
   "cell_type": "code",
   "execution_count": 4,
   "metadata": {},
   "outputs": [
    {
     "name": "stdout",
     "output_type": "stream",
     "text": [
      "<tf.Variable 'Variable_3:0' shape=(3, 2) dtype=float32_ref>\n"
     ]
    }
   ],
   "source": [
    "d = tf.Variable(tf.random_uniform(shape = (3, 2)))\n",
    "\n",
    "print(d)"
   ]
  },
  {
   "cell_type": "markdown",
   "metadata": {},
   "source": [
    "### 2.3 tf.placeholder()\n",
    "\n",
    "這個 tensor 比較特殊，它的用法是**先產生 tensor 但是不給值，之後再給**，用法如下："
   ]
  },
  {
   "cell_type": "code",
   "execution_count": 5,
   "metadata": {},
   "outputs": [
    {
     "name": "stdout",
     "output_type": "stream",
     "text": [
      "Tensor(\"Placeholder:0\", shape=(3, 2), dtype=float32)\n"
     ]
    }
   ],
   "source": [
    "a = tf.placeholder(tf.float32, shape = (3, 2))\n",
    "\n",
    "print(a)"
   ]
  },
  {
   "cell_type": "markdown",
   "metadata": {},
   "source": [
    "如此產生了一個 shape 為 (3, 2) 但是還沒有任何數字的 tensor，甚至可以產生連 shape 的某幾維都不明確的 tensor："
   ]
  },
  {
   "cell_type": "code",
   "execution_count": 6,
   "metadata": {},
   "outputs": [
    {
     "name": "stdout",
     "output_type": "stream",
     "text": [
      "Tensor(\"Placeholder_1:0\", shape=(?, 2), dtype=float32)\n"
     ]
    }
   ],
   "source": [
    "b = tf.placeholder(tf.float32, shape = (None, 2))\n",
    "\n",
    "print(b)"
   ]
  },
  {
   "cell_type": "markdown",
   "metadata": {},
   "source": [
    "這代表這個 tensor 之後可以放入 shape 為 (n, 2) 的矩陣，這裡 n 可以是大於 0 的任意正整數，至於如何給值會在下一個小節探討"
   ]
  },
  {
   "cell_type": "markdown",
   "metadata": {},
   "source": [
    "## 3. 獲取 tensor 的值\n",
    "\n",
    "前一節介紹了三種 tensor，可以注意到 tensor 的值沒辦法透過 print() 來查看，那是因為 Tensorflow 有提供自己的一套方法來讓使用者獲取 tensor 的值\n",
    "\n",
    "### 3.1 tf.Session()\n",
    "\n",
    "在 Tensorflow 中必須使用 tf.Session() 來獲得 tensor 的內容，具體用法如下："
   ]
  },
  {
   "cell_type": "code",
   "execution_count": 7,
   "metadata": {},
   "outputs": [
    {
     "name": "stdout",
     "output_type": "stream",
     "text": [
      "0\n",
      "[1 2 3]\n",
      "[[ 2  4]\n",
      " [ 6  8]\n",
      " [10 12]]\n"
     ]
    }
   ],
   "source": [
    "a = tf.constant(0)\n",
    "b = tf.constant([1, 2, 3])\n",
    "c = tf.constant([[2, 4], [6, 8], [10, 12]])\n",
    "\n",
    "sess = tf.Session()\n",
    "\n",
    "a_value = sess.run(a)\n",
    "b_value = sess.run(b)\n",
    "c_value = sess.run(c)\n",
    "\n",
    "print(a_value)\n",
    "print(b_value)\n",
    "print(c_value)"
   ]
  },
  {
   "cell_type": "markdown",
   "metadata": {},
   "source": [
    "上面程式碼可以看到，先用 tf.Session() 產生 sess，接著再用 sess.run() 來產生 tensor 的值\n",
    "\n",
    "接著是察看 tf.Variable() 的方法："
   ]
  },
  {
   "cell_type": "code",
   "execution_count": 8,
   "metadata": {},
   "outputs": [
    {
     "name": "stdout",
     "output_type": "stream",
     "text": [
      "[1 2 3]\n",
      "[[ 0.08887899  0.06504321]\n",
      " [ 0.67819834  0.75779951]\n",
      " [ 0.11465931  0.18348479]]\n"
     ]
    }
   ],
   "source": [
    "a = tf.Variable([1, 2, 3])\n",
    "b = tf.Variable(tf.random_uniform(shape = (3, 2)))\n",
    "\n",
    "sess = tf.Session()\n",
    "\n",
    "# 非常重要 !\n",
    "sess.run(tf.global_variables_initializer())\n",
    "\n",
    "a_value = sess.run(a)\n",
    "b_value = sess.run(b)\n",
    "\n",
    "print(a_value)\n",
    "print(b_value)"
   ]
  },
  {
   "cell_type": "markdown",
   "metadata": {},
   "source": [
    "tf.Variable() 的察看方法和 tf.constant() 差不多，但是它多了一行 `sess.run(tf.global_variables_initializer())`，如果少了這一行的話程式會發生錯誤，可以注意到由於 b 是使用隨機附值的方式，所以印出來的數值為亂數\n",
    "\n",
    "接著是察看 tf.placeholder() 的方法："
   ]
  },
  {
   "cell_type": "code",
   "execution_count": 9,
   "metadata": {},
   "outputs": [
    {
     "name": "stdout",
     "output_type": "stream",
     "text": [
      "[[1 2]\n",
      " [3 4]]\n",
      "[[5 6]\n",
      " [7 8]]\n",
      "[[1 2]\n",
      " [3 4]]\n",
      "[[ 5  6]\n",
      " [ 7  8]\n",
      " [ 9 10]]\n"
     ]
    }
   ],
   "source": [
    "a = tf.placeholder(tf.int32, shape = (2, 2))\n",
    "b = tf.placeholder(tf.int32, shape = (None, 2))\n",
    "\n",
    "sess = tf.Session()\n",
    "\n",
    "a_value_1 = sess.run(a, feed_dict = {a: [[1,2],[3,4]]})\n",
    "a_value_2 = sess.run(a, feed_dict = {a: [[5,6],[7,8]]})\n",
    "\n",
    "# shape = (2, 2)\n",
    "b_value_1 = sess.run(b, feed_dict = {b: [[1,2],[3,4]]})\n",
    "\n",
    "# shape = (3, 2)\n",
    "b_value_2 = sess.run(b, feed_dict = {b: [[5,6],[7,8], [9, 10]]})\n",
    "\n",
    "print(a_value_1)\n",
    "print(a_value_2)\n",
    "\n",
    "print(b_value_1)\n",
    "print(b_value_2)"
   ]
  },
  {
   "cell_type": "markdown",
   "metadata": {},
   "source": [
    "從上面程式碼可以到，透過在 sess.run() 中加入 feed_dict 的參數來給 tf.placeholder() 數值，同時也可以注意一下由於 b 一開始 shape 為 (None, 2) 所以可以給它 shape 為 (2, 2) 或 (3, 2) 的矩陣"
   ]
  },
  {
   "cell_type": "markdown",
   "metadata": {},
   "source": [
    "## 4. 矩陣運算\n",
    "\n",
    "### 4.1 線性計算\n",
    "\n",
    "對於深度學習有初步認識的話，可以知道神經網路每層在經過激活 (activate) 之前會有一個矩陣運算：\n",
    "\n",
    "$Output = X \\times Weight + Bias$\n",
    "\n",
    "這條數學式中用到了矩陣乘法跟矩陣加法，而 Tensorflow 中可以使用 tf.matmul() 做矩陣乘法，矩陣加法則可以用 + 來做，具體程式碼如下："
   ]
  },
  {
   "cell_type": "code",
   "execution_count": 10,
   "metadata": {},
   "outputs": [
    {
     "name": "stdout",
     "output_type": "stream",
     "text": [
      "[[ 23 -26]]\n"
     ]
    }
   ],
   "source": [
    "x = tf.constant([[1, 2, 3]])\n",
    "weight = tf.Variable([[1, -2], [3, -4], [5, -6]])\n",
    "bias = tf.Variable([1, 2])\n",
    "\n",
    "output = tf.matmul(x, weight) + bias\n",
    "\n",
    "sess = tf.Session()\n",
    "sess.run(tf.global_variables_initializer())\n",
    "\n",
    "print(sess.run(output))"
   ]
  },
  {
   "cell_type": "markdown",
   "metadata": {},
   "source": [
    "上面的程式碼可以用數學表示如下：\n",
    "\n",
    "$\n",
    "Output = \n",
    "\\begin{bmatrix}\n",
    "    1 & 2 & 3\n",
    "\\end{bmatrix}\n",
    "\\times\n",
    "\\begin{bmatrix}\n",
    "    1 & -2 \\\\\n",
    "    3 & -4 \\\\\n",
    "    5 & -6\n",
    "\\end{bmatrix}\n",
    "+\n",
    "\\begin{bmatrix}\n",
    "    1 & 2\n",
    "\\end{bmatrix}\n",
    "$\n",
    "\n",
    "而計算出來的結果就是 [23, -26]"
   ]
  },
  {
   "cell_type": "markdown",
   "metadata": {},
   "source": [
    "### 4.2 激活函數\n",
    "\n",
    "神經網路每層線性計算後會經過激活的階段，Tensorflow 也有提供對應的方法來直接計算激活後的結果，將上一小節程式碼加入激活函數："
   ]
  },
  {
   "cell_type": "code",
   "execution_count": 11,
   "metadata": {},
   "outputs": [
    {
     "name": "stdout",
     "output_type": "stream",
     "text": [
      "[[ 23.   0.]]\n"
     ]
    }
   ],
   "source": [
    "x = tf.constant([[1, 2, 3]], dtype = tf.float32)\n",
    "weight = tf.Variable([[1, -2], [3, -4], [5, -6]], dtype = tf.float32)\n",
    "bias = tf.Variable([1, 2], dtype = tf.float32)\n",
    "\n",
    "output = tf.matmul(x, weight) + bias\n",
    "\n",
    "# 使用 Relu 激活函數\n",
    "activate = tf.nn.relu(output)\n",
    "\n",
    "sess = tf.Session()\n",
    "sess.run(tf.global_variables_initializer())\n",
    "\n",
    "print(sess.run(activate))"
   ]
  },
  {
   "cell_type": "markdown",
   "metadata": {},
   "source": [
    "上面的程式碼使用了 tf.nn.relu() 來做為激活函數，而 relu 會將所有小於 0 的值自動設為 0，大於 0 的值則不變，所以輸出結果從 [23, -26] 變成 [23, 0]，除了 relu 以外還有兩個常見的激活函數，可以試著替換 tf.nn.relu() 並觀察輸出：\n",
    "\n",
    "- Sigmoid：tf.nn.sigmoid()\n",
    "- Tanh：tf.nn.tanh()"
   ]
  },
  {
   "cell_type": "markdown",
   "metadata": {},
   "source": [
    "## 5. 神經網路\n",
    "\n",
    "上一小節說明了如何用 Tensorflow 建構神經網路，接著要利用 MNIST 資料集來訓練一個可以辨識手寫數字的神經網路\n",
    "\n",
    "### 5.1 MNIST 資料集\n",
    "\n",
    "MNIST 資料集裡面總共有 70000 張數字 0 至 9 的手寫數字，每一張皆為 28 pixels x 28 pixels　的黑白圖片，Tensorflow 有提供現成的工具可以很輕易地拿到這個資料集，具體程式碼如下："
   ]
  },
  {
   "cell_type": "code",
   "execution_count": 12,
   "metadata": {},
   "outputs": [
    {
     "name": "stdout",
     "output_type": "stream",
     "text": [
      "WARNING:tensorflow:From <ipython-input-12-a248cada661c>:3: read_data_sets (from tensorflow.contrib.learn.python.learn.datasets.mnist) is deprecated and will be removed in a future version.\n",
      "Instructions for updating:\n",
      "Please use alternatives such as official/mnist/dataset.py from tensorflow/models.\n",
      "WARNING:tensorflow:From /usr/local/lib/python3.5/site-packages/tensorflow/contrib/learn/python/learn/datasets/mnist.py:260: maybe_download (from tensorflow.contrib.learn.python.learn.datasets.base) is deprecated and will be removed in a future version.\n",
      "Instructions for updating:\n",
      "Please write your own downloading logic.\n",
      "WARNING:tensorflow:From /usr/local/lib/python3.5/site-packages/tensorflow/contrib/learn/python/learn/datasets/mnist.py:262: extract_images (from tensorflow.contrib.learn.python.learn.datasets.mnist) is deprecated and will be removed in a future version.\n",
      "Instructions for updating:\n",
      "Please use tf.data to implement this functionality.\n",
      "Extracting MNIST_data/train-images-idx3-ubyte.gz\n",
      "WARNING:tensorflow:From /usr/local/lib/python3.5/site-packages/tensorflow/contrib/learn/python/learn/datasets/mnist.py:267: extract_labels (from tensorflow.contrib.learn.python.learn.datasets.mnist) is deprecated and will be removed in a future version.\n",
      "Instructions for updating:\n",
      "Please use tf.data to implement this functionality.\n",
      "Extracting MNIST_data/train-labels-idx1-ubyte.gz\n",
      "WARNING:tensorflow:From /usr/local/lib/python3.5/site-packages/tensorflow/contrib/learn/python/learn/datasets/mnist.py:110: dense_to_one_hot (from tensorflow.contrib.learn.python.learn.datasets.mnist) is deprecated and will be removed in a future version.\n",
      "Instructions for updating:\n",
      "Please use tf.one_hot on tensors.\n",
      "Extracting MNIST_data/t10k-images-idx3-ubyte.gz\n",
      "Extracting MNIST_data/t10k-labels-idx1-ubyte.gz\n",
      "WARNING:tensorflow:From /usr/local/lib/python3.5/site-packages/tensorflow/contrib/learn/python/learn/datasets/mnist.py:290: DataSet.__init__ (from tensorflow.contrib.learn.python.learn.datasets.mnist) is deprecated and will be removed in a future version.\n",
      "Instructions for updating:\n",
      "Please use alternatives such as official/mnist/dataset.py from tensorflow/models.\n"
     ]
    }
   ],
   "source": [
    "from tensorflow.examples.tutorials.mnist import input_data\n",
    "\n",
    "mnist = input_data.read_data_sets(\"MNIST_data/\", one_hot=True)\n",
    "\n",
    "# 從訓練資料中隨機拿取 100 張圖片以及其對應的標籤\n",
    "image_batch, label_batch = mnist.train.next_batch(100)\n",
    "\n",
    "# 取得所有測試用資料的照片\n",
    "full_test_data_images = mnist.test.images\n",
    "\n",
    "# 取得所有測試用資料的標籤\n",
    "full_test_data_labels = mnist.test.labels"
   ]
  },
  {
   "cell_type": "markdown",
   "metadata": {},
   "source": [
    "可以看看 MNIST 資料集的內容："
   ]
  },
  {
   "cell_type": "code",
   "execution_count": 13,
   "metadata": {},
   "outputs": [
    {
     "data": {
      "image/png": "[encoded data removed]",
      "text/plain": [
       "<matplotlib.figure.Figure at 0x7f6474d04198>"
      ]
     },
     "metadata": {},
     "output_type": "display_data"
    },
    {
     "data": {
      "image/png": "[encoded data removed]",
      "text/plain": [
       "<matplotlib.figure.Figure at 0x7f646d0098d0>"
      ]
     },
     "metadata": {},
     "output_type": "display_data"
    },
    {
     "data": {
      "image/png": "[encoded data removed]",
      "text/plain": [
       "<matplotlib.figure.Figure at 0x7f646cfbb278>"
      ]
     },
     "metadata": {},
     "output_type": "display_data"
    },
    {
     "data": {
      "image/png": "[encoded data removed]",
      "text/plain": [
       "<matplotlib.figure.Figure at 0x7f646cfddc50>"
      ]
     },
     "metadata": {},
     "output_type": "display_data"
    },
    {
     "data": {
      "image/png": "[encoded data removed]",
      "text/plain": [
       "<matplotlib.figure.Figure at 0x7f646cfeb3c8>"
      ]
     },
     "metadata": {},
     "output_type": "display_data"
    },
    {
     "data": {
      "image/png": "[encoded data removed]",
      "text/plain": [
       "<matplotlib.figure.Figure at 0x7f646cf26d30>"
      ]
     },
     "metadata": {},
     "output_type": "display_data"
    },
    {
     "data": {
      "image/png": "[encoded data removed]",
      "text/plain": [
       "<matplotlib.figure.Figure at 0x7f646cf4da58>"
      ]
     },
     "metadata": {},
     "output_type": "display_data"
    },
    {
     "data": {
      "image/png": "[encoded data removed]",
      "text/plain": [
       "<matplotlib.figure.Figure at 0x7f646cefa710>"
      ]
     },
     "metadata": {},
     "output_type": "display_data"
    },
    {
     "data": {
      "image/png": "[encoded data removed]",
      "text/plain": [
       "<matplotlib.figure.Figure at 0x7f646cf590f0>"
      ]
     },
     "metadata": {},
     "output_type": "display_data"
    },
    {
     "data": {
      "image/png": "[encoded data removed]",
      "text/plain": [
       "<matplotlib.figure.Figure at 0x7f646cec51d0>"
      ]
     },
     "metadata": {},
     "output_type": "display_data"
    }
   ],
   "source": [
    "import numpy as np\n",
    "import matplotlib.pyplot as plt\n",
    "%matplotlib inline\n",
    "\n",
    "trainimg = mnist.train.images\n",
    "trainlabel = mnist.train.labels\n",
    "\n",
    "for i in range(10):\n",
    "    curr_img   = np.reshape(trainimg[i, :], (28, 28))\n",
    "    curr_label = np.argmax(trainlabel[i, :] )\n",
    "    plt.matshow(curr_img, cmap=plt.get_cmap('gray'))\n",
    "    plt.title(\"\" + str(i + 1) + \"th Training Data \" + \"Label is \" + str(curr_label))"
   ]
  },
  {
   "cell_type": "markdown",
   "metadata": {},
   "source": [
    "這些資料集的數據會以矩陣形式存在，可以來看看他們的 shape："
   ]
  },
  {
   "cell_type": "code",
   "execution_count": 14,
   "metadata": {},
   "outputs": [
    {
     "name": "stdout",
     "output_type": "stream",
     "text": [
      "(100, 784)\n",
      "(100, 10)\n"
     ]
    }
   ],
   "source": [
    "x_batch, y_batch = mnist.train.next_batch(100)\n",
    "\n",
    "print(x_batch.shape)\n",
    "print(y_batch.shape)"
   ]
  },
  {
   "cell_type": "markdown",
   "metadata": {},
   "source": [
    "由於一次只拿出 100 筆資料，所以 shape 的第一個維度的大小為 100，而每張圖片的像素會以一連串的數列的形式保存，所以 x_batch 的第二個維度為 784 (28 x 28 = 784)，而 y_batch 的第二個維度則代表標籤的總類，也就是 10 個類別 (數字 0 ~ 9)，而它們已經做好 one-hot 編碼了"
   ]
  },
  {
   "cell_type": "markdown",
   "metadata": {},
   "source": [
    "### 5.2 訓練神經網路\n",
    "\n",
    "接著會附上訓練神經網路的程式碼："
   ]
  },
  {
   "cell_type": "code",
   "execution_count": 15,
   "metadata": {},
   "outputs": [
    {
     "name": "stdout",
     "output_type": "stream",
     "text": [
      "WARNING:tensorflow:From <ipython-input-15-f516495cb542>:17: softmax_cross_entropy_with_logits (from tensorflow.python.ops.nn_ops) is deprecated and will be removed in a future version.\n",
      "Instructions for updating:\n",
      "\n",
      "Future major versions of TensorFlow will allow gradients to flow\n",
      "into the labels input on backprop by default.\n",
      "\n",
      "See @{tf.nn.softmax_cross_entropy_with_logits_v2}.\n",
      "\n",
      "Step 100 training loss 2.307971\n",
      "Step 200 training loss 2.309554\n",
      "Step 300 training loss 2.307907\n",
      "Step 400 training loss 2.303197\n",
      "Step 500 training loss 2.305740\n",
      "Step 600 training loss 2.310738\n",
      "Step 700 training loss 2.308788\n",
      "Step 800 training loss 2.296139\n",
      "Step 900 training loss 2.233875\n",
      "Step 1000 training loss 2.156107\n",
      "Step 1100 training loss 2.048131\n",
      "Step 1200 training loss 1.968740\n",
      "Step 1300 training loss 1.852797\n",
      "Step 1400 training loss 1.725179\n",
      "Step 1500 training loss 1.612293\n",
      "Step 1600 training loss 1.475601\n",
      "Step 1700 training loss 1.328993\n",
      "Step 1800 training loss 1.202159\n",
      "Step 1900 training loss 1.094301\n",
      "Step 2000 training loss 0.994730\n",
      "=================\n",
      "Test accuracy: 0.812800\n"
     ]
    }
   ],
   "source": [
    "x = tf.placeholder(tf.float32, shape = (None, 784))\n",
    "y = tf.placeholder(tf.float32, shape = (None, 10))\n",
    "\n",
    "# 神經網路第一層\n",
    "layer_1_weight = tf.Variable(tf.random_uniform(shape = (784, 100)))\n",
    "layer_1_bias = tf.Variable(tf.random_uniform(shape = (100, )))\n",
    "\n",
    "layer_1_output = tf.nn.sigmoid(tf.matmul(x, layer_1_weight) + layer_1_bias)\n",
    "\n",
    "# 神經網路第二層\n",
    "layer_2_weight = tf.Variable(tf.random_uniform(shape = (100, 10)))\n",
    "layer_2_bias = tf.Variable(tf.random_uniform(shape = (10, )))\n",
    "\n",
    "layer_2_output = tf.matmul(layer_1_output, layer_2_weight) + layer_2_bias\n",
    "\n",
    "# 定義 loss function\n",
    "loss = tf.reduce_mean(tf.nn.softmax_cross_entropy_with_logits(labels = y, logits = layer_2_output))\n",
    "\n",
    "# 定義 accuracy\n",
    "correct_prediction = tf.equal(tf.argmax(y, 1), tf.argmax(layer_2_output, 1))\n",
    "accuracy = tf.reduce_mean(tf.cast(correct_prediction, tf.float32))\n",
    "\n",
    "# 定義 optimizer 以及 learning rate\n",
    "train_step = tf.train.AdamOptimizer(learning_rate = 0.001).minimize(loss)\n",
    "\n",
    "sess = tf.Session()\n",
    "sess.run(tf.global_variables_initializer())\n",
    "\n",
    "# 訓練 2000 次\n",
    "for i in range(1, 2001):\n",
    "    \n",
    "    # 每次訓練隨機選 100 筆資料放進神經網路\n",
    "    x_batch, y_batch = mnist.train.next_batch(100)\n",
    "    sess.run(train_step, feed_dict = {x: x_batch, y: y_batch})\n",
    "    \n",
    "    # 每訓練 100 次查看一次目前的 loss\n",
    "    if i % 100 == 0:\n",
    "        print('Step %d training loss %.6f' % (i, sess.run(loss, feed_dict = {x: mnist.train.images, y: mnist.train.labels})))\n",
    "        \n",
    "# 查看訓練完後的神經網路的準確率\n",
    "print('=================')\n",
    "print('Test accuracy: %.6f' % sess.run(accuracy, feed_dict = {x: mnist.test.images, y: mnist.test.labels}))"
   ]
  },
  {
   "cell_type": "markdown",
   "metadata": {},
   "source": [
    "可以看到以上的神經網路最後的準確率大約在 0.7 到 0.8，然而神經網路在 MNIST 上的準確率是可以到達 0.95 以上的，所以接下來請隨意修改上面的程式碼，使其準確率可以超過 0.9\n",
    "\n",
    "提示：\n",
    "\n",
    "- 增加神經網路的層數\n",
    "- 增加神經網路每層的神經元數量\n",
    "- 換一個激活函數\n",
    "- 調整 learning rate\n",
    "- 訓練久一點"
   ]
  },
  {
   "cell_type": "code",
   "execution_count": null,
   "metadata": {},
   "outputs": [],
   "source": []
  }
 ],
 "metadata": {
  "kernelspec": {
   "display_name": "Python 3",
   "language": "python",
   "name": "python3"
  },
  "language_info": {
   "codemirror_mode": {
    "name": "ipython",
    "version": 3
   },
   "file_extension": ".py",
   "mimetype": "text/x-python",
   "name": "python",
   "nbconvert_exporter": "python",
   "pygments_lexer": "ipython3",
   "version": "3.5.2"
  }
 },
 "nbformat": 4,
 "nbformat_minor": 2
}
